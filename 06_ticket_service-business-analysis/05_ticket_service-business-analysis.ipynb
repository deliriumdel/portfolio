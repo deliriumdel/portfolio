{
 "cells": [
  {
   "cell_type": "markdown",
   "metadata": {
    "colab_type": "text",
    "id": "AFm3y3ZWdr_e"
   },
   "source": [
    "# Проект:\n",
    "\n",
    "# Аналитика в сервисе по продаже билетов"
   ]
  },
  {
   "cell_type": "markdown",
   "metadata": {
    "colab_type": "text",
    "id": "SE5sPl-_dr_i"
   },
   "source": [
    "<font style=\"color:DeepPink; font-size:400%\">•</font> **Загрузим данные и подготовим их к анализу.**"
   ]
  },
  {
   "cell_type": "code",
   "execution_count": 0,
   "metadata": {
    "colab": {},
    "colab_type": "code",
    "id": "Y7scY2OPdr_j"
   },
   "outputs": [],
   "source": [
    "import pandas as pd\n",
    "visits = pd.read_csv('/datasets/visits_log.csv')\n",
    "orders = pd.read_csv('/datasets/orders_log.csv')\n",
    "costs = pd.read_csv('/datasets/costs.csv')"
   ]
  },
  {
   "cell_type": "code",
   "execution_count": 0,
   "metadata": {
    "colab": {},
    "colab_type": "code",
    "id": "ky_8jeVBdr_l"
   },
   "outputs": [],
   "source": [
    "# Приведем названия столбцов к единообразию (уберем пробелы, и заглавные буквы) и приведем столбцы с датами к формату дат\n",
    "\n",
    "visits.set_axis(['uid', 'device', 'end_ts', 'source_id', 'start_ts'], axis = 'columns', inplace = True)\n",
    "visits['end_ts'] = pd.to_datetime(visits['end_ts'], format='%d.%m.%Y %H:%M')\n",
    "visits['start_ts'] = pd.to_datetime(visits['start_ts'], format='%d.%m.%Y %H:%M')\n",
    "\n",
    "orders.columns = ['order_date', 'revenue', 'uid']\n",
    "orders['order_date'] = pd.to_datetime(orders['order_date'], format='%Y-%m-%d %H:%M:%S')\n",
    "\n",
    "costs['dt'] = pd.to_datetime(costs['dt'], format='%Y-%m-%d')"
   ]
  },
  {
   "cell_type": "code",
   "execution_count": 0,
   "metadata": {
    "colab": {},
    "colab_type": "code",
    "id": "8jiJ0yhXdr_n",
    "outputId": "3c7408c5-38c7-4a34-f8f0-dbfa13601f69"
   },
   "outputs": [
    {
     "data": {
      "text/html": [
       "<div>\n",
       "<style scoped>\n",
       "    .dataframe tbody tr th:only-of-type {\n",
       "        vertical-align: middle;\n",
       "    }\n",
       "\n",
       "    .dataframe tbody tr th {\n",
       "        vertical-align: top;\n",
       "    }\n",
       "\n",
       "    .dataframe thead th {\n",
       "        text-align: right;\n",
       "    }\n",
       "</style>\n",
       "<table border=\"1\" class=\"dataframe\">\n",
       "  <thead>\n",
       "    <tr style=\"text-align: right;\">\n",
       "      <th></th>\n",
       "      <th>uid</th>\n",
       "      <th>device</th>\n",
       "      <th>end_ts</th>\n",
       "      <th>source_id</th>\n",
       "      <th>start_ts</th>\n",
       "    </tr>\n",
       "  </thead>\n",
       "  <tbody>\n",
       "    <tr>\n",
       "      <th>0</th>\n",
       "      <td>16879256277535980062</td>\n",
       "      <td>touch</td>\n",
       "      <td>2017-12-20 17:38:00</td>\n",
       "      <td>4</td>\n",
       "      <td>2017-12-20 17:20:00</td>\n",
       "    </tr>\n",
       "    <tr>\n",
       "      <th>1</th>\n",
       "      <td>104060357244891740</td>\n",
       "      <td>desktop</td>\n",
       "      <td>2018-02-19 17:21:00</td>\n",
       "      <td>2</td>\n",
       "      <td>2018-02-19 16:53:00</td>\n",
       "    </tr>\n",
       "    <tr>\n",
       "      <th>2</th>\n",
       "      <td>7459035603376831527</td>\n",
       "      <td>touch</td>\n",
       "      <td>2017-07-01 01:54:00</td>\n",
       "      <td>5</td>\n",
       "      <td>2017-07-01 01:54:00</td>\n",
       "    </tr>\n",
       "    <tr>\n",
       "      <th>3</th>\n",
       "      <td>16174680259334210214</td>\n",
       "      <td>desktop</td>\n",
       "      <td>2018-05-20 11:23:00</td>\n",
       "      <td>9</td>\n",
       "      <td>2018-05-20 10:59:00</td>\n",
       "    </tr>\n",
       "    <tr>\n",
       "      <th>4</th>\n",
       "      <td>9969694820036681168</td>\n",
       "      <td>desktop</td>\n",
       "      <td>2017-12-27 14:06:00</td>\n",
       "      <td>3</td>\n",
       "      <td>2017-12-27 14:06:00</td>\n",
       "    </tr>\n",
       "  </tbody>\n",
       "</table>\n",
       "</div>"
      ],
      "text/plain": [
       "                    uid   device              end_ts  source_id  \\\n",
       "0  16879256277535980062    touch 2017-12-20 17:38:00          4   \n",
       "1    104060357244891740  desktop 2018-02-19 17:21:00          2   \n",
       "2   7459035603376831527    touch 2017-07-01 01:54:00          5   \n",
       "3  16174680259334210214  desktop 2018-05-20 11:23:00          9   \n",
       "4   9969694820036681168  desktop 2017-12-27 14:06:00          3   \n",
       "\n",
       "             start_ts  \n",
       "0 2017-12-20 17:20:00  \n",
       "1 2018-02-19 16:53:00  \n",
       "2 2017-07-01 01:54:00  \n",
       "3 2018-05-20 10:59:00  \n",
       "4 2017-12-27 14:06:00  "
      ]
     },
     "execution_count": 8,
     "metadata": {
      "tags": []
     },
     "output_type": "execute_result"
    }
   ],
   "source": [
    "visits.head()"
   ]
  },
  {
   "cell_type": "code",
   "execution_count": 0,
   "metadata": {
    "colab": {},
    "colab_type": "code",
    "id": "G0VAdOp1dr_q",
    "outputId": "6638088c-4b28-4f13-c278-3f0ce169a0c8",
    "scrolled": true
   },
   "outputs": [
    {
     "data": {
      "text/html": [
       "<div>\n",
       "<style scoped>\n",
       "    .dataframe tbody tr th:only-of-type {\n",
       "        vertical-align: middle;\n",
       "    }\n",
       "\n",
       "    .dataframe tbody tr th {\n",
       "        vertical-align: top;\n",
       "    }\n",
       "\n",
       "    .dataframe thead th {\n",
       "        text-align: right;\n",
       "    }\n",
       "</style>\n",
       "<table border=\"1\" class=\"dataframe\">\n",
       "  <thead>\n",
       "    <tr style=\"text-align: right;\">\n",
       "      <th></th>\n",
       "      <th>order_date</th>\n",
       "      <th>revenue</th>\n",
       "      <th>uid</th>\n",
       "    </tr>\n",
       "  </thead>\n",
       "  <tbody>\n",
       "    <tr>\n",
       "      <th>0</th>\n",
       "      <td>2017-06-01 00:10:00</td>\n",
       "      <td>17.00</td>\n",
       "      <td>10329302124590727494</td>\n",
       "    </tr>\n",
       "    <tr>\n",
       "      <th>1</th>\n",
       "      <td>2017-06-01 00:25:00</td>\n",
       "      <td>0.55</td>\n",
       "      <td>11627257723692907447</td>\n",
       "    </tr>\n",
       "    <tr>\n",
       "      <th>2</th>\n",
       "      <td>2017-06-01 00:27:00</td>\n",
       "      <td>0.37</td>\n",
       "      <td>17903680561304213844</td>\n",
       "    </tr>\n",
       "    <tr>\n",
       "      <th>3</th>\n",
       "      <td>2017-06-01 00:29:00</td>\n",
       "      <td>0.55</td>\n",
       "      <td>16109239769442553005</td>\n",
       "    </tr>\n",
       "    <tr>\n",
       "      <th>4</th>\n",
       "      <td>2017-06-01 07:58:00</td>\n",
       "      <td>0.37</td>\n",
       "      <td>14200605875248379450</td>\n",
       "    </tr>\n",
       "  </tbody>\n",
       "</table>\n",
       "</div>"
      ],
      "text/plain": [
       "           order_date  revenue                   uid\n",
       "0 2017-06-01 00:10:00    17.00  10329302124590727494\n",
       "1 2017-06-01 00:25:00     0.55  11627257723692907447\n",
       "2 2017-06-01 00:27:00     0.37  17903680561304213844\n",
       "3 2017-06-01 00:29:00     0.55  16109239769442553005\n",
       "4 2017-06-01 07:58:00     0.37  14200605875248379450"
      ]
     },
     "execution_count": 9,
     "metadata": {
      "tags": []
     },
     "output_type": "execute_result"
    }
   ],
   "source": [
    "orders.head()"
   ]
  },
  {
   "cell_type": "code",
   "execution_count": 0,
   "metadata": {
    "colab": {},
    "colab_type": "code",
    "id": "ZjIDIIkwdr_r",
    "outputId": "4b08eb12-6958-4ae0-d50b-8d63dff3801f",
    "scrolled": true
   },
   "outputs": [
    {
     "data": {
      "text/html": [
       "<div>\n",
       "<style scoped>\n",
       "    .dataframe tbody tr th:only-of-type {\n",
       "        vertical-align: middle;\n",
       "    }\n",
       "\n",
       "    .dataframe tbody tr th {\n",
       "        vertical-align: top;\n",
       "    }\n",
       "\n",
       "    .dataframe thead th {\n",
       "        text-align: right;\n",
       "    }\n",
       "</style>\n",
       "<table border=\"1\" class=\"dataframe\">\n",
       "  <thead>\n",
       "    <tr style=\"text-align: right;\">\n",
       "      <th></th>\n",
       "      <th>source_id</th>\n",
       "      <th>dt</th>\n",
       "      <th>costs</th>\n",
       "    </tr>\n",
       "  </thead>\n",
       "  <tbody>\n",
       "    <tr>\n",
       "      <th>0</th>\n",
       "      <td>1</td>\n",
       "      <td>2017-06-01</td>\n",
       "      <td>75.20</td>\n",
       "    </tr>\n",
       "    <tr>\n",
       "      <th>1</th>\n",
       "      <td>1</td>\n",
       "      <td>2017-06-02</td>\n",
       "      <td>62.25</td>\n",
       "    </tr>\n",
       "    <tr>\n",
       "      <th>2</th>\n",
       "      <td>1</td>\n",
       "      <td>2017-06-03</td>\n",
       "      <td>36.53</td>\n",
       "    </tr>\n",
       "    <tr>\n",
       "      <th>3</th>\n",
       "      <td>1</td>\n",
       "      <td>2017-06-04</td>\n",
       "      <td>55.00</td>\n",
       "    </tr>\n",
       "    <tr>\n",
       "      <th>4</th>\n",
       "      <td>1</td>\n",
       "      <td>2017-06-05</td>\n",
       "      <td>57.08</td>\n",
       "    </tr>\n",
       "  </tbody>\n",
       "</table>\n",
       "</div>"
      ],
      "text/plain": [
       "   source_id         dt  costs\n",
       "0          1 2017-06-01  75.20\n",
       "1          1 2017-06-02  62.25\n",
       "2          1 2017-06-03  36.53\n",
       "3          1 2017-06-04  55.00\n",
       "4          1 2017-06-05  57.08"
      ]
     },
     "execution_count": 10,
     "metadata": {
      "tags": []
     },
     "output_type": "execute_result"
    }
   ],
   "source": [
    "costs.head()"
   ]
  },
  {
   "cell_type": "markdown",
   "metadata": {
    "colab_type": "text",
    "id": "qAzTkbf2dr_t"
   },
   "source": [
    "<font style=\"color:#39B3E5; font-size:400%\">•</font> **Построим отчеты и метрики**"
   ]
  },
  {
   "cell_type": "markdown",
   "metadata": {
    "colab_type": "text",
    "id": "xD84zAZhdr_u"
   },
   "source": [
    "<font style=\"color:#92D3EE; font-size:200%\">•</font> **Продукт**"
   ]
  },
  {
   "cell_type": "markdown",
   "metadata": {
    "colab_type": "text",
    "id": "SAZooMY9dr_v"
   },
   "source": [
    "<font style=\"color:#92D3EE; font-size:200%\">•</font> Сколько людей пользуются в день, неделю, месяц?"
   ]
  },
  {
   "cell_type": "code",
   "execution_count": 0,
   "metadata": {
    "colab": {},
    "colab_type": "code",
    "id": "ecsFpUEwdr_v",
    "scrolled": false
   },
   "outputs": [],
   "source": [
    "#создадим столбцы с годом, месяцем, неделей и датой начала сессии\n",
    "visits['year'] = visits['start_ts'].dt.year\n",
    "visits['month'] = visits['start_ts'].dt.month\n",
    "visits['week'] = visits['start_ts'].dt.week\n",
    "visits['date'] = visits['start_ts'].astype('datetime64[D]')"
   ]
  },
  {
   "cell_type": "markdown",
   "metadata": {
    "colab_type": "text",
    "id": "180rB0Fudr_x"
   },
   "source": [
    "Рассчитаем:  \n",
    "* DAU *(от англ. daily active users)* — количество уникальных пользователей в день;\n",
    "* WAU *(от англ. weekly active users)* — количество уникальных пользователей в неделю;\n",
    "* MAU *(от англ. monthly active users)* — количество уникальных пользователей в месяц.\n"
   ]
  },
  {
   "cell_type": "code",
   "execution_count": 0,
   "metadata": {
    "colab": {},
    "colab_type": "code",
    "id": "t1eQyBzsdr_y",
    "outputId": "a87b31d3-3a94-4ca7-8237-7d5a179a12a2",
    "scrolled": true
   },
   "outputs": [
    {
     "data": {
      "text/plain": [
       "Text(0.5, 1.0, 'DAU')"
      ]
     },
     "execution_count": 12,
     "metadata": {
      "tags": []
     },
     "output_type": "execute_result"
    },
    {
     "data": {
      "image/png": "[encoded data removed]",
      "text/plain": [
       "<Figure size 1152x360 with 1 Axes>"
      ]
     },
     "metadata": {
      "needs_background": "light",
      "tags": []
     },
     "output_type": "display_data"
    }
   ],
   "source": [
    "dau_df = visits.groupby('date').agg({'uid': 'nunique'})\n",
    "dau_df.plot(style='-', y='uid', figsize=(16, 5))\n",
    "\n",
    "import matplotlib.pyplot as plt\n",
    "plt.style.use('seaborn-darkgrid')\n",
    "plt.title('DAU')"
   ]
  },
  {
   "cell_type": "markdown",
   "metadata": {
    "colab_type": "text",
    "id": "l5EeawOWdr_1"
   },
   "source": [
    "В конце ноября 2017 был всплеск количества уникальных пользователей в день, в конце марта 2018 провал."
   ]
  },
  {
   "cell_type": "code",
   "execution_count": 0,
   "metadata": {
    "colab": {},
    "colab_type": "code",
    "id": "8bZgpI34dr_2",
    "scrolled": true
   },
   "outputs": [],
   "source": [
    "# WAU не будем печатать, график рваный и неинформативный\n",
    "wau_df = visits.groupby(['year', 'week']).agg({'uid': 'nunique'})\n",
    "#wau_df.plot(style='-', y='uid', figsize=(16, 5))\n",
    "#plt.title('WAU')"
   ]
  },
  {
   "cell_type": "code",
   "execution_count": 0,
   "metadata": {
    "colab": {},
    "colab_type": "code",
    "id": "0KJ5Y1Srdr_3",
    "outputId": "bab11258-8115-445b-f2bc-5b8e5ccc77b9",
    "scrolled": true
   },
   "outputs": [
    {
     "data": {
      "text/plain": [
       "Text(0.5, 1.0, 'MAU')"
      ]
     },
     "execution_count": 15,
     "metadata": {
      "tags": []
     },
     "output_type": "execute_result"
    },
    {
     "data": {
      "image/png": "[encoded data removed]",
      "text/plain": [
       "<Figure size 1152x360 with 1 Axes>"
      ]
     },
     "metadata": {
      "tags": []
     },
     "output_type": "display_data"
    }
   ],
   "source": [
    "mau_df = visits.groupby(['year', 'month']).agg({'uid': 'nunique'})\n",
    "mau_df.plot(style='-', y='uid', figsize=(16, 5))\n",
    "plt.title('MAU')"
   ]
  },
  {
   "cell_type": "markdown",
   "metadata": {
    "colab_type": "text",
    "id": "LRwYpANRdr_7"
   },
   "source": [
    "В количестве уникальных посетителей в месяц:\n",
    "* есть минимум в августе 2017 до 11 631, \n",
    "* пик в ноябре 2018 до 32 797,  \n",
    "после чего выходит на ровное плато ~ 20 000 уникальных посетителей в месяц. "
   ]
  },
  {
   "cell_type": "code",
   "execution_count": 0,
   "metadata": {
    "colab": {},
    "colab_type": "code",
    "id": "BU5M__SRdr_8"
   },
   "outputs": [],
   "source": [
    "dau_total = dau_df.mean()\n",
    "wau_total = wau_df.mean()\n",
    "mau_total = mau_df.mean()"
   ]
  },
  {
   "cell_type": "code",
   "execution_count": 0,
   "metadata": {
    "colab": {},
    "colab_type": "code",
    "id": "xFMcq9z_dr_9",
    "outputId": "1f13c8a5-e2bd-4a69-b4c4-b3d149e8badc"
   },
   "outputs": [
    {
     "name": "stdout",
     "output_type": "stream",
     "text": [
      "Средний dau: 907\n",
      "Средний wau: 5716\n",
      "Средний mau: 23228\n"
     ]
    }
   ],
   "source": [
    "print('Средний dau: {}'.format(int(dau_total)))\n",
    "print('Средний wau: {}'.format(int(wau_total)))\n",
    "print('Средний mau: {}'.format(int(mau_total)))"
   ]
  },
  {
   "cell_type": "markdown",
   "metadata": {
    "colab_type": "text",
    "id": "CSUXV3iKdr__"
   },
   "source": [
    "Посмотрим, как часто пользователи обращаются к приложению. Для этого рассчитаем sticky factor.  "
   ]
  },
  {
   "cell_type": "code",
   "execution_count": 0,
   "metadata": {
    "colab": {},
    "colab_type": "code",
    "id": "-_CWRLEKdsAA",
    "outputId": "f6fe8c48-d470-4109-bb3d-f220f81ef88e"
   },
   "outputs": [
    {
     "name": "stdout",
     "output_type": "stream",
     "text": [
      "Sticky factor wau: uid    15.884409\n",
      "dtype: float64\n",
      "Sticky factor mau: uid    3.90897\n",
      "dtype: float64\n"
     ]
    }
   ],
   "source": [
    "sticky_wau = dau_total / wau_total *100\n",
    "sticky_mau = dau_total / mau_total *100\n",
    "\n",
    "print('Sticky factor wau: {}'.format(sticky_wau))\n",
    "print('Sticky factor mau: {}'.format(sticky_mau))"
   ]
  },
  {
   "cell_type": "markdown",
   "metadata": {
    "colab_type": "text",
    "id": "gOgwtIiddsAC"
   },
   "source": [
    "16% пользователей заходят в приложение каждую неделю, 4% каждый месяц."
   ]
  },
  {
   "cell_type": "markdown",
   "metadata": {
    "colab_type": "text",
    "id": "CdVOBzzVdsAC"
   },
   "source": [
    "<font style=\"color:#92D3EE; font-size:200%\">•</font> Сколько сессий в день?"
   ]
  },
  {
   "cell_type": "code",
   "execution_count": 0,
   "metadata": {
    "colab": {},
    "colab_type": "code",
    "id": "yvgR9YMjdsAD",
    "outputId": "ba9c5b57-b366-44a8-e0c9-343b7bf5f682",
    "scrolled": true
   },
   "outputs": [
    {
     "data": {
      "text/html": [
       "<div>\n",
       "<style scoped>\n",
       "    .dataframe tbody tr th:only-of-type {\n",
       "        vertical-align: middle;\n",
       "    }\n",
       "\n",
       "    .dataframe tbody tr th {\n",
       "        vertical-align: top;\n",
       "    }\n",
       "\n",
       "    .dataframe thead th {\n",
       "        text-align: right;\n",
       "    }\n",
       "</style>\n",
       "<table border=\"1\" class=\"dataframe\">\n",
       "  <thead>\n",
       "    <tr style=\"text-align: right;\">\n",
       "      <th></th>\n",
       "      <th>n_sessions</th>\n",
       "      <th>n_users</th>\n",
       "      <th>sess_per_user</th>\n",
       "    </tr>\n",
       "    <tr>\n",
       "      <th>date</th>\n",
       "      <th></th>\n",
       "      <th></th>\n",
       "      <th></th>\n",
       "    </tr>\n",
       "  </thead>\n",
       "  <tbody>\n",
       "    <tr>\n",
       "      <th>2017-06-01</th>\n",
       "      <td>661</td>\n",
       "      <td>605</td>\n",
       "      <td>1.092562</td>\n",
       "    </tr>\n",
       "    <tr>\n",
       "      <th>2017-06-02</th>\n",
       "      <td>653</td>\n",
       "      <td>608</td>\n",
       "      <td>1.074013</td>\n",
       "    </tr>\n",
       "    <tr>\n",
       "      <th>2017-06-03</th>\n",
       "      <td>476</td>\n",
       "      <td>445</td>\n",
       "      <td>1.069663</td>\n",
       "    </tr>\n",
       "    <tr>\n",
       "      <th>2017-06-04</th>\n",
       "      <td>508</td>\n",
       "      <td>476</td>\n",
       "      <td>1.067227</td>\n",
       "    </tr>\n",
       "    <tr>\n",
       "      <th>2017-06-05</th>\n",
       "      <td>887</td>\n",
       "      <td>820</td>\n",
       "      <td>1.081707</td>\n",
       "    </tr>\n",
       "  </tbody>\n",
       "</table>\n",
       "</div>"
      ],
      "text/plain": [
       "            n_sessions  n_users  sess_per_user\n",
       "date                                          \n",
       "2017-06-01         661      605       1.092562\n",
       "2017-06-02         653      608       1.074013\n",
       "2017-06-03         476      445       1.069663\n",
       "2017-06-04         508      476       1.067227\n",
       "2017-06-05         887      820       1.081707"
      ]
     },
     "execution_count": 20,
     "metadata": {
      "tags": []
     },
     "output_type": "execute_result"
    }
   ],
   "source": [
    "# Посчитаем количество уникальных пользователей и сессий в день\n",
    "\n",
    "sessions_per_user = visits.groupby(['date']).agg({'uid': ['count','nunique']})\n",
    "sessions_per_user.columns = ['n_sessions', 'n_users']\n",
    "\n",
    "# Посчитаем среднееколичество сессий на пользователя\n",
    "\n",
    "sessions_per_user['sess_per_user'] = sessions_per_user['n_sessions'] / sessions_per_user['n_users']\n",
    "sessions_per_user.head()"
   ]
  },
  {
   "cell_type": "code",
   "execution_count": 0,
   "metadata": {
    "colab": {},
    "colab_type": "code",
    "id": "jshoW0IvdsAF",
    "outputId": "46e17266-98fb-4660-8efa-d6ed8729be7c",
    "scrolled": true
   },
   "outputs": [
    {
     "data": {
      "text/plain": [
       "<matplotlib.axes._subplots.AxesSubplot at 0x7ff926813c50>"
      ]
     },
     "execution_count": 21,
     "metadata": {
      "tags": []
     },
     "output_type": "execute_result"
    },
    {
     "data": {
      "image/png": "[encoded data removed]",
      "text/plain": [
       "<Figure size 432x288 with 1 Axes>"
      ]
     },
     "metadata": {
      "tags": []
     },
     "output_type": "display_data"
    }
   ],
   "source": [
    "# посмотрим на боксплот среднего количества сессий на пользователя\n",
    "\n",
    "sessions_per_user[['sess_per_user']].boxplot()"
   ]
  },
  {
   "cell_type": "markdown",
   "metadata": {
    "colab_type": "text",
    "id": "tkDNz2svdsAI"
   },
   "source": [
    "Один пользователь заходит в приложение в среднем один раз в день."
   ]
  },
  {
   "cell_type": "markdown",
   "metadata": {
    "colab_type": "text",
    "id": "AE4MbX5KdsAK"
   },
   "source": [
    "<font style=\"color:#92D3EE; font-size:200%\">•</font> Сколько длится одна сессия?"
   ]
  },
  {
   "cell_type": "code",
   "execution_count": 0,
   "metadata": {
    "colab": {},
    "colab_type": "code",
    "id": "ufeAzH3ydsAL",
    "scrolled": true
   },
   "outputs": [],
   "source": [
    "# Посчитаем длину всех сессий в секундах\n",
    "visits['session_duration_sec'] = (visits['end_ts'] - visits['start_ts']).dt.seconds"
   ]
  },
  {
   "cell_type": "markdown",
   "metadata": {
    "colab_type": "text",
    "id": "NW76uHR0dsAN"
   },
   "source": [
    "Посмотрим на распределение значений."
   ]
  },
  {
   "cell_type": "code",
   "execution_count": 0,
   "metadata": {
    "colab": {},
    "colab_type": "code",
    "id": "R8PZWLRndsAO",
    "outputId": "c239d185-6f8a-4e60-8117-58dbed47fcb3"
   },
   "outputs": [
    {
     "data": {
      "image/png": "[encoded data removed]",
      "text/plain": [
       "<Figure size 720x720 with 2 Axes>"
      ]
     },
     "metadata": {
      "tags": []
     },
     "output_type": "display_data"
    }
   ],
   "source": [
    "plt.subplots(figsize = (10, 10))\n",
    "plot = (visits['session_duration_sec']\n",
    "        .hist(bins=100, ax = plt.subplot(2, 1, 1))\n",
    "       )\n",
    "plot = (visits[['session_duration_sec']]\n",
    "        .boxplot(vert=False, ax = plt.subplot(2, 1, 2))\n",
    "       )"
   ]
  },
  {
   "cell_type": "markdown",
   "metadata": {
    "colab_type": "text",
    "id": "hX91nbQedsAR"
   },
   "source": [
    "Когда распределение близко к нормальному или нормальное — можно смотреть на среднюю или медиану. Наше — не из таких, рассчитаем моду (значение в выборке, которое встречается чаще всего):"
   ]
  },
  {
   "cell_type": "code",
   "execution_count": 0,
   "metadata": {
    "colab": {},
    "colab_type": "code",
    "id": "TCjyijBLdsAR",
    "outputId": "1329347a-b0db-46c7-f422-24f92b42934a"
   },
   "outputs": [
    {
     "data": {
      "text/html": [
       "<div>\n",
       "<style scoped>\n",
       "    .dataframe tbody tr th:only-of-type {\n",
       "        vertical-align: middle;\n",
       "    }\n",
       "\n",
       "    .dataframe tbody tr th {\n",
       "        vertical-align: top;\n",
       "    }\n",
       "\n",
       "    .dataframe thead th {\n",
       "        text-align: right;\n",
       "    }\n",
       "</style>\n",
       "<table border=\"1\" class=\"dataframe\">\n",
       "  <thead>\n",
       "    <tr style=\"text-align: right;\">\n",
       "      <th></th>\n",
       "      <th>session_duration_sec</th>\n",
       "    </tr>\n",
       "  </thead>\n",
       "  <tbody>\n",
       "    <tr>\n",
       "      <th>0</th>\n",
       "      <td>60</td>\n",
       "    </tr>\n",
       "  </tbody>\n",
       "</table>\n",
       "</div>"
      ],
      "text/plain": [
       "   session_duration_sec\n",
       "0                    60"
      ]
     },
     "execution_count": 24,
     "metadata": {
      "tags": []
     },
     "output_type": "execute_result"
    }
   ],
   "source": [
    "visits[['session_duration_sec']].mode()"
   ]
  },
  {
   "cell_type": "markdown",
   "metadata": {
    "colab_type": "text",
    "id": "FHgJoUVAdsAT"
   },
   "source": [
    "По моде сессия длится 1 минуту."
   ]
  },
  {
   "cell_type": "markdown",
   "metadata": {
    "colab_type": "text",
    "id": "R-WccLWDdsAT"
   },
   "source": [
    "Также на гистограмме видно, что у нас достаточно много сессий продолжительностью 0 сек. Посмотрим на них."
   ]
  },
  {
   "cell_type": "code",
   "execution_count": 0,
   "metadata": {
    "colab": {},
    "colab_type": "code",
    "id": "fgaZNNnvdsAU",
    "outputId": "52405be8-1610-4eaa-b986-e5559db89c01"
   },
   "outputs": [
    {
     "data": {
      "text/html": [
       "<div>\n",
       "<style scoped>\n",
       "    .dataframe tbody tr th:only-of-type {\n",
       "        vertical-align: middle;\n",
       "    }\n",
       "\n",
       "    .dataframe tbody tr th {\n",
       "        vertical-align: top;\n",
       "    }\n",
       "\n",
       "    .dataframe thead th {\n",
       "        text-align: right;\n",
       "    }\n",
       "</style>\n",
       "<table border=\"1\" class=\"dataframe\">\n",
       "  <thead>\n",
       "    <tr style=\"text-align: right;\">\n",
       "      <th></th>\n",
       "      <th>uid</th>\n",
       "      <th>device</th>\n",
       "      <th>end_ts</th>\n",
       "      <th>source_id</th>\n",
       "      <th>start_ts</th>\n",
       "      <th>year</th>\n",
       "      <th>month</th>\n",
       "      <th>week</th>\n",
       "      <th>date</th>\n",
       "      <th>session_duration_sec</th>\n",
       "    </tr>\n",
       "  </thead>\n",
       "  <tbody>\n",
       "    <tr>\n",
       "      <th>2</th>\n",
       "      <td>7459035603376831527</td>\n",
       "      <td>touch</td>\n",
       "      <td>2017-07-01 01:54:00</td>\n",
       "      <td>5</td>\n",
       "      <td>2017-07-01 01:54:00</td>\n",
       "      <td>2017</td>\n",
       "      <td>7</td>\n",
       "      <td>26</td>\n",
       "      <td>2017-07-01</td>\n",
       "      <td>0</td>\n",
       "    </tr>\n",
       "    <tr>\n",
       "      <th>4</th>\n",
       "      <td>9969694820036681168</td>\n",
       "      <td>desktop</td>\n",
       "      <td>2017-12-27 14:06:00</td>\n",
       "      <td>3</td>\n",
       "      <td>2017-12-27 14:06:00</td>\n",
       "      <td>2017</td>\n",
       "      <td>12</td>\n",
       "      <td>52</td>\n",
       "      <td>2017-12-27</td>\n",
       "      <td>0</td>\n",
       "    </tr>\n",
       "    <tr>\n",
       "      <th>28</th>\n",
       "      <td>17892541477379911957</td>\n",
       "      <td>desktop</td>\n",
       "      <td>2017-11-09 15:53:00</td>\n",
       "      <td>4</td>\n",
       "      <td>2017-11-09 15:53:00</td>\n",
       "      <td>2017</td>\n",
       "      <td>11</td>\n",
       "      <td>45</td>\n",
       "      <td>2017-11-09</td>\n",
       "      <td>0</td>\n",
       "    </tr>\n",
       "    <tr>\n",
       "      <th>32</th>\n",
       "      <td>13410401624913285510</td>\n",
       "      <td>desktop</td>\n",
       "      <td>2017-11-30 12:29:00</td>\n",
       "      <td>4</td>\n",
       "      <td>2017-11-30 12:29:00</td>\n",
       "      <td>2017</td>\n",
       "      <td>11</td>\n",
       "      <td>48</td>\n",
       "      <td>2017-11-30</td>\n",
       "      <td>0</td>\n",
       "    </tr>\n",
       "    <tr>\n",
       "      <th>54</th>\n",
       "      <td>13423278602430425332</td>\n",
       "      <td>desktop</td>\n",
       "      <td>2018-02-23 16:52:00</td>\n",
       "      <td>10</td>\n",
       "      <td>2018-02-23 16:52:00</td>\n",
       "      <td>2018</td>\n",
       "      <td>2</td>\n",
       "      <td>8</td>\n",
       "      <td>2018-02-23</td>\n",
       "      <td>0</td>\n",
       "    </tr>\n",
       "  </tbody>\n",
       "</table>\n",
       "</div>"
      ],
      "text/plain": [
       "                     uid   device              end_ts  source_id  \\\n",
       "2    7459035603376831527    touch 2017-07-01 01:54:00          5   \n",
       "4    9969694820036681168  desktop 2017-12-27 14:06:00          3   \n",
       "28  17892541477379911957  desktop 2017-11-09 15:53:00          4   \n",
       "32  13410401624913285510  desktop 2017-11-30 12:29:00          4   \n",
       "54  13423278602430425332  desktop 2018-02-23 16:52:00         10   \n",
       "\n",
       "              start_ts  year  month  week       date  session_duration_sec  \n",
       "2  2017-07-01 01:54:00  2017      7    26 2017-07-01                     0  \n",
       "4  2017-12-27 14:06:00  2017     12    52 2017-12-27                     0  \n",
       "28 2017-11-09 15:53:00  2017     11    45 2017-11-09                     0  \n",
       "32 2017-11-30 12:29:00  2017     11    48 2017-11-30                     0  \n",
       "54 2018-02-23 16:52:00  2018      2     8 2018-02-23                     0  "
      ]
     },
     "execution_count": 25,
     "metadata": {
      "tags": []
     },
     "output_type": "execute_result"
    }
   ],
   "source": [
    "visits.query('session_duration_sec == 0').head()"
   ]
  },
  {
   "cell_type": "code",
   "execution_count": 0,
   "metadata": {
    "colab": {},
    "colab_type": "code",
    "id": "ku3Ql7P5dsAW",
    "outputId": "76d4ce20-706e-4bc3-8175-3837048f9aed"
   },
   "outputs": [
    {
     "name": "stdout",
     "output_type": "stream",
     "text": [
      "Сессий продолжительностью 0 сек в данных: 9.98%\n"
     ]
    }
   ],
   "source": [
    "print('Сессий продолжительностью 0 сек в данных: {:.2%}'.format(len(visits.query('session_duration_sec == 0'))/len(visits)))"
   ]
  },
  {
   "cell_type": "markdown",
   "metadata": {
    "colab_type": "text",
    "id": "qbqMkIOddsAY"
   },
   "source": [
    "Это может быть связано с логикой логгирования яндекс метрики: если пользователь зашел на стартовую страницу и больше не перешл на другие страницы и не совершил действий, метрика считает такие сессии продолжительности 0, они называются bounce-ами или отказами."
   ]
  },
  {
   "cell_type": "markdown",
   "metadata": {
    "colab_type": "text",
    "id": "NBw08Ik6dsAZ"
   },
   "source": [
    "<font style=\"color:#92D3EE; font-size:200%\">•</font> Как часто люди возвращаются?"
   ]
  },
  {
   "cell_type": "markdown",
   "metadata": {
    "colab_type": "text",
    "id": "JevNz-qDdsAa"
   },
   "source": [
    "Для того, чтобы определиться с этой метрикой, расчитывается Retention Rate.  \n",
    "Этот показатель показывает, сколько пользователей из когорты относительно их изначального числа, вернулось в последующие периоды.  \n",
    "\n",
    "*(Период может быть разным в зависимости от деятельности анализируемой кампании.  \n",
    "В случае с мобильным приложением результаты изменений продукта так быстро сказываются на действиях пользователей, что новые решения надо принимать быстрее. А значит, формировать когорты по данным за неделю.)*"
   ]
  },
  {
   "cell_type": "code",
   "execution_count": 0,
   "metadata": {
    "colab": {},
    "colab_type": "code",
    "id": "lrifAV5rdsAa"
   },
   "outputs": [],
   "source": [
    "# Определяем дату первой сессии каждого пользователя\n",
    "\n",
    "first_activity_date = visits.groupby(['uid'])['date'].min()\n",
    "first_activity_date.name = 'first_activity_date'\n",
    "\n",
    "# Добавляем ее отдельным столбцом в таблицу visits\n",
    "\n",
    "visits = visits.join(first_activity_date, on='uid')\n",
    "\n",
    "# Создаем столбец в котором отдельно выделим первую дату в неделе, на которой у пользователя была сессия \n",
    "# и также выделим в отдельный столбец дату первой сессии\n",
    "\n",
    "visits['activity_week'] = pd.to_datetime(visits['date'], unit='d') - pd.to_timedelta(visits['date'].dt.dayofweek, \\\n",
    "                                                                                         unit='d')\n",
    "visits['first_activity_week'] = pd.to_datetime(visits['first_activity_date'], unit='d') - \\\n",
    "pd.to_timedelta(visits['first_activity_date'].dt.dayofweek, unit='d')"
   ]
  },
  {
   "cell_type": "code",
   "execution_count": 0,
   "metadata": {
    "colab": {},
    "colab_type": "code",
    "id": "rPy_j15AdsAc",
    "outputId": "c62bfb95-853b-4293-c027-60bbd00629db",
    "scrolled": false
   },
   "outputs": [
    {
     "data": {
      "text/html": [
       "<div>\n",
       "<style scoped>\n",
       "    .dataframe tbody tr th:only-of-type {\n",
       "        vertical-align: middle;\n",
       "    }\n",
       "\n",
       "    .dataframe tbody tr th {\n",
       "        vertical-align: top;\n",
       "    }\n",
       "\n",
       "    .dataframe thead th {\n",
       "        text-align: right;\n",
       "    }\n",
       "</style>\n",
       "<table border=\"1\" class=\"dataframe\">\n",
       "  <thead>\n",
       "    <tr style=\"text-align: right;\">\n",
       "      <th></th>\n",
       "      <th>uid</th>\n",
       "      <th>device</th>\n",
       "      <th>end_ts</th>\n",
       "      <th>source_id</th>\n",
       "      <th>start_ts</th>\n",
       "      <th>first_activity_date</th>\n",
       "      <th>activity_week</th>\n",
       "      <th>first_activity_week</th>\n",
       "    </tr>\n",
       "  </thead>\n",
       "  <tbody>\n",
       "    <tr>\n",
       "      <th>0</th>\n",
       "      <td>16879256277535980062</td>\n",
       "      <td>touch</td>\n",
       "      <td>2017-12-20 17:38:00</td>\n",
       "      <td>4</td>\n",
       "      <td>2017-12-20 17:20:00</td>\n",
       "      <td>2017-12-20</td>\n",
       "      <td>2017-12-18</td>\n",
       "      <td>2017-12-18</td>\n",
       "    </tr>\n",
       "    <tr>\n",
       "      <th>1</th>\n",
       "      <td>104060357244891740</td>\n",
       "      <td>desktop</td>\n",
       "      <td>2018-02-19 17:21:00</td>\n",
       "      <td>2</td>\n",
       "      <td>2018-02-19 16:53:00</td>\n",
       "      <td>2018-02-19</td>\n",
       "      <td>2018-02-19</td>\n",
       "      <td>2018-02-19</td>\n",
       "    </tr>\n",
       "    <tr>\n",
       "      <th>2</th>\n",
       "      <td>7459035603376831527</td>\n",
       "      <td>touch</td>\n",
       "      <td>2017-07-01 01:54:00</td>\n",
       "      <td>5</td>\n",
       "      <td>2017-07-01 01:54:00</td>\n",
       "      <td>2017-07-01</td>\n",
       "      <td>2017-06-26</td>\n",
       "      <td>2017-06-26</td>\n",
       "    </tr>\n",
       "    <tr>\n",
       "      <th>3</th>\n",
       "      <td>16174680259334210214</td>\n",
       "      <td>desktop</td>\n",
       "      <td>2018-05-20 11:23:00</td>\n",
       "      <td>9</td>\n",
       "      <td>2018-05-20 10:59:00</td>\n",
       "      <td>2018-03-09</td>\n",
       "      <td>2018-05-14</td>\n",
       "      <td>2018-03-05</td>\n",
       "    </tr>\n",
       "    <tr>\n",
       "      <th>4</th>\n",
       "      <td>9969694820036681168</td>\n",
       "      <td>desktop</td>\n",
       "      <td>2017-12-27 14:06:00</td>\n",
       "      <td>3</td>\n",
       "      <td>2017-12-27 14:06:00</td>\n",
       "      <td>2017-12-27</td>\n",
       "      <td>2017-12-25</td>\n",
       "      <td>2017-12-25</td>\n",
       "    </tr>\n",
       "  </tbody>\n",
       "</table>\n",
       "</div>"
      ],
      "text/plain": [
       "                    uid   device              end_ts  source_id  \\\n",
       "0  16879256277535980062    touch 2017-12-20 17:38:00          4   \n",
       "1    104060357244891740  desktop 2018-02-19 17:21:00          2   \n",
       "2   7459035603376831527    touch 2017-07-01 01:54:00          5   \n",
       "3  16174680259334210214  desktop 2018-05-20 11:23:00          9   \n",
       "4   9969694820036681168  desktop 2017-12-27 14:06:00          3   \n",
       "\n",
       "             start_ts first_activity_date activity_week first_activity_week  \n",
       "0 2017-12-20 17:20:00          2017-12-20    2017-12-18          2017-12-18  \n",
       "1 2018-02-19 16:53:00          2018-02-19    2018-02-19          2018-02-19  \n",
       "2 2017-07-01 01:54:00          2017-07-01    2017-06-26          2017-06-26  \n",
       "3 2018-05-20 10:59:00          2018-03-09    2018-05-14          2018-03-05  \n",
       "4 2017-12-27 14:06:00          2017-12-27    2017-12-25          2017-12-25  "
      ]
     },
     "execution_count": 28,
     "metadata": {
      "tags": []
     },
     "output_type": "execute_result"
    }
   ],
   "source": [
    "visits[['uid', 'device', 'end_ts', 'source_id', 'start_ts', 'first_activity_date', 'activity_week', \\\n",
    "        'first_activity_week']].head()"
   ]
  },
  {
   "cell_type": "code",
   "execution_count": 0,
   "metadata": {
    "colab": {},
    "colab_type": "code",
    "id": "oj6OxhT9dsAf"
   },
   "outputs": [],
   "source": [
    "# Рассчитаем для каждого пользователя lifetime в рамках когорты\n",
    "import numpy as np\n",
    "visits['cohort_lifetime'] = visits['activity_week'] - visits['first_activity_week']\n",
    "visits['cohort_lifetime'] = visits['cohort_lifetime'] / np.timedelta64(1,'W')\n",
    "visits['cohort_lifetime'] = visits['cohort_lifetime'].astype(int)"
   ]
  },
  {
   "cell_type": "code",
   "execution_count": 0,
   "metadata": {
    "colab": {},
    "colab_type": "code",
    "id": "3X7mOdmGdsAg",
    "outputId": "0a105afe-4a05-4d63-852a-de8fde7ae716",
    "scrolled": false
   },
   "outputs": [
    {
     "data": {
      "text/html": [
       "<div>\n",
       "<style scoped>\n",
       "    .dataframe tbody tr th:only-of-type {\n",
       "        vertical-align: middle;\n",
       "    }\n",
       "\n",
       "    .dataframe tbody tr th {\n",
       "        vertical-align: top;\n",
       "    }\n",
       "\n",
       "    .dataframe thead th {\n",
       "        text-align: right;\n",
       "    }\n",
       "</style>\n",
       "<table border=\"1\" class=\"dataframe\">\n",
       "  <thead>\n",
       "    <tr style=\"text-align: right;\">\n",
       "      <th></th>\n",
       "      <th>uid</th>\n",
       "      <th>device</th>\n",
       "      <th>end_ts</th>\n",
       "      <th>source_id</th>\n",
       "      <th>start_ts</th>\n",
       "      <th>first_activity_date</th>\n",
       "      <th>activity_week</th>\n",
       "      <th>first_activity_week</th>\n",
       "      <th>cohort_lifetime</th>\n",
       "    </tr>\n",
       "  </thead>\n",
       "  <tbody>\n",
       "    <tr>\n",
       "      <th>0</th>\n",
       "      <td>16879256277535980062</td>\n",
       "      <td>touch</td>\n",
       "      <td>2017-12-20 17:38:00</td>\n",
       "      <td>4</td>\n",
       "      <td>2017-12-20 17:20:00</td>\n",
       "      <td>2017-12-20</td>\n",
       "      <td>2017-12-18</td>\n",
       "      <td>2017-12-18</td>\n",
       "      <td>0</td>\n",
       "    </tr>\n",
       "    <tr>\n",
       "      <th>1</th>\n",
       "      <td>104060357244891740</td>\n",
       "      <td>desktop</td>\n",
       "      <td>2018-02-19 17:21:00</td>\n",
       "      <td>2</td>\n",
       "      <td>2018-02-19 16:53:00</td>\n",
       "      <td>2018-02-19</td>\n",
       "      <td>2018-02-19</td>\n",
       "      <td>2018-02-19</td>\n",
       "      <td>0</td>\n",
       "    </tr>\n",
       "    <tr>\n",
       "      <th>2</th>\n",
       "      <td>7459035603376831527</td>\n",
       "      <td>touch</td>\n",
       "      <td>2017-07-01 01:54:00</td>\n",
       "      <td>5</td>\n",
       "      <td>2017-07-01 01:54:00</td>\n",
       "      <td>2017-07-01</td>\n",
       "      <td>2017-06-26</td>\n",
       "      <td>2017-06-26</td>\n",
       "      <td>0</td>\n",
       "    </tr>\n",
       "    <tr>\n",
       "      <th>3</th>\n",
       "      <td>16174680259334210214</td>\n",
       "      <td>desktop</td>\n",
       "      <td>2018-05-20 11:23:00</td>\n",
       "      <td>9</td>\n",
       "      <td>2018-05-20 10:59:00</td>\n",
       "      <td>2018-03-09</td>\n",
       "      <td>2018-05-14</td>\n",
       "      <td>2018-03-05</td>\n",
       "      <td>10</td>\n",
       "    </tr>\n",
       "    <tr>\n",
       "      <th>4</th>\n",
       "      <td>9969694820036681168</td>\n",
       "      <td>desktop</td>\n",
       "      <td>2017-12-27 14:06:00</td>\n",
       "      <td>3</td>\n",
       "      <td>2017-12-27 14:06:00</td>\n",
       "      <td>2017-12-27</td>\n",
       "      <td>2017-12-25</td>\n",
       "      <td>2017-12-25</td>\n",
       "      <td>0</td>\n",
       "    </tr>\n",
       "  </tbody>\n",
       "</table>\n",
       "</div>"
      ],
      "text/plain": [
       "                    uid   device              end_ts  source_id  \\\n",
       "0  16879256277535980062    touch 2017-12-20 17:38:00          4   \n",
       "1    104060357244891740  desktop 2018-02-19 17:21:00          2   \n",
       "2   7459035603376831527    touch 2017-07-01 01:54:00          5   \n",
       "3  16174680259334210214  desktop 2018-05-20 11:23:00          9   \n",
       "4   9969694820036681168  desktop 2017-12-27 14:06:00          3   \n",
       "\n",
       "             start_ts first_activity_date activity_week first_activity_week  \\\n",
       "0 2017-12-20 17:20:00          2017-12-20    2017-12-18          2017-12-18   \n",
       "1 2018-02-19 16:53:00          2018-02-19    2018-02-19          2018-02-19   \n",
       "2 2017-07-01 01:54:00          2017-07-01    2017-06-26          2017-06-26   \n",
       "3 2018-05-20 10:59:00          2018-03-09    2018-05-14          2018-03-05   \n",
       "4 2017-12-27 14:06:00          2017-12-27    2017-12-25          2017-12-25   \n",
       "\n",
       "   cohort_lifetime  \n",
       "0                0  \n",
       "1                0  \n",
       "2                0  \n",
       "3               10  \n",
       "4                0  "
      ]
     },
     "execution_count": 30,
     "metadata": {
      "tags": []
     },
     "output_type": "execute_result"
    }
   ],
   "source": [
    "visits[['uid', 'device', 'end_ts', 'source_id', 'start_ts', 'first_activity_date', 'activity_week', 'first_activity_week', \\\n",
    "        'cohort_lifetime']].head()"
   ]
  },
  {
   "cell_type": "code",
   "execution_count": 0,
   "metadata": {
    "colab": {},
    "colab_type": "code",
    "id": "Q6lY5DvkdsAi",
    "outputId": "f4dcdc7c-e2d2-42f2-b228-e8176e8da241"
   },
   "outputs": [
    {
     "data": {
      "text/html": [
       "<div>\n",
       "<style scoped>\n",
       "    .dataframe tbody tr th:only-of-type {\n",
       "        vertical-align: middle;\n",
       "    }\n",
       "\n",
       "    .dataframe tbody tr th {\n",
       "        vertical-align: top;\n",
       "    }\n",
       "\n",
       "    .dataframe thead th {\n",
       "        text-align: right;\n",
       "    }\n",
       "</style>\n",
       "<table border=\"1\" class=\"dataframe\">\n",
       "  <thead>\n",
       "    <tr style=\"text-align: right;\">\n",
       "      <th></th>\n",
       "      <th>first_activity_week</th>\n",
       "      <th>cohort_lifetime</th>\n",
       "      <th>uid</th>\n",
       "    </tr>\n",
       "  </thead>\n",
       "  <tbody>\n",
       "    <tr>\n",
       "      <th>0</th>\n",
       "      <td>2017-05-29</td>\n",
       "      <td>0</td>\n",
       "      <td>2021</td>\n",
       "    </tr>\n",
       "    <tr>\n",
       "      <th>1</th>\n",
       "      <td>2017-05-29</td>\n",
       "      <td>1</td>\n",
       "      <td>185</td>\n",
       "    </tr>\n",
       "    <tr>\n",
       "      <th>2</th>\n",
       "      <td>2017-05-29</td>\n",
       "      <td>2</td>\n",
       "      <td>98</td>\n",
       "    </tr>\n",
       "    <tr>\n",
       "      <th>3</th>\n",
       "      <td>2017-05-29</td>\n",
       "      <td>3</td>\n",
       "      <td>74</td>\n",
       "    </tr>\n",
       "    <tr>\n",
       "      <th>4</th>\n",
       "      <td>2017-05-29</td>\n",
       "      <td>4</td>\n",
       "      <td>88</td>\n",
       "    </tr>\n",
       "  </tbody>\n",
       "</table>\n",
       "</div>"
      ],
      "text/plain": [
       "  first_activity_week  cohort_lifetime   uid\n",
       "0          2017-05-29                0  2021\n",
       "1          2017-05-29                1   185\n",
       "2          2017-05-29                2    98\n",
       "3          2017-05-29                3    74\n",
       "4          2017-05-29                4    88"
      ]
     },
     "execution_count": 31,
     "metadata": {
      "tags": []
     },
     "output_type": "execute_result"
    }
   ],
   "source": [
    "# Сгруппируем данные по когорте и lifetime. Посчитаем для каждой когорты количество активных пользователей на определённую\n",
    "# «неделю жизни»:\n",
    "cohorts = visits.groupby(['first_activity_week','cohort_lifetime']).agg({'uid':'nunique'}).reset_index()\n",
    "cohorts.head()"
   ]
  },
  {
   "cell_type": "code",
   "execution_count": 0,
   "metadata": {
    "colab": {},
    "colab_type": "code",
    "id": "ayBZaziCdsAk",
    "outputId": "d0d6f724-673c-4f0b-9c4c-77e1bbf72986"
   },
   "outputs": [
    {
     "data": {
      "text/html": [
       "<div>\n",
       "<style scoped>\n",
       "    .dataframe tbody tr th:only-of-type {\n",
       "        vertical-align: middle;\n",
       "    }\n",
       "\n",
       "    .dataframe tbody tr th {\n",
       "        vertical-align: top;\n",
       "    }\n",
       "\n",
       "    .dataframe thead th {\n",
       "        text-align: right;\n",
       "    }\n",
       "</style>\n",
       "<table border=\"1\" class=\"dataframe\">\n",
       "  <thead>\n",
       "    <tr style=\"text-align: right;\">\n",
       "      <th></th>\n",
       "      <th>first_activity_week</th>\n",
       "      <th>cohort_users</th>\n",
       "    </tr>\n",
       "  </thead>\n",
       "  <tbody>\n",
       "    <tr>\n",
       "      <th>0</th>\n",
       "      <td>2017-05-29</td>\n",
       "      <td>2021</td>\n",
       "    </tr>\n",
       "    <tr>\n",
       "      <th>53</th>\n",
       "      <td>2017-06-05</td>\n",
       "      <td>3944</td>\n",
       "    </tr>\n",
       "    <tr>\n",
       "      <th>105</th>\n",
       "      <td>2017-06-12</td>\n",
       "      <td>2567</td>\n",
       "    </tr>\n",
       "    <tr>\n",
       "      <th>156</th>\n",
       "      <td>2017-06-19</td>\n",
       "      <td>2585</td>\n",
       "    </tr>\n",
       "    <tr>\n",
       "      <th>206</th>\n",
       "      <td>2017-06-26</td>\n",
       "      <td>2717</td>\n",
       "    </tr>\n",
       "  </tbody>\n",
       "</table>\n",
       "</div>"
      ],
      "text/plain": [
       "    first_activity_week  cohort_users\n",
       "0            2017-05-29          2021\n",
       "53           2017-06-05          3944\n",
       "105          2017-06-12          2567\n",
       "156          2017-06-19          2585\n",
       "206          2017-06-26          2717"
      ]
     },
     "execution_count": 32,
     "metadata": {
      "tags": []
     },
     "output_type": "execute_result"
    }
   ],
   "source": [
    "# Найдём исходное количество пользователей в когорте. Возьмём их число на нулевую неделю\n",
    "\n",
    "inital_users_count = cohorts[cohorts['cohort_lifetime'] == 0][['first_activity_week','uid']]\n",
    "\n",
    "# Переименуем столбец uid в cohort_users\n",
    "\n",
    "inital_users_count = inital_users_count.rename(columns={'uid':'cohort_users'})\n",
    "inital_users_count.head()"
   ]
  },
  {
   "cell_type": "code",
   "execution_count": 0,
   "metadata": {
    "colab": {},
    "colab_type": "code",
    "id": "ryXou0fcdsAm",
    "outputId": "d5b8590d-91da-4b2e-d0d6-aefb700d8968"
   },
   "outputs": [
    {
     "data": {
      "text/html": [
       "<div>\n",
       "<style scoped>\n",
       "    .dataframe tbody tr th:only-of-type {\n",
       "        vertical-align: middle;\n",
       "    }\n",
       "\n",
       "    .dataframe tbody tr th {\n",
       "        vertical-align: top;\n",
       "    }\n",
       "\n",
       "    .dataframe thead th {\n",
       "        text-align: right;\n",
       "    }\n",
       "</style>\n",
       "<table border=\"1\" class=\"dataframe\">\n",
       "  <thead>\n",
       "    <tr style=\"text-align: right;\">\n",
       "      <th></th>\n",
       "      <th>first_activity_week</th>\n",
       "      <th>cohort_lifetime</th>\n",
       "      <th>uid</th>\n",
       "      <th>cohort_users</th>\n",
       "    </tr>\n",
       "  </thead>\n",
       "  <tbody>\n",
       "    <tr>\n",
       "      <th>0</th>\n",
       "      <td>2017-05-29</td>\n",
       "      <td>0</td>\n",
       "      <td>2021</td>\n",
       "      <td>2021</td>\n",
       "    </tr>\n",
       "    <tr>\n",
       "      <th>1</th>\n",
       "      <td>2017-05-29</td>\n",
       "      <td>1</td>\n",
       "      <td>185</td>\n",
       "      <td>2021</td>\n",
       "    </tr>\n",
       "    <tr>\n",
       "      <th>2</th>\n",
       "      <td>2017-05-29</td>\n",
       "      <td>2</td>\n",
       "      <td>98</td>\n",
       "      <td>2021</td>\n",
       "    </tr>\n",
       "    <tr>\n",
       "      <th>3</th>\n",
       "      <td>2017-05-29</td>\n",
       "      <td>3</td>\n",
       "      <td>74</td>\n",
       "      <td>2021</td>\n",
       "    </tr>\n",
       "    <tr>\n",
       "      <th>4</th>\n",
       "      <td>2017-05-29</td>\n",
       "      <td>4</td>\n",
       "      <td>88</td>\n",
       "      <td>2021</td>\n",
       "    </tr>\n",
       "  </tbody>\n",
       "</table>\n",
       "</div>"
      ],
      "text/plain": [
       "  first_activity_week  cohort_lifetime   uid  cohort_users\n",
       "0          2017-05-29                0  2021          2021\n",
       "1          2017-05-29                1   185          2021\n",
       "2          2017-05-29                2    98          2021\n",
       "3          2017-05-29                3    74          2021\n",
       "4          2017-05-29                4    88          2021"
      ]
     },
     "execution_count": 33,
     "metadata": {
      "tags": []
     },
     "output_type": "execute_result"
    }
   ],
   "source": [
    "# Объединим данные по когортам с исходным количеством пользователей в когорте:\n",
    "cohorts = cohorts.merge(inital_users_count,on='first_activity_week')\n",
    "cohorts.head()"
   ]
  },
  {
   "cell_type": "code",
   "execution_count": 0,
   "metadata": {
    "colab": {},
    "colab_type": "code",
    "id": "miSzcjs8dsAn",
    "outputId": "1f2a11c8-f280-42b0-bd32-8701bd5705b3",
    "scrolled": true
   },
   "outputs": [
    {
     "data": {
      "text/html": [
       "<div>\n",
       "<style scoped>\n",
       "    .dataframe tbody tr th:only-of-type {\n",
       "        vertical-align: middle;\n",
       "    }\n",
       "\n",
       "    .dataframe tbody tr th {\n",
       "        vertical-align: top;\n",
       "    }\n",
       "\n",
       "    .dataframe thead th {\n",
       "        text-align: right;\n",
       "    }\n",
       "</style>\n",
       "<table border=\"1\" class=\"dataframe\">\n",
       "  <thead>\n",
       "    <tr style=\"text-align: right;\">\n",
       "      <th></th>\n",
       "      <th>first_activity_week</th>\n",
       "      <th>cohort_lifetime</th>\n",
       "      <th>uid</th>\n",
       "      <th>cohort_users</th>\n",
       "      <th>retention</th>\n",
       "      <th>cohort</th>\n",
       "    </tr>\n",
       "  </thead>\n",
       "  <tbody>\n",
       "    <tr>\n",
       "      <th>0</th>\n",
       "      <td>2017-05-29</td>\n",
       "      <td>0</td>\n",
       "      <td>2021</td>\n",
       "      <td>2021</td>\n",
       "      <td>1.000000</td>\n",
       "      <td>2017-05-29</td>\n",
       "    </tr>\n",
       "    <tr>\n",
       "      <th>1</th>\n",
       "      <td>2017-05-29</td>\n",
       "      <td>1</td>\n",
       "      <td>185</td>\n",
       "      <td>2021</td>\n",
       "      <td>0.091539</td>\n",
       "      <td>2017-05-29</td>\n",
       "    </tr>\n",
       "    <tr>\n",
       "      <th>2</th>\n",
       "      <td>2017-05-29</td>\n",
       "      <td>2</td>\n",
       "      <td>98</td>\n",
       "      <td>2021</td>\n",
       "      <td>0.048491</td>\n",
       "      <td>2017-05-29</td>\n",
       "    </tr>\n",
       "    <tr>\n",
       "      <th>3</th>\n",
       "      <td>2017-05-29</td>\n",
       "      <td>3</td>\n",
       "      <td>74</td>\n",
       "      <td>2021</td>\n",
       "      <td>0.036616</td>\n",
       "      <td>2017-05-29</td>\n",
       "    </tr>\n",
       "    <tr>\n",
       "      <th>4</th>\n",
       "      <td>2017-05-29</td>\n",
       "      <td>4</td>\n",
       "      <td>88</td>\n",
       "      <td>2021</td>\n",
       "      <td>0.043543</td>\n",
       "      <td>2017-05-29</td>\n",
       "    </tr>\n",
       "  </tbody>\n",
       "</table>\n",
       "</div>"
      ],
      "text/plain": [
       "  first_activity_week  cohort_lifetime   uid  cohort_users  retention  \\\n",
       "0          2017-05-29                0  2021          2021   1.000000   \n",
       "1          2017-05-29                1   185          2021   0.091539   \n",
       "2          2017-05-29                2    98          2021   0.048491   \n",
       "3          2017-05-29                3    74          2021   0.036616   \n",
       "4          2017-05-29                4    88          2021   0.043543   \n",
       "\n",
       "       cohort  \n",
       "0  2017-05-29  \n",
       "1  2017-05-29  \n",
       "2  2017-05-29  \n",
       "3  2017-05-29  \n",
       "4  2017-05-29  "
      ]
     },
     "execution_count": 34,
     "metadata": {
      "tags": []
     },
     "output_type": "execute_result"
    }
   ],
   "source": [
    "# Наконец, рассчитаем Retention Rate. Разделим количество активных пользователей в каждую из недель на исходное число \n",
    "# пользователей в когорте:\n",
    "\n",
    "cohorts['retention'] = cohorts['uid']/cohorts['cohort_users']\n",
    "\n",
    "# Создадим отдельный столбец с датой когорты в формате object, чтобы по нему строить красиво тепловую карту :)\n",
    "\n",
    "cohorts['cohort'] = cohorts['first_activity_week'].dt.date\n",
    "cohorts.head()"
   ]
  },
  {
   "cell_type": "code",
   "execution_count": 0,
   "metadata": {
    "colab": {},
    "colab_type": "code",
    "id": "CLaHnjMedsAp"
   },
   "outputs": [],
   "source": [
    "# Построим сводную таблицу и создадим тепловую карту:\n",
    "retention_pivot = cohorts.round({'retention':2}).pivot_table(index='cohort',columns='cohort_lifetime',values='retention',aggfunc='sum')"
   ]
  },
  {
   "cell_type": "code",
   "execution_count": 0,
   "metadata": {
    "colab": {},
    "colab_type": "code",
    "id": "C4RwSeSJdsAq",
    "outputId": "09a840ac-9152-4471-93e3-772fff3c078e",
    "scrolled": false
   },
   "outputs": [
    {
     "name": "stderr",
     "output_type": "stream",
     "text": [
      "/opt/conda/lib/python3.7/site-packages/seaborn/matrix.py:268: PendingDeprecationWarning: \n",
      "The label function will be deprecated in a future version. Use Tick.label1 instead.\n",
      "  fontsize = tick.label.get_size()\n"
     ]
    },
    {
     "data": {
      "image/png": "[encoded data removed]",
      "text/plain": [
       "<Figure size 936x648 with 2 Axes>"
      ]
     },
     "metadata": {
      "tags": []
     },
     "output_type": "display_data"
    }
   ],
   "source": [
    "import seaborn as sns\n",
    "from matplotlib import pyplot as plt\n",
    "plt.figure(figsize=(13, 9))\n",
    "plt.title('Cohorts: User Retention')\n",
    "sns.heatmap(retention_pivot, fmt='.1%', linewidths=1, linecolor='gray');"
   ]
  },
  {
   "cell_type": "markdown",
   "metadata": {
    "colab_type": "text",
    "id": "-HnIfBYudsAs"
   },
   "source": [
    "На тепловой карте видно, что в последующие периоды к приложению обращается меньше 20% пользователей когорты.  \n",
    " \n",
    "Плачевная динамика падения ретеншена тут ярко заметна."
   ]
  },
  {
   "cell_type": "code",
   "execution_count": 0,
   "metadata": {
    "colab": {},
    "colab_type": "code",
    "id": "ZKKwoyhgdsAw",
    "outputId": "93c4e623-7432-4f97-f4c9-0c035ec89aeb"
   },
   "outputs": [
    {
     "data": {
      "text/html": [
       "<div>\n",
       "<style scoped>\n",
       "    .dataframe tbody tr th:only-of-type {\n",
       "        vertical-align: middle;\n",
       "    }\n",
       "\n",
       "    .dataframe tbody tr th {\n",
       "        vertical-align: top;\n",
       "    }\n",
       "\n",
       "    .dataframe thead th {\n",
       "        text-align: right;\n",
       "    }\n",
       "</style>\n",
       "<table border=\"1\" class=\"dataframe\">\n",
       "  <thead>\n",
       "    <tr style=\"text-align: right;\">\n",
       "      <th></th>\n",
       "      <th>0</th>\n",
       "      <th>1</th>\n",
       "      <th>2</th>\n",
       "      <th>3</th>\n",
       "      <th>4</th>\n",
       "      <th>5</th>\n",
       "      <th>6</th>\n",
       "      <th>7</th>\n",
       "      <th>8</th>\n",
       "      <th>9</th>\n",
       "      <th>...</th>\n",
       "      <th>43</th>\n",
       "      <th>44</th>\n",
       "      <th>45</th>\n",
       "      <th>46</th>\n",
       "      <th>47</th>\n",
       "      <th>48</th>\n",
       "      <th>49</th>\n",
       "      <th>50</th>\n",
       "      <th>51</th>\n",
       "      <th>52</th>\n",
       "    </tr>\n",
       "    <tr>\n",
       "      <th>cohort_lifetime</th>\n",
       "      <th></th>\n",
       "      <th></th>\n",
       "      <th></th>\n",
       "      <th></th>\n",
       "      <th></th>\n",
       "      <th></th>\n",
       "      <th></th>\n",
       "      <th></th>\n",
       "      <th></th>\n",
       "      <th></th>\n",
       "      <th></th>\n",
       "      <th></th>\n",
       "      <th></th>\n",
       "      <th></th>\n",
       "      <th></th>\n",
       "      <th></th>\n",
       "      <th></th>\n",
       "      <th></th>\n",
       "      <th></th>\n",
       "      <th></th>\n",
       "      <th></th>\n",
       "    </tr>\n",
       "  </thead>\n",
       "  <tbody>\n",
       "    <tr>\n",
       "      <th>0</th>\n",
       "      <td>1.00</td>\n",
       "      <td>1.00</td>\n",
       "      <td>1.00</td>\n",
       "      <td>1.00</td>\n",
       "      <td>1.00</td>\n",
       "      <td>1.00</td>\n",
       "      <td>1.00</td>\n",
       "      <td>1.00</td>\n",
       "      <td>1.00</td>\n",
       "      <td>1.00</td>\n",
       "      <td>...</td>\n",
       "      <td>1.00</td>\n",
       "      <td>1.00</td>\n",
       "      <td>1.00</td>\n",
       "      <td>1.00</td>\n",
       "      <td>1.00</td>\n",
       "      <td>1.00</td>\n",
       "      <td>1.00</td>\n",
       "      <td>1.00</td>\n",
       "      <td>1.00</td>\n",
       "      <td>1.0</td>\n",
       "    </tr>\n",
       "    <tr>\n",
       "      <th>1</th>\n",
       "      <td>0.09</td>\n",
       "      <td>0.04</td>\n",
       "      <td>0.04</td>\n",
       "      <td>0.04</td>\n",
       "      <td>0.04</td>\n",
       "      <td>0.05</td>\n",
       "      <td>0.04</td>\n",
       "      <td>0.03</td>\n",
       "      <td>0.02</td>\n",
       "      <td>0.03</td>\n",
       "      <td>...</td>\n",
       "      <td>0.02</td>\n",
       "      <td>0.03</td>\n",
       "      <td>0.03</td>\n",
       "      <td>0.03</td>\n",
       "      <td>0.03</td>\n",
       "      <td>0.03</td>\n",
       "      <td>0.03</td>\n",
       "      <td>0.04</td>\n",
       "      <td>0.03</td>\n",
       "      <td>NaN</td>\n",
       "    </tr>\n",
       "    <tr>\n",
       "      <th>2</th>\n",
       "      <td>0.05</td>\n",
       "      <td>0.03</td>\n",
       "      <td>0.03</td>\n",
       "      <td>0.02</td>\n",
       "      <td>0.03</td>\n",
       "      <td>0.03</td>\n",
       "      <td>0.02</td>\n",
       "      <td>0.02</td>\n",
       "      <td>0.02</td>\n",
       "      <td>0.02</td>\n",
       "      <td>...</td>\n",
       "      <td>0.02</td>\n",
       "      <td>0.02</td>\n",
       "      <td>0.02</td>\n",
       "      <td>0.01</td>\n",
       "      <td>0.02</td>\n",
       "      <td>0.02</td>\n",
       "      <td>0.02</td>\n",
       "      <td>0.02</td>\n",
       "      <td>NaN</td>\n",
       "      <td>NaN</td>\n",
       "    </tr>\n",
       "    <tr>\n",
       "      <th>3</th>\n",
       "      <td>0.04</td>\n",
       "      <td>0.03</td>\n",
       "      <td>0.02</td>\n",
       "      <td>0.02</td>\n",
       "      <td>0.02</td>\n",
       "      <td>0.02</td>\n",
       "      <td>0.01</td>\n",
       "      <td>0.01</td>\n",
       "      <td>0.02</td>\n",
       "      <td>0.02</td>\n",
       "      <td>...</td>\n",
       "      <td>0.01</td>\n",
       "      <td>0.01</td>\n",
       "      <td>0.01</td>\n",
       "      <td>0.02</td>\n",
       "      <td>0.02</td>\n",
       "      <td>0.02</td>\n",
       "      <td>0.01</td>\n",
       "      <td>NaN</td>\n",
       "      <td>NaN</td>\n",
       "      <td>NaN</td>\n",
       "    </tr>\n",
       "    <tr>\n",
       "      <th>4</th>\n",
       "      <td>0.04</td>\n",
       "      <td>0.02</td>\n",
       "      <td>0.02</td>\n",
       "      <td>0.02</td>\n",
       "      <td>0.02</td>\n",
       "      <td>0.01</td>\n",
       "      <td>0.01</td>\n",
       "      <td>0.02</td>\n",
       "      <td>0.01</td>\n",
       "      <td>0.02</td>\n",
       "      <td>...</td>\n",
       "      <td>0.01</td>\n",
       "      <td>0.01</td>\n",
       "      <td>0.01</td>\n",
       "      <td>0.01</td>\n",
       "      <td>0.01</td>\n",
       "      <td>0.01</td>\n",
       "      <td>NaN</td>\n",
       "      <td>NaN</td>\n",
       "      <td>NaN</td>\n",
       "      <td>NaN</td>\n",
       "    </tr>\n",
       "  </tbody>\n",
       "</table>\n",
       "<p>5 rows × 53 columns</p>\n",
       "</div>"
      ],
      "text/plain": [
       "                   0     1     2     3     4     5     6     7     8     9   \\\n",
       "cohort_lifetime                                                               \n",
       "0                1.00  1.00  1.00  1.00  1.00  1.00  1.00  1.00  1.00  1.00   \n",
       "1                0.09  0.04  0.04  0.04  0.04  0.05  0.04  0.03  0.02  0.03   \n",
       "2                0.05  0.03  0.03  0.02  0.03  0.03  0.02  0.02  0.02  0.02   \n",
       "3                0.04  0.03  0.02  0.02  0.02  0.02  0.01  0.01  0.02  0.02   \n",
       "4                0.04  0.02  0.02  0.02  0.02  0.01  0.01  0.02  0.01  0.02   \n",
       "\n",
       "                 ...    43    44    45    46    47    48    49    50    51  \\\n",
       "cohort_lifetime  ...                                                         \n",
       "0                ...  1.00  1.00  1.00  1.00  1.00  1.00  1.00  1.00  1.00   \n",
       "1                ...  0.02  0.03  0.03  0.03  0.03  0.03  0.03  0.04  0.03   \n",
       "2                ...  0.02  0.02  0.02  0.01  0.02  0.02  0.02  0.02   NaN   \n",
       "3                ...  0.01  0.01  0.01  0.02  0.02  0.02  0.01   NaN   NaN   \n",
       "4                ...  0.01  0.01  0.01  0.01  0.01  0.01   NaN   NaN   NaN   \n",
       "\n",
       "                  52  \n",
       "cohort_lifetime       \n",
       "0                1.0  \n",
       "1                NaN  \n",
       "2                NaN  \n",
       "3                NaN  \n",
       "4                NaN  \n",
       "\n",
       "[5 rows x 53 columns]"
      ]
     },
     "execution_count": 38,
     "metadata": {
      "tags": []
     },
     "output_type": "execute_result"
    }
   ],
   "source": [
    "retention_pivot1 = retention_pivot.reset_index(drop=True)\n",
    "retention_pivot1 = retention_pivot1.transpose()\n",
    "retention_pivot1.head()"
   ]
  },
  {
   "cell_type": "code",
   "execution_count": 0,
   "metadata": {
    "colab": {},
    "colab_type": "code",
    "id": "3xipKoE_dsAy",
    "outputId": "c9fecf1b-59b0-4517-f701-541d97d82d3c"
   },
   "outputs": [
    {
     "data": {
      "text/plain": [
       "<matplotlib.axes._subplots.AxesSubplot at 0x7ff9253c9d68>"
      ]
     },
     "execution_count": 39,
     "metadata": {
      "tags": []
     },
     "output_type": "execute_result"
    },
    {
     "data": {
      "image/png": "[encoded data removed]",
      "text/plain": [
       "<Figure size 1152x1152 with 1 Axes>"
      ]
     },
     "metadata": {
      "tags": []
     },
     "output_type": "display_data"
    }
   ],
   "source": [
    "retention_pivot1.plot(figsize=(16, 16), grid=True)"
   ]
  },
  {
   "cell_type": "markdown",
   "metadata": {
    "colab_type": "text",
    "id": "uMy8seHhdsA0"
   },
   "source": [
    "На графике видно, что во всех когортах в последующие периоды retention rate не велик."
   ]
  },
  {
   "cell_type": "markdown",
   "metadata": {
    "colab_type": "text",
    "id": "KQBK9li-dsA1"
   },
   "source": [
    "<font style=\"color:#2B9F27; font-size:200%\">•</font> **Продажи**"
   ]
  },
  {
   "cell_type": "markdown",
   "metadata": {
    "colab_type": "text",
    "id": "NjUm5inPdsA1"
   },
   "source": [
    "<font style=\"color:#2B9F27; font-size:200%\">•</font> Когда люди начинают покупать?"
   ]
  },
  {
   "cell_type": "code",
   "execution_count": 0,
   "metadata": {
    "colab": {},
    "colab_type": "code",
    "id": "Y6ObC68ZdsA2",
    "outputId": "f1f6606b-e0ea-4567-ab0a-b04356703ba6",
    "scrolled": true
   },
   "outputs": [
    {
     "name": "stdout",
     "output_type": "stream",
     "text": [
      "Пользователей приложения: 228169\n",
      "Из них совершило покупку: 36523\n"
     ]
    }
   ],
   "source": [
    "# Создадим сводную таблицу, в которой найдем дату первой сессии каждого пользователя\n",
    "\n",
    "first_visit_pivot = visits.pivot_table(index='uid', values='start_ts', aggfunc='min')\n",
    "\n",
    "# Создадим сводную таблицу, в которой найдем дату первой покупки каждого пользователя\n",
    "\n",
    "first_order_pivot = orders.pivot_table(index='uid', values='order_date', aggfunc='min')\n",
    "\n",
    "print('Пользователей приложения: {}'.format(len(first_visit_pivot)))\n",
    "print('Из них совершило покупку: {}'.format(len(first_order_pivot)))"
   ]
  },
  {
   "cell_type": "code",
   "execution_count": 0,
   "metadata": {
    "colab": {},
    "colab_type": "code",
    "id": "wOW4IQzCdsA3",
    "outputId": "8744fd29-6020-42c8-d4f3-eb58258afa13"
   },
   "outputs": [
    {
     "data": {
      "text/html": [
       "<div>\n",
       "<style scoped>\n",
       "    .dataframe tbody tr th:only-of-type {\n",
       "        vertical-align: middle;\n",
       "    }\n",
       "\n",
       "    .dataframe tbody tr th {\n",
       "        vertical-align: top;\n",
       "    }\n",
       "\n",
       "    .dataframe thead th {\n",
       "        text-align: right;\n",
       "    }\n",
       "</style>\n",
       "<table border=\"1\" class=\"dataframe\">\n",
       "  <thead>\n",
       "    <tr style=\"text-align: right;\">\n",
       "      <th></th>\n",
       "      <th>start_ts</th>\n",
       "      <th>order_date</th>\n",
       "      <th>time_to_order</th>\n",
       "      <th>minutes_to_order</th>\n",
       "    </tr>\n",
       "    <tr>\n",
       "      <th>uid</th>\n",
       "      <th></th>\n",
       "      <th></th>\n",
       "      <th></th>\n",
       "      <th></th>\n",
       "    </tr>\n",
       "  </thead>\n",
       "  <tbody>\n",
       "    <tr>\n",
       "      <th>11863502262781</th>\n",
       "      <td>2018-03-01 17:27:00</td>\n",
       "      <td>NaT</td>\n",
       "      <td>NaT</td>\n",
       "      <td>NaN</td>\n",
       "    </tr>\n",
       "    <tr>\n",
       "      <th>49537067089222</th>\n",
       "      <td>2018-02-06 15:55:00</td>\n",
       "      <td>NaT</td>\n",
       "      <td>NaT</td>\n",
       "      <td>NaN</td>\n",
       "    </tr>\n",
       "    <tr>\n",
       "      <th>297729379853735</th>\n",
       "      <td>2017-06-07 18:47:00</td>\n",
       "      <td>NaT</td>\n",
       "      <td>NaT</td>\n",
       "      <td>NaN</td>\n",
       "    </tr>\n",
       "    <tr>\n",
       "      <th>313578113262317</th>\n",
       "      <td>2017-09-18 22:49:00</td>\n",
       "      <td>2018-01-03 21:51:00</td>\n",
       "      <td>106 days 23:02:00</td>\n",
       "      <td>154022.0</td>\n",
       "    </tr>\n",
       "    <tr>\n",
       "      <th>325320750514679</th>\n",
       "      <td>2017-09-30 14:29:00</td>\n",
       "      <td>NaT</td>\n",
       "      <td>NaT</td>\n",
       "      <td>NaN</td>\n",
       "    </tr>\n",
       "  </tbody>\n",
       "</table>\n",
       "</div>"
      ],
      "text/plain": [
       "                           start_ts          order_date     time_to_order  \\\n",
       "uid                                                                         \n",
       "11863502262781  2018-03-01 17:27:00                 NaT               NaT   \n",
       "49537067089222  2018-02-06 15:55:00                 NaT               NaT   \n",
       "297729379853735 2017-06-07 18:47:00                 NaT               NaT   \n",
       "313578113262317 2017-09-18 22:49:00 2018-01-03 21:51:00 106 days 23:02:00   \n",
       "325320750514679 2017-09-30 14:29:00                 NaT               NaT   \n",
       "\n",
       "                 minutes_to_order  \n",
       "uid                                \n",
       "11863502262781                NaN  \n",
       "49537067089222                NaN  \n",
       "297729379853735               NaN  \n",
       "313578113262317          154022.0  \n",
       "325320750514679               NaN  "
      ]
     },
     "execution_count": 41,
     "metadata": {
      "tags": []
     },
     "output_type": "execute_result"
    }
   ],
   "source": [
    "# Объединим таблицы и найдем время прошедшее от первой сессии до первой покупки\n",
    "\n",
    "first_visit_order_pivot = first_visit_pivot.merge(first_order_pivot, how='outer', on='uid')\n",
    "first_visit_order_pivot['time_to_order'] = first_visit_order_pivot['order_date'] - first_visit_order_pivot['start_ts']\n",
    "\n",
    "# Создадим колонку с количеством минут до покупки\n",
    "\n",
    "first_visit_order_pivot['minutes_to_order'] = first_visit_order_pivot['time_to_order'].dt.days * 24 * 60 + first_visit_order_pivot['time_to_order'].dt.seconds / 60\n",
    "first_visit_order_pivot.head()"
   ]
  },
  {
   "cell_type": "code",
   "execution_count": 0,
   "metadata": {
    "colab": {},
    "colab_type": "code",
    "id": "8KzkZVdRdsA5",
    "outputId": "07c2e44b-6953-4896-d989-d8496da026ab",
    "scrolled": true
   },
   "outputs": [
    {
     "data": {
      "text/html": [
       "<div>\n",
       "<style scoped>\n",
       "    .dataframe tbody tr th:only-of-type {\n",
       "        vertical-align: middle;\n",
       "    }\n",
       "\n",
       "    .dataframe tbody tr th {\n",
       "        vertical-align: top;\n",
       "    }\n",
       "\n",
       "    .dataframe thead th {\n",
       "        text-align: right;\n",
       "    }\n",
       "</style>\n",
       "<table border=\"1\" class=\"dataframe\">\n",
       "  <thead>\n",
       "    <tr style=\"text-align: right;\">\n",
       "      <th></th>\n",
       "      <th>time_to_order</th>\n",
       "      <th>minutes_to_order</th>\n",
       "    </tr>\n",
       "  </thead>\n",
       "  <tbody>\n",
       "    <tr>\n",
       "      <th>count</th>\n",
       "      <td>36523</td>\n",
       "      <td>36523.000000</td>\n",
       "    </tr>\n",
       "    <tr>\n",
       "      <th>mean</th>\n",
       "      <td>16 days 21:35:35.732552</td>\n",
       "      <td>24335.595543</td>\n",
       "    </tr>\n",
       "    <tr>\n",
       "      <th>std</th>\n",
       "      <td>47 days 01:46:26.123394</td>\n",
       "      <td>67786.435390</td>\n",
       "    </tr>\n",
       "    <tr>\n",
       "      <th>min</th>\n",
       "      <td>-1 days +00:59:00</td>\n",
       "      <td>-1381.000000</td>\n",
       "    </tr>\n",
       "    <tr>\n",
       "      <th>25%</th>\n",
       "      <td>0 days 00:04:00</td>\n",
       "      <td>4.000000</td>\n",
       "    </tr>\n",
       "    <tr>\n",
       "      <th>50%</th>\n",
       "      <td>0 days 00:16:00</td>\n",
       "      <td>16.000000</td>\n",
       "    </tr>\n",
       "    <tr>\n",
       "      <th>75%</th>\n",
       "      <td>2 days 00:17:00</td>\n",
       "      <td>2897.000000</td>\n",
       "    </tr>\n",
       "    <tr>\n",
       "      <th>max</th>\n",
       "      <td>363 days 07:04:00</td>\n",
       "      <td>523144.000000</td>\n",
       "    </tr>\n",
       "  </tbody>\n",
       "</table>\n",
       "</div>"
      ],
      "text/plain": [
       "                 time_to_order  minutes_to_order\n",
       "count                    36523      36523.000000\n",
       "mean   16 days 21:35:35.732552      24335.595543\n",
       "std    47 days 01:46:26.123394      67786.435390\n",
       "min          -1 days +00:59:00      -1381.000000\n",
       "25%            0 days 00:04:00          4.000000\n",
       "50%            0 days 00:16:00         16.000000\n",
       "75%            2 days 00:17:00       2897.000000\n",
       "max          363 days 07:04:00     523144.000000"
      ]
     },
     "execution_count": 42,
     "metadata": {
      "tags": []
     },
     "output_type": "execute_result"
    }
   ],
   "source": [
    "first_visit_order_pivot.describe()"
   ]
  },
  {
   "cell_type": "markdown",
   "metadata": {
    "colab_type": "text",
    "id": "BDFx4FghdsA6"
   },
   "source": [
    "В данных есть покупки совершенные до первой сесии."
   ]
  },
  {
   "cell_type": "code",
   "execution_count": 0,
   "metadata": {
    "colab": {},
    "colab_type": "code",
    "id": "ZRuiVuC9dsA6",
    "outputId": "1b5d2b3f-7f23-4e24-c8e1-e46a3c1e28c9"
   },
   "outputs": [
    {
     "data": {
      "text/html": [
       "<div>\n",
       "<style scoped>\n",
       "    .dataframe tbody tr th:only-of-type {\n",
       "        vertical-align: middle;\n",
       "    }\n",
       "\n",
       "    .dataframe tbody tr th {\n",
       "        vertical-align: top;\n",
       "    }\n",
       "\n",
       "    .dataframe thead th {\n",
       "        text-align: right;\n",
       "    }\n",
       "</style>\n",
       "<table border=\"1\" class=\"dataframe\">\n",
       "  <thead>\n",
       "    <tr style=\"text-align: right;\">\n",
       "      <th></th>\n",
       "      <th>start_ts</th>\n",
       "      <th>order_date</th>\n",
       "      <th>time_to_order</th>\n",
       "      <th>minutes_to_order</th>\n",
       "    </tr>\n",
       "    <tr>\n",
       "      <th>uid</th>\n",
       "      <th></th>\n",
       "      <th></th>\n",
       "      <th></th>\n",
       "      <th></th>\n",
       "    </tr>\n",
       "  </thead>\n",
       "  <tbody>\n",
       "    <tr>\n",
       "      <th>7141446460022733181</th>\n",
       "      <td>2017-07-21 16:15:00</td>\n",
       "      <td>2017-07-21 13:43:00</td>\n",
       "      <td>-1 days +21:28:00</td>\n",
       "      <td>-152.0</td>\n",
       "    </tr>\n",
       "    <tr>\n",
       "      <th>7681053583481866892</th>\n",
       "      <td>2017-09-09 18:32:00</td>\n",
       "      <td>2017-09-09 16:26:00</td>\n",
       "      <td>-1 days +21:54:00</td>\n",
       "      <td>-126.0</td>\n",
       "    </tr>\n",
       "    <tr>\n",
       "      <th>15460601537238301184</th>\n",
       "      <td>2018-03-27 14:35:00</td>\n",
       "      <td>2018-03-27 09:01:00</td>\n",
       "      <td>-1 days +18:26:00</td>\n",
       "      <td>-334.0</td>\n",
       "    </tr>\n",
       "    <tr>\n",
       "      <th>16761449191824948290</th>\n",
       "      <td>2017-09-15 10:07:00</td>\n",
       "      <td>2017-09-15 09:00:00</td>\n",
       "      <td>-1 days +22:53:00</td>\n",
       "      <td>-67.0</td>\n",
       "    </tr>\n",
       "    <tr>\n",
       "      <th>14410667060854918391</th>\n",
       "      <td>2017-09-29 15:52:00</td>\n",
       "      <td>2017-09-29 11:10:00</td>\n",
       "      <td>-1 days +19:18:00</td>\n",
       "      <td>-282.0</td>\n",
       "    </tr>\n",
       "  </tbody>\n",
       "</table>\n",
       "</div>"
      ],
      "text/plain": [
       "                                start_ts          order_date  \\\n",
       "uid                                                            \n",
       "7141446460022733181  2017-07-21 16:15:00 2017-07-21 13:43:00   \n",
       "7681053583481866892  2017-09-09 18:32:00 2017-09-09 16:26:00   \n",
       "15460601537238301184 2018-03-27 14:35:00 2018-03-27 09:01:00   \n",
       "16761449191824948290 2017-09-15 10:07:00 2017-09-15 09:00:00   \n",
       "14410667060854918391 2017-09-29 15:52:00 2017-09-29 11:10:00   \n",
       "\n",
       "                         time_to_order  minutes_to_order  \n",
       "uid                                                       \n",
       "7141446460022733181  -1 days +21:28:00            -152.0  \n",
       "7681053583481866892  -1 days +21:54:00            -126.0  \n",
       "15460601537238301184 -1 days +18:26:00            -334.0  \n",
       "16761449191824948290 -1 days +22:53:00             -67.0  \n",
       "14410667060854918391 -1 days +19:18:00            -282.0  "
      ]
     },
     "execution_count": 43,
     "metadata": {
      "tags": []
     },
     "output_type": "execute_result"
    }
   ],
   "source": [
    "first_visit_order_pivot.query('minutes_to_order < 0').sample(5)"
   ]
  },
  {
   "cell_type": "markdown",
   "metadata": {
    "colab_type": "text",
    "id": "fvXc8pVwdsA9"
   },
   "source": [
    "Видимо, стоит составить по этому поводу баг-репорт разработчикам."
   ]
  },
  {
   "cell_type": "code",
   "execution_count": 0,
   "metadata": {
    "colab": {},
    "colab_type": "code",
    "id": "tdKgy8lrdsA-",
    "scrolled": true
   },
   "outputs": [],
   "source": [
    "# Исключим отрицательные строки из выборки\n",
    "first_visit_order_pivot = first_visit_order_pivot.query('minutes_to_order >= 0')"
   ]
  },
  {
   "cell_type": "code",
   "execution_count": 0,
   "metadata": {
    "colab": {},
    "colab_type": "code",
    "id": "cxq12gwfdsA_",
    "outputId": "6e126c5a-e43e-4504-e9d8-e88a695615e3"
   },
   "outputs": [
    {
     "data": {
      "image/png": "[encoded data removed]",
      "text/plain": [
       "<Figure size 720x720 with 2 Axes>"
      ]
     },
     "metadata": {
      "tags": []
     },
     "output_type": "display_data"
    }
   ],
   "source": [
    "plt.subplots(figsize = (10, 10))\n",
    "plot = (first_visit_order_pivot['minutes_to_order']\n",
    "        .hist(bins=100, ax = plt.subplot(2, 1, 1))\n",
    "       )\n",
    "plot = (first_visit_order_pivot[['minutes_to_order']]\n",
    "        .boxplot(vert=False, ax = plt.subplot(2, 1, 2))\n",
    "       )"
   ]
  },
  {
   "cell_type": "markdown",
   "metadata": {
    "colab_type": "text",
    "id": "KuvrbGKEdsBB"
   },
   "source": [
    "В этом случае также смотрим на моду."
   ]
  },
  {
   "cell_type": "code",
   "execution_count": 0,
   "metadata": {
    "colab": {},
    "colab_type": "code",
    "id": "liuJXU-mdsBB",
    "outputId": "049e6447-b023-4d27-f794-b3cf89366b07"
   },
   "outputs": [
    {
     "data": {
      "text/html": [
       "<div>\n",
       "<style scoped>\n",
       "    .dataframe tbody tr th:only-of-type {\n",
       "        vertical-align: middle;\n",
       "    }\n",
       "\n",
       "    .dataframe tbody tr th {\n",
       "        vertical-align: top;\n",
       "    }\n",
       "\n",
       "    .dataframe thead th {\n",
       "        text-align: right;\n",
       "    }\n",
       "</style>\n",
       "<table border=\"1\" class=\"dataframe\">\n",
       "  <thead>\n",
       "    <tr style=\"text-align: right;\">\n",
       "      <th></th>\n",
       "      <th>minutes_to_order</th>\n",
       "    </tr>\n",
       "  </thead>\n",
       "  <tbody>\n",
       "    <tr>\n",
       "      <th>0</th>\n",
       "      <td>1.0</td>\n",
       "    </tr>\n",
       "  </tbody>\n",
       "</table>\n",
       "</div>"
      ],
      "text/plain": [
       "   minutes_to_order\n",
       "0               1.0"
      ]
     },
     "execution_count": 46,
     "metadata": {
      "tags": []
     },
     "output_type": "execute_result"
    }
   ],
   "source": [
    "first_visit_order_pivot[['minutes_to_order']].mode()"
   ]
  },
  {
   "cell_type": "markdown",
   "metadata": {
    "colab_type": "text",
    "id": "5VPy4F7IdsBD"
   },
   "source": [
    "Среднее время от первой сессии до покупки 1 минута."
   ]
  },
  {
   "cell_type": "markdown",
   "metadata": {
    "colab_type": "text",
    "id": "dKqhrfq6dsBD"
   },
   "source": [
    "Также на гистограмме видно, что у нас достаточно много 0 значений. Посмотрим на них."
   ]
  },
  {
   "cell_type": "code",
   "execution_count": 0,
   "metadata": {
    "colab": {},
    "colab_type": "code",
    "id": "VQdWD-BzdsBE",
    "outputId": "8be89966-7f7f-44e3-dd22-7bc917d8a818",
    "scrolled": true
   },
   "outputs": [
    {
     "data": {
      "text/html": [
       "<div>\n",
       "<style scoped>\n",
       "    .dataframe tbody tr th:only-of-type {\n",
       "        vertical-align: middle;\n",
       "    }\n",
       "\n",
       "    .dataframe tbody tr th {\n",
       "        vertical-align: top;\n",
       "    }\n",
       "\n",
       "    .dataframe thead th {\n",
       "        text-align: right;\n",
       "    }\n",
       "</style>\n",
       "<table border=\"1\" class=\"dataframe\">\n",
       "  <thead>\n",
       "    <tr style=\"text-align: right;\">\n",
       "      <th></th>\n",
       "      <th>start_ts</th>\n",
       "      <th>order_date</th>\n",
       "      <th>time_to_order</th>\n",
       "      <th>minutes_to_order</th>\n",
       "    </tr>\n",
       "    <tr>\n",
       "      <th>uid</th>\n",
       "      <th></th>\n",
       "      <th></th>\n",
       "      <th></th>\n",
       "      <th></th>\n",
       "    </tr>\n",
       "  </thead>\n",
       "  <tbody>\n",
       "    <tr>\n",
       "      <th>1575281904278712</th>\n",
       "      <td>2017-06-03 10:13:00</td>\n",
       "      <td>2017-06-03 10:13:00</td>\n",
       "      <td>0 days</td>\n",
       "      <td>0.0</td>\n",
       "    </tr>\n",
       "    <tr>\n",
       "      <th>4992223027560440</th>\n",
       "      <td>2018-04-04 13:54:00</td>\n",
       "      <td>2018-04-04 13:54:00</td>\n",
       "      <td>0 days</td>\n",
       "      <td>0.0</td>\n",
       "    </tr>\n",
       "    <tr>\n",
       "      <th>40600246103358732</th>\n",
       "      <td>2017-07-21 19:08:00</td>\n",
       "      <td>2017-07-21 19:08:00</td>\n",
       "      <td>0 days</td>\n",
       "      <td>0.0</td>\n",
       "    </tr>\n",
       "    <tr>\n",
       "      <th>63518007192153846</th>\n",
       "      <td>2018-03-22 12:16:00</td>\n",
       "      <td>2018-03-22 12:16:00</td>\n",
       "      <td>0 days</td>\n",
       "      <td>0.0</td>\n",
       "    </tr>\n",
       "    <tr>\n",
       "      <th>78571833759388849</th>\n",
       "      <td>2017-09-24 18:33:00</td>\n",
       "      <td>2017-09-24 18:33:00</td>\n",
       "      <td>0 days</td>\n",
       "      <td>0.0</td>\n",
       "    </tr>\n",
       "  </tbody>\n",
       "</table>\n",
       "</div>"
      ],
      "text/plain": [
       "                             start_ts          order_date time_to_order  \\\n",
       "uid                                                                       \n",
       "1575281904278712  2017-06-03 10:13:00 2017-06-03 10:13:00        0 days   \n",
       "4992223027560440  2018-04-04 13:54:00 2018-04-04 13:54:00        0 days   \n",
       "40600246103358732 2017-07-21 19:08:00 2017-07-21 19:08:00        0 days   \n",
       "63518007192153846 2018-03-22 12:16:00 2018-03-22 12:16:00        0 days   \n",
       "78571833759388849 2017-09-24 18:33:00 2017-09-24 18:33:00        0 days   \n",
       "\n",
       "                   minutes_to_order  \n",
       "uid                                  \n",
       "1575281904278712                0.0  \n",
       "4992223027560440                0.0  \n",
       "40600246103358732               0.0  \n",
       "63518007192153846               0.0  \n",
       "78571833759388849               0.0  "
      ]
     },
     "execution_count": 47,
     "metadata": {
      "tags": []
     },
     "output_type": "execute_result"
    }
   ],
   "source": [
    "first_visit_order_pivot.query('minutes_to_order == 0').head()"
   ]
  },
  {
   "cell_type": "markdown",
   "metadata": {
    "colab_type": "text",
    "id": "ikXhEzYxdsBF"
   },
   "source": [
    "Зашли и сразу что-то купили. Почему бы и нет."
   ]
  },
  {
   "cell_type": "markdown",
   "metadata": {
    "colab_type": "text",
    "id": "P_OQzk9RdsBG"
   },
   "source": [
    "<font style=\"color:#2B9F27; font-size:200%\">•</font> Сколько раз покупают за период и какой средний чек?"
   ]
  },
  {
   "cell_type": "markdown",
   "metadata": {
    "colab_type": "text",
    "id": "LbeSfXS3dsBG"
   },
   "source": [
    "Посмотрим на помесячное и понедельное количество заказов и средний чек."
   ]
  },
  {
   "cell_type": "code",
   "execution_count": 0,
   "metadata": {
    "colab": {},
    "colab_type": "code",
    "id": "L01TtbUXdsBG"
   },
   "outputs": [],
   "source": [
    "# Создадим отдельные столбцы с годом, месяцем и неделей заказа.\n",
    "\n",
    "orders['order_week'] = orders['order_date'].dt.week\n",
    "orders['order_month'] = orders['order_date'].dt.month\n",
    "orders['order_year'] = orders['order_date'].dt.year\n",
    "\n",
    "# Сгруппируем заказы по месяцам и добавим в отдельный столбец средний чек\n",
    "\n",
    "orders_by_months = orders.groupby(['order_year', 'order_month']).agg({'uid': 'count','revenue':'sum'})\n",
    "orders_by_months['revenue_per_user'] = orders_by_months['revenue'] / orders_by_months['uid']\n",
    "\n",
    "# Сгруппируем заказы по неделям и добавим в отдельный столбец средний чек\n",
    "\n",
    "orders_by_weeks = orders.groupby(['order_year', 'order_week']).agg({'uid': 'count','revenue':'sum'})\n",
    "orders_by_weeks['revenue_per_user'] = orders_by_weeks['revenue'] / orders_by_weeks['uid']"
   ]
  },
  {
   "cell_type": "code",
   "execution_count": 0,
   "metadata": {
    "colab": {},
    "colab_type": "code",
    "id": "UPWSgNXadsBJ",
    "outputId": "fe686c82-5d75-46c7-84f1-74a744f1a186"
   },
   "outputs": [
    {
     "data": {
      "text/html": [
       "<div>\n",
       "<style scoped>\n",
       "    .dataframe tbody tr th:only-of-type {\n",
       "        vertical-align: middle;\n",
       "    }\n",
       "\n",
       "    .dataframe tbody tr th {\n",
       "        vertical-align: top;\n",
       "    }\n",
       "\n",
       "    .dataframe thead th {\n",
       "        text-align: right;\n",
       "    }\n",
       "</style>\n",
       "<table border=\"1\" class=\"dataframe\">\n",
       "  <thead>\n",
       "    <tr style=\"text-align: right;\">\n",
       "      <th></th>\n",
       "      <th></th>\n",
       "      <th>uid</th>\n",
       "      <th>revenue</th>\n",
       "      <th>revenue_per_user</th>\n",
       "    </tr>\n",
       "    <tr>\n",
       "      <th>order_year</th>\n",
       "      <th>order_month</th>\n",
       "      <th></th>\n",
       "      <th></th>\n",
       "      <th></th>\n",
       "    </tr>\n",
       "  </thead>\n",
       "  <tbody>\n",
       "    <tr>\n",
       "      <th rowspan=\"7\" valign=\"top\">2017</th>\n",
       "      <th>6</th>\n",
       "      <td>2354</td>\n",
       "      <td>9557.49</td>\n",
       "      <td>4.060106</td>\n",
       "    </tr>\n",
       "    <tr>\n",
       "      <th>7</th>\n",
       "      <td>2363</td>\n",
       "      <td>12539.47</td>\n",
       "      <td>5.306589</td>\n",
       "    </tr>\n",
       "    <tr>\n",
       "      <th>8</th>\n",
       "      <td>1807</td>\n",
       "      <td>8758.78</td>\n",
       "      <td>4.847139</td>\n",
       "    </tr>\n",
       "    <tr>\n",
       "      <th>9</th>\n",
       "      <td>3387</td>\n",
       "      <td>18345.51</td>\n",
       "      <td>5.416448</td>\n",
       "    </tr>\n",
       "    <tr>\n",
       "      <th>10</th>\n",
       "      <td>5679</td>\n",
       "      <td>27987.70</td>\n",
       "      <td>4.928280</td>\n",
       "    </tr>\n",
       "    <tr>\n",
       "      <th>11</th>\n",
       "      <td>5659</td>\n",
       "      <td>27069.93</td>\n",
       "      <td>4.783518</td>\n",
       "    </tr>\n",
       "    <tr>\n",
       "      <th>12</th>\n",
       "      <td>6218</td>\n",
       "      <td>36388.60</td>\n",
       "      <td>5.852139</td>\n",
       "    </tr>\n",
       "    <tr>\n",
       "      <th rowspan=\"6\" valign=\"top\">2018</th>\n",
       "      <th>1</th>\n",
       "      <td>4721</td>\n",
       "      <td>19417.13</td>\n",
       "      <td>4.112927</td>\n",
       "    </tr>\n",
       "    <tr>\n",
       "      <th>2</th>\n",
       "      <td>5281</td>\n",
       "      <td>25560.54</td>\n",
       "      <td>4.840095</td>\n",
       "    </tr>\n",
       "    <tr>\n",
       "      <th>3</th>\n",
       "      <td>5326</td>\n",
       "      <td>28834.59</td>\n",
       "      <td>5.413930</td>\n",
       "    </tr>\n",
       "    <tr>\n",
       "      <th>4</th>\n",
       "      <td>3273</td>\n",
       "      <td>16858.06</td>\n",
       "      <td>5.150645</td>\n",
       "    </tr>\n",
       "    <tr>\n",
       "      <th>5</th>\n",
       "      <td>4346</td>\n",
       "      <td>20735.98</td>\n",
       "      <td>4.771279</td>\n",
       "    </tr>\n",
       "    <tr>\n",
       "      <th>6</th>\n",
       "      <td>1</td>\n",
       "      <td>3.42</td>\n",
       "      <td>3.420000</td>\n",
       "    </tr>\n",
       "  </tbody>\n",
       "</table>\n",
       "</div>"
      ],
      "text/plain": [
       "                         uid   revenue  revenue_per_user\n",
       "order_year order_month                                  \n",
       "2017       6            2354   9557.49          4.060106\n",
       "           7            2363  12539.47          5.306589\n",
       "           8            1807   8758.78          4.847139\n",
       "           9            3387  18345.51          5.416448\n",
       "           10           5679  27987.70          4.928280\n",
       "           11           5659  27069.93          4.783518\n",
       "           12           6218  36388.60          5.852139\n",
       "2018       1            4721  19417.13          4.112927\n",
       "           2            5281  25560.54          4.840095\n",
       "           3            5326  28834.59          5.413930\n",
       "           4            3273  16858.06          5.150645\n",
       "           5            4346  20735.98          4.771279\n",
       "           6               1      3.42          3.420000"
      ]
     },
     "execution_count": 49,
     "metadata": {
      "tags": []
     },
     "output_type": "execute_result"
    }
   ],
   "source": [
    "orders_by_months"
   ]
  },
  {
   "cell_type": "markdown",
   "metadata": {
    "colab_type": "text",
    "id": "oaW8r_LgdsBO"
   },
   "source": [
    "Данные обрываются в июне 2018 на первой покупке."
   ]
  },
  {
   "cell_type": "code",
   "execution_count": 0,
   "metadata": {
    "colab": {},
    "colab_type": "code",
    "id": "h70VPDAgdsBP",
    "outputId": "cd85747c-0e64-42b4-d565-1932dda3c9ba",
    "scrolled": false
   },
   "outputs": [
    {
     "data": {
      "text/plain": [
       "Text(0.5, 1.0, 'Количество заказов и средний чек помесячно')"
      ]
     },
     "execution_count": 50,
     "metadata": {
      "tags": []
     },
     "output_type": "execute_result"
    },
    {
     "data": {
      "image/png": "[encoded data removed]",
      "text/plain": [
       "<Figure size 1152x360 with 2 Axes>"
      ]
     },
     "metadata": {
      "tags": []
     },
     "output_type": "display_data"
    }
   ],
   "source": [
    "orders_by_months[['uid', 'revenue_per_user']].plot(kind='bar', secondary_y='revenue_per_user', figsize=(16, 5))\n",
    "plt.title('Количество заказов и средний чек помесячно')"
   ]
  },
  {
   "cell_type": "markdown",
   "metadata": {
    "colab_type": "text",
    "id": "jHcSvnx_dsBS"
   },
   "source": [
    "Количество заказов в месяц разное. В августе 2017 - 1807, в декабре - 6218.  \n",
    "Средний чек более постоянный - колеблется около 4,8."
   ]
  },
  {
   "cell_type": "markdown",
   "metadata": {
    "colab_type": "text",
    "id": "1TA78Lg0dsBT"
   },
   "source": [
    "Информацию по неделям объемная, ее сразу визуализируем."
   ]
  },
  {
   "cell_type": "code",
   "execution_count": 0,
   "metadata": {
    "colab": {},
    "colab_type": "code",
    "id": "z58O_VipdsBT",
    "outputId": "114b0c7c-e001-4326-ac36-4d307cf47cdc",
    "scrolled": false
   },
   "outputs": [
    {
     "data": {
      "text/plain": [
       "Text(0.5, 1.0, 'Количество заказов и средний чек по неделям')"
      ]
     },
     "execution_count": 52,
     "metadata": {
      "tags": []
     },
     "output_type": "execute_result"
    },
    {
     "data": {
      "image/png": "[encoded data removed]",
      "text/plain": [
       "<Figure size 1152x360 with 2 Axes>"
      ]
     },
     "metadata": {
      "tags": []
     },
     "output_type": "display_data"
    }
   ],
   "source": [
    "orders_by_weeks[['uid', 'revenue_per_user']].plot(kind='bar', secondary_y='revenue_per_user', figsize=(16, 5))\n",
    "plt.title('Количество заказов и средний чек по неделям')"
   ]
  },
  {
   "cell_type": "code",
   "execution_count": 0,
   "metadata": {
    "colab": {},
    "colab_type": "code",
    "id": "NywhCJn-dsBW",
    "outputId": "58a55953-7610-4099-e335-e0258e92c01a"
   },
   "outputs": [
    {
     "data": {
      "text/html": [
       "<div>\n",
       "<style scoped>\n",
       "    .dataframe tbody tr th:only-of-type {\n",
       "        vertical-align: middle;\n",
       "    }\n",
       "\n",
       "    .dataframe tbody tr th {\n",
       "        vertical-align: top;\n",
       "    }\n",
       "\n",
       "    .dataframe thead th {\n",
       "        text-align: right;\n",
       "    }\n",
       "</style>\n",
       "<table border=\"1\" class=\"dataframe\">\n",
       "  <thead>\n",
       "    <tr style=\"text-align: right;\">\n",
       "      <th></th>\n",
       "      <th>uid</th>\n",
       "      <th>revenue_per_user</th>\n",
       "    </tr>\n",
       "  </thead>\n",
       "  <tbody>\n",
       "    <tr>\n",
       "      <th>count</th>\n",
       "      <td>53.000000</td>\n",
       "      <td>53.000000</td>\n",
       "    </tr>\n",
       "    <tr>\n",
       "      <th>mean</th>\n",
       "      <td>951.226415</td>\n",
       "      <td>4.951729</td>\n",
       "    </tr>\n",
       "    <tr>\n",
       "      <th>std</th>\n",
       "      <td>396.439958</td>\n",
       "      <td>0.904931</td>\n",
       "    </tr>\n",
       "    <tr>\n",
       "      <th>min</th>\n",
       "      <td>314.000000</td>\n",
       "      <td>2.914264</td>\n",
       "    </tr>\n",
       "    <tr>\n",
       "      <th>25%</th>\n",
       "      <td>636.000000</td>\n",
       "      <td>4.296451</td>\n",
       "    </tr>\n",
       "    <tr>\n",
       "      <th>50%</th>\n",
       "      <td>991.000000</td>\n",
       "      <td>4.851616</td>\n",
       "    </tr>\n",
       "    <tr>\n",
       "      <th>75%</th>\n",
       "      <td>1257.000000</td>\n",
       "      <td>5.722618</td>\n",
       "    </tr>\n",
       "    <tr>\n",
       "      <th>max</th>\n",
       "      <td>1894.000000</td>\n",
       "      <td>7.546664</td>\n",
       "    </tr>\n",
       "  </tbody>\n",
       "</table>\n",
       "</div>"
      ],
      "text/plain": [
       "               uid  revenue_per_user\n",
       "count    53.000000         53.000000\n",
       "mean    951.226415          4.951729\n",
       "std     396.439958          0.904931\n",
       "min     314.000000          2.914264\n",
       "25%     636.000000          4.296451\n",
       "50%     991.000000          4.851616\n",
       "75%    1257.000000          5.722618\n",
       "max    1894.000000          7.546664"
      ]
     },
     "execution_count": 53,
     "metadata": {
      "tags": []
     },
     "output_type": "execute_result"
    }
   ],
   "source": [
    "orders_by_weeks[['uid','revenue_per_user']].describe()"
   ]
  },
  {
   "cell_type": "markdown",
   "metadata": {
    "colab_type": "text",
    "id": "pZRtgw50dsBa"
   },
   "source": [
    "Количество заказов понедельно разное. На графике видно, что на неделе 2017, 23 резкий скачок, дальше оно опускается до уровня предыдущей недели и плавно растет в течение 5 недель. Падает, снова растет. Надо посмотреть, связаны ли эти скачки с рекламной кампанией.\n",
    "\n",
    "Средний чек при этом колеблется опять же незначительно 4,8 - 4,9."
   ]
  },
  {
   "cell_type": "code",
   "execution_count": 0,
   "metadata": {
    "colab": {},
    "colab_type": "code",
    "id": "QpEzbwQTdsBa"
   },
   "outputs": [],
   "source": [
    "# Для каждого клиента получим дату его первого заказа\n",
    "\n",
    "first_order_date_by_customers = orders.groupby('uid')['order_date'].min()\n",
    "\n",
    "# Переименуем series, чтобы при добавлении данных в таблицу с покупками не возникало ошибок\n",
    "\n",
    "first_order_date_by_customers.name = 'first_order_date'\n",
    "\n",
    "# Добавим дату первой покупки в таблицу с покупками\n",
    "\n",
    "orders = orders.join(first_order_date_by_customers, on='uid')\n",
    "\n",
    "# Выделим в отдельный столбцы месяц совершения покупки и первой покупки\n",
    "\n",
    "orders['first_order_month'] = orders['first_order_date'].astype('datetime64[M]')\n",
    "orders['order_month'] = orders['order_date'].astype('datetime64[M]')"
   ]
  },
  {
   "cell_type": "markdown",
   "metadata": {
    "colab_type": "text",
    "id": "Q4_RrzMEdsBb"
   },
   "source": [
    "Сформируем когорты по месяцу первой покупки."
   ]
  },
  {
   "cell_type": "code",
   "execution_count": 0,
   "metadata": {
    "colab": {},
    "colab_type": "code",
    "id": "v0kDw5qGdsBc",
    "scrolled": true
   },
   "outputs": [],
   "source": [
    "orders_copy = orders.copy()\n",
    "orders_copy['first_order_month'] = orders_copy['first_order_month'].dt.strftime('%Y-%m')\n",
    "orders_copy['order_month'] = orders_copy['order_month'].dt.strftime('%Y-%m')"
   ]
  },
  {
   "cell_type": "markdown",
   "metadata": {
    "colab_type": "text",
    "id": "SYdh-u7mdsBd"
   },
   "source": [
    "Посмотрим, как изменяется количество покупок внутри одной когорты"
   ]
  },
  {
   "cell_type": "code",
   "execution_count": 0,
   "metadata": {
    "colab": {},
    "colab_type": "code",
    "id": "OHs4WyAhdsBd",
    "scrolled": true
   },
   "outputs": [],
   "source": [
    "orders_pivot = orders_copy.pivot_table(index='first_order_month',\n",
    "    columns='order_month',\n",
    "    values='uid',\n",
    "    aggfunc='count')"
   ]
  },
  {
   "cell_type": "code",
   "execution_count": 0,
   "metadata": {
    "colab": {},
    "colab_type": "code",
    "id": "urvVTzIAdsBf",
    "outputId": "54f543d3-e4c4-4f11-9316-cd5c58494eb2"
   },
   "outputs": [
    {
     "name": "stderr",
     "output_type": "stream",
     "text": [
      "/opt/conda/lib/python3.7/site-packages/seaborn/matrix.py:268: PendingDeprecationWarning: \n",
      "The label function will be deprecated in a future version. Use Tick.label1 instead.\n",
      "  fontsize = tick.label.get_size()\n"
     ]
    },
    {
     "data": {
      "text/plain": [
       "<matplotlib.axes._subplots.AxesSubplot at 0x7ff924fbafd0>"
      ]
     },
     "execution_count": 57,
     "metadata": {
      "tags": []
     },
     "output_type": "execute_result"
    },
    {
     "data": {
      "image/png": "[encoded data removed]",
      "text/plain": [
       "<Figure size 720x360 with 2 Axes>"
      ]
     },
     "metadata": {
      "tags": []
     },
     "output_type": "display_data"
    }
   ],
   "source": [
    "plt.figure(figsize=(10, 5))\n",
    "plt.title('Количество покупок')\n",
    "sns.heatmap(orders_pivot, annot=True, fmt='.0f', linewidths=0.3, linecolor='#DFE0DF', cmap=\"YlGnBu\")"
   ]
  },
  {
   "cell_type": "markdown",
   "metadata": {
    "colab_type": "text",
    "id": "x3INmdLNdsBg"
   },
   "source": [
    "* После первого месяца количество покупок в когорте снижается.\n",
    "* В некоторых когортах число покупок периодически начинает расти. Например, в когорте 2017-06 в сентябре-октябре.\n",
    "* Количество покупок уменьшается во всех когортах в апреле 2018. Возможно, это связано с сезонностью."
   ]
  },
  {
   "cell_type": "markdown",
   "metadata": {
    "colab_type": "text",
    "id": "D0w7SDDzdsBg"
   },
   "source": [
    "<font style=\"color:red; font-size:200%\">•</font> Как меняется средний чек в когортах?"
   ]
  },
  {
   "cell_type": "code",
   "execution_count": 0,
   "metadata": {
    "colab": {},
    "colab_type": "code",
    "id": "vF7uzVTZdsBi",
    "outputId": "38fead1d-bf49-45cb-8be1-2e06a1d05c7f",
    "scrolled": false
   },
   "outputs": [
    {
     "data": {
      "text/plain": [
       "<matplotlib.axes._subplots.AxesSubplot at 0x7ff922ebf208>"
      ]
     },
     "execution_count": 58,
     "metadata": {
      "tags": []
     },
     "output_type": "execute_result"
    },
    {
     "data": {
      "image/png": "[encoded data removed]",
      "text/plain": [
       "<Figure size 720x360 with 2 Axes>"
      ]
     },
     "metadata": {
      "tags": []
     },
     "output_type": "display_data"
    }
   ],
   "source": [
    "avg_revenue_cohorts = orders_copy.groupby(['first_order_month','order_month']).agg({'revenue':'sum','uid':'count'})\n",
    "avg_revenue_cohorts['revenue_per_user'] = avg_revenue_cohorts['revenue'] / avg_revenue_cohorts['uid']\n",
    "avg_revenue_cohorts_pivot = (avg_revenue_cohorts\n",
    " .pivot_table(index='first_order_month',columns='order_month',values='revenue_per_user',aggfunc='mean'))\n",
    "plt.figure(figsize=(10, 5))\n",
    "plt.title('Средний чек')\n",
    "sns.heatmap(avg_revenue_cohorts_pivot, annot=True, fmt='.0f', linewidths=0.3, linecolor='#DFE0DF', cmap=\"YlGnBu\")"
   ]
  },
  {
   "cell_type": "markdown",
   "metadata": {
    "colab_type": "text",
    "id": "A6B6SvsZdsBk"
   },
   "source": [
    "На этом графике видно, что есть когорты, которые в среднем тратят больше, чем остальные (сентябрьская и декабрьская).  \n",
    "В сентябрьской когорте есть совсем уж неожиданное число - 63.  \n",
    "А в апреле (в котором как мы заметили выше, уменьшается количество покупок относительно других месяцев), в некоторых когортах растет средний чек."
   ]
  },
  {
   "cell_type": "markdown",
   "metadata": {
    "colab_type": "text",
    "id": "C6sGkM4IdsBl"
   },
   "source": [
    "<font style=\"color:#2B9F27; font-size:200%\">•</font> Сколько денег приносят? (LTV)"
   ]
  },
  {
   "cell_type": "markdown",
   "metadata": {
    "colab_type": "text",
    "id": "vI0cTSPtdsBl"
   },
   "source": [
    "**LTV *(от англ. lifetime value)*** — «пожизненная» ценность клиента. Это — итоговая сумма денег, которую один клиент приносит в среднем со всех своих покупок. При расчёте LTV обычно обращаются к валовой прибыли с клиента за период."
   ]
  },
  {
   "cell_type": "code",
   "execution_count": 0,
   "metadata": {
    "colab": {},
    "colab_type": "code",
    "id": "_kDHTN5bdsBm",
    "outputId": "ed46d86f-0f5a-4778-9fde-1e286cd0dac8"
   },
   "outputs": [
    {
     "data": {
      "text/html": [
       "<div>\n",
       "<style scoped>\n",
       "    .dataframe tbody tr th:only-of-type {\n",
       "        vertical-align: middle;\n",
       "    }\n",
       "\n",
       "    .dataframe tbody tr th {\n",
       "        vertical-align: top;\n",
       "    }\n",
       "\n",
       "    .dataframe thead th {\n",
       "        text-align: right;\n",
       "    }\n",
       "</style>\n",
       "<table border=\"1\" class=\"dataframe\">\n",
       "  <thead>\n",
       "    <tr style=\"text-align: right;\">\n",
       "      <th></th>\n",
       "      <th>first_order_month</th>\n",
       "      <th>n_buyers</th>\n",
       "    </tr>\n",
       "  </thead>\n",
       "  <tbody>\n",
       "    <tr>\n",
       "      <th>0</th>\n",
       "      <td>2017-06-01</td>\n",
       "      <td>2023</td>\n",
       "    </tr>\n",
       "    <tr>\n",
       "      <th>1</th>\n",
       "      <td>2017-07-01</td>\n",
       "      <td>1923</td>\n",
       "    </tr>\n",
       "    <tr>\n",
       "      <th>2</th>\n",
       "      <td>2017-08-01</td>\n",
       "      <td>1370</td>\n",
       "    </tr>\n",
       "    <tr>\n",
       "      <th>3</th>\n",
       "      <td>2017-09-01</td>\n",
       "      <td>2581</td>\n",
       "    </tr>\n",
       "    <tr>\n",
       "      <th>4</th>\n",
       "      <td>2017-10-01</td>\n",
       "      <td>4340</td>\n",
       "    </tr>\n",
       "    <tr>\n",
       "      <th>5</th>\n",
       "      <td>2017-11-01</td>\n",
       "      <td>4081</td>\n",
       "    </tr>\n",
       "    <tr>\n",
       "      <th>6</th>\n",
       "      <td>2017-12-01</td>\n",
       "      <td>4383</td>\n",
       "    </tr>\n",
       "    <tr>\n",
       "      <th>7</th>\n",
       "      <td>2018-01-01</td>\n",
       "      <td>3373</td>\n",
       "    </tr>\n",
       "    <tr>\n",
       "      <th>8</th>\n",
       "      <td>2018-02-01</td>\n",
       "      <td>3651</td>\n",
       "    </tr>\n",
       "    <tr>\n",
       "      <th>9</th>\n",
       "      <td>2018-03-01</td>\n",
       "      <td>3533</td>\n",
       "    </tr>\n",
       "    <tr>\n",
       "      <th>10</th>\n",
       "      <td>2018-04-01</td>\n",
       "      <td>2276</td>\n",
       "    </tr>\n",
       "    <tr>\n",
       "      <th>11</th>\n",
       "      <td>2018-05-01</td>\n",
       "      <td>2988</td>\n",
       "    </tr>\n",
       "    <tr>\n",
       "      <th>12</th>\n",
       "      <td>2018-06-01</td>\n",
       "      <td>1</td>\n",
       "    </tr>\n",
       "  </tbody>\n",
       "</table>\n",
       "</div>"
      ],
      "text/plain": [
       "   first_order_month  n_buyers\n",
       "0         2017-06-01      2023\n",
       "1         2017-07-01      1923\n",
       "2         2017-08-01      1370\n",
       "3         2017-09-01      2581\n",
       "4         2017-10-01      4340\n",
       "5         2017-11-01      4081\n",
       "6         2017-12-01      4383\n",
       "7         2018-01-01      3373\n",
       "8         2018-02-01      3651\n",
       "9         2018-03-01      3533\n",
       "10        2018-04-01      2276\n",
       "11        2018-05-01      2988\n",
       "12        2018-06-01         1"
      ]
     },
     "execution_count": 59,
     "metadata": {
      "tags": []
     },
     "output_type": "execute_result"
    }
   ],
   "source": [
    "# Посчитаем количество новых покупателей (n_buyers) за каждый месяц:\n",
    "first_orders = orders.groupby('uid').agg({'order_month': 'min'}).reset_index()\n",
    "first_orders.columns = ['uid', 'first_order_month']\n",
    "ltv_cohort_sizes = first_orders.groupby('first_order_month').agg({'uid': 'nunique'}).reset_index()\n",
    "ltv_cohort_sizes.columns = ['first_order_month', 'n_buyers']\n",
    "ltv_cohort_sizes"
   ]
  },
  {
   "cell_type": "code",
   "execution_count": 0,
   "metadata": {
    "colab": {},
    "colab_type": "code",
    "id": "iTtHM33QdsBn",
    "outputId": "2932a747-30cb-410f-b86b-ee184ab74fc1",
    "scrolled": true
   },
   "outputs": [
    {
     "data": {
      "text/html": [
       "<div>\n",
       "<style scoped>\n",
       "    .dataframe tbody tr th:only-of-type {\n",
       "        vertical-align: middle;\n",
       "    }\n",
       "\n",
       "    .dataframe tbody tr th {\n",
       "        vertical-align: top;\n",
       "    }\n",
       "\n",
       "    .dataframe thead th {\n",
       "        text-align: right;\n",
       "    }\n",
       "</style>\n",
       "<table border=\"1\" class=\"dataframe\">\n",
       "  <thead>\n",
       "    <tr style=\"text-align: right;\">\n",
       "      <th></th>\n",
       "      <th>first_order_month</th>\n",
       "      <th>order_month</th>\n",
       "      <th>revenue</th>\n",
       "    </tr>\n",
       "  </thead>\n",
       "  <tbody>\n",
       "    <tr>\n",
       "      <th>0</th>\n",
       "      <td>2017-06-01</td>\n",
       "      <td>2017-06-01</td>\n",
       "      <td>9557.49</td>\n",
       "    </tr>\n",
       "    <tr>\n",
       "      <th>1</th>\n",
       "      <td>2017-06-01</td>\n",
       "      <td>2017-07-01</td>\n",
       "      <td>981.82</td>\n",
       "    </tr>\n",
       "    <tr>\n",
       "      <th>2</th>\n",
       "      <td>2017-06-01</td>\n",
       "      <td>2017-08-01</td>\n",
       "      <td>885.34</td>\n",
       "    </tr>\n",
       "    <tr>\n",
       "      <th>3</th>\n",
       "      <td>2017-06-01</td>\n",
       "      <td>2017-09-01</td>\n",
       "      <td>1931.30</td>\n",
       "    </tr>\n",
       "    <tr>\n",
       "      <th>4</th>\n",
       "      <td>2017-06-01</td>\n",
       "      <td>2017-10-01</td>\n",
       "      <td>2068.58</td>\n",
       "    </tr>\n",
       "  </tbody>\n",
       "</table>\n",
       "</div>"
      ],
      "text/plain": [
       "  first_order_month order_month  revenue\n",
       "0        2017-06-01  2017-06-01  9557.49\n",
       "1        2017-06-01  2017-07-01   981.82\n",
       "2        2017-06-01  2017-08-01   885.34\n",
       "3        2017-06-01  2017-09-01  1931.30\n",
       "4        2017-06-01  2017-10-01  2068.58"
      ]
     },
     "execution_count": 60,
     "metadata": {
      "tags": []
     },
     "output_type": "execute_result"
    }
   ],
   "source": [
    "# Сгруппируем таблицу заказов по месяцу первой покупки и месяцу каждого заказа и сложим выручку\n",
    "ltv_cohorts = orders.groupby(['first_order_month','order_month']).agg({'revenue': 'sum'}).reset_index()\n",
    "ltv_cohorts.head()"
   ]
  },
  {
   "cell_type": "code",
   "execution_count": 0,
   "metadata": {
    "colab": {},
    "colab_type": "code",
    "id": "Sn-khbPwdsBo",
    "outputId": "a7f659cd-0270-4ad8-c396-bb7330d4dd5e"
   },
   "outputs": [
    {
     "data": {
      "text/html": [
       "<div>\n",
       "<style scoped>\n",
       "    .dataframe tbody tr th:only-of-type {\n",
       "        vertical-align: middle;\n",
       "    }\n",
       "\n",
       "    .dataframe tbody tr th {\n",
       "        vertical-align: top;\n",
       "    }\n",
       "\n",
       "    .dataframe thead th {\n",
       "        text-align: right;\n",
       "    }\n",
       "</style>\n",
       "<table border=\"1\" class=\"dataframe\">\n",
       "  <thead>\n",
       "    <tr style=\"text-align: right;\">\n",
       "      <th></th>\n",
       "      <th>first_order_month</th>\n",
       "      <th>n_buyers</th>\n",
       "      <th>order_month</th>\n",
       "      <th>revenue</th>\n",
       "      <th>age</th>\n",
       "    </tr>\n",
       "  </thead>\n",
       "  <tbody>\n",
       "    <tr>\n",
       "      <th>0</th>\n",
       "      <td>2017-06-01</td>\n",
       "      <td>2023</td>\n",
       "      <td>2017-06-01</td>\n",
       "      <td>9557.49</td>\n",
       "      <td>0</td>\n",
       "    </tr>\n",
       "    <tr>\n",
       "      <th>1</th>\n",
       "      <td>2017-06-01</td>\n",
       "      <td>2023</td>\n",
       "      <td>2017-07-01</td>\n",
       "      <td>981.82</td>\n",
       "      <td>1</td>\n",
       "    </tr>\n",
       "    <tr>\n",
       "      <th>2</th>\n",
       "      <td>2017-06-01</td>\n",
       "      <td>2023</td>\n",
       "      <td>2017-08-01</td>\n",
       "      <td>885.34</td>\n",
       "      <td>2</td>\n",
       "    </tr>\n",
       "    <tr>\n",
       "      <th>3</th>\n",
       "      <td>2017-06-01</td>\n",
       "      <td>2023</td>\n",
       "      <td>2017-09-01</td>\n",
       "      <td>1931.30</td>\n",
       "      <td>3</td>\n",
       "    </tr>\n",
       "    <tr>\n",
       "      <th>4</th>\n",
       "      <td>2017-06-01</td>\n",
       "      <td>2023</td>\n",
       "      <td>2017-10-01</td>\n",
       "      <td>2068.58</td>\n",
       "      <td>4</td>\n",
       "    </tr>\n",
       "  </tbody>\n",
       "</table>\n",
       "</div>"
      ],
      "text/plain": [
       "  first_order_month  n_buyers order_month  revenue  age\n",
       "0        2017-06-01      2023  2017-06-01  9557.49    0\n",
       "1        2017-06-01      2023  2017-07-01   981.82    1\n",
       "2        2017-06-01      2023  2017-08-01   885.34    2\n",
       "3        2017-06-01      2023  2017-09-01  1931.30    3\n",
       "4        2017-06-01      2023  2017-10-01  2068.58    4"
      ]
     },
     "execution_count": 61,
     "metadata": {
      "tags": []
     },
     "output_type": "execute_result"
    }
   ],
   "source": [
    "# Добавим в таблицу cohorts данные о том, сколько людей первый раз совершили покупку в каждый месяц\n",
    "\n",
    "report = pd.merge(ltv_cohort_sizes, ltv_cohorts, on='first_order_month')\n",
    "\n",
    "# LTV — относительный показатель. Значит его удобнее смотреть по «возрастным» когортам, где в столбцах — не месяц заказа, \n",
    "# а возраст (age) когорты.\n",
    "\n",
    "report['age'] = (report['order_month'] - report['first_order_month']) / np.timedelta64(1, 'M')\n",
    "report['age'] = report['age'].round().astype('int')\n",
    "report.head()"
   ]
  },
  {
   "cell_type": "code",
   "execution_count": 0,
   "metadata": {
    "colab": {},
    "colab_type": "code",
    "id": "_80y9IVidsBp",
    "outputId": "47a1c5fc-69de-441b-b49f-f3af1f75c7ce",
    "scrolled": false
   },
   "outputs": [
    {
     "data": {
      "text/html": [
       "<div>\n",
       "<style scoped>\n",
       "    .dataframe tbody tr th:only-of-type {\n",
       "        vertical-align: middle;\n",
       "    }\n",
       "\n",
       "    .dataframe tbody tr th {\n",
       "        vertical-align: top;\n",
       "    }\n",
       "\n",
       "    .dataframe thead th {\n",
       "        text-align: right;\n",
       "    }\n",
       "</style>\n",
       "<table border=\"1\" class=\"dataframe\">\n",
       "  <thead>\n",
       "    <tr style=\"text-align: right;\">\n",
       "      <th>age</th>\n",
       "      <th>0</th>\n",
       "      <th>1</th>\n",
       "      <th>2</th>\n",
       "      <th>3</th>\n",
       "      <th>4</th>\n",
       "      <th>5</th>\n",
       "      <th>6</th>\n",
       "      <th>7</th>\n",
       "      <th>8</th>\n",
       "      <th>9</th>\n",
       "      <th>10</th>\n",
       "      <th>11</th>\n",
       "    </tr>\n",
       "    <tr>\n",
       "      <th>first_order_month</th>\n",
       "      <th></th>\n",
       "      <th></th>\n",
       "      <th></th>\n",
       "      <th></th>\n",
       "      <th></th>\n",
       "      <th></th>\n",
       "      <th></th>\n",
       "      <th></th>\n",
       "      <th></th>\n",
       "      <th></th>\n",
       "      <th></th>\n",
       "      <th></th>\n",
       "    </tr>\n",
       "  </thead>\n",
       "  <tbody>\n",
       "    <tr>\n",
       "      <th>2017-06-01</th>\n",
       "      <td>5.0</td>\n",
       "      <td>0</td>\n",
       "      <td>0</td>\n",
       "      <td>1</td>\n",
       "      <td>1</td>\n",
       "      <td>1</td>\n",
       "      <td>1</td>\n",
       "      <td>1</td>\n",
       "      <td>1</td>\n",
       "      <td>1</td>\n",
       "      <td>1</td>\n",
       "      <td>0</td>\n",
       "    </tr>\n",
       "    <tr>\n",
       "      <th>2017-07-01</th>\n",
       "      <td>6.0</td>\n",
       "      <td>0</td>\n",
       "      <td>1</td>\n",
       "      <td>0</td>\n",
       "      <td>0</td>\n",
       "      <td>0</td>\n",
       "      <td>0</td>\n",
       "      <td>0</td>\n",
       "      <td>0</td>\n",
       "      <td>0</td>\n",
       "      <td>0</td>\n",
       "      <td></td>\n",
       "    </tr>\n",
       "    <tr>\n",
       "      <th>2017-08-01</th>\n",
       "      <td>5.0</td>\n",
       "      <td>0</td>\n",
       "      <td>0</td>\n",
       "      <td>0</td>\n",
       "      <td>0</td>\n",
       "      <td>0</td>\n",
       "      <td>0</td>\n",
       "      <td>0</td>\n",
       "      <td>0</td>\n",
       "      <td>0</td>\n",
       "      <td></td>\n",
       "      <td></td>\n",
       "    </tr>\n",
       "    <tr>\n",
       "      <th>2017-09-01</th>\n",
       "      <td>6.0</td>\n",
       "      <td>1</td>\n",
       "      <td>1</td>\n",
       "      <td>4</td>\n",
       "      <td>0</td>\n",
       "      <td>1</td>\n",
       "      <td>1</td>\n",
       "      <td>0</td>\n",
       "      <td>0</td>\n",
       "      <td></td>\n",
       "      <td></td>\n",
       "      <td></td>\n",
       "    </tr>\n",
       "    <tr>\n",
       "      <th>2017-10-01</th>\n",
       "      <td>5.0</td>\n",
       "      <td>1</td>\n",
       "      <td>0</td>\n",
       "      <td>0</td>\n",
       "      <td>0</td>\n",
       "      <td>0</td>\n",
       "      <td>0</td>\n",
       "      <td>0</td>\n",
       "      <td></td>\n",
       "      <td></td>\n",
       "      <td></td>\n",
       "      <td></td>\n",
       "    </tr>\n",
       "    <tr>\n",
       "      <th>2017-11-01</th>\n",
       "      <td>5.0</td>\n",
       "      <td>0</td>\n",
       "      <td>0</td>\n",
       "      <td>0</td>\n",
       "      <td>0</td>\n",
       "      <td>0</td>\n",
       "      <td>0</td>\n",
       "      <td></td>\n",
       "      <td></td>\n",
       "      <td></td>\n",
       "      <td></td>\n",
       "      <td></td>\n",
       "    </tr>\n",
       "    <tr>\n",
       "      <th>2017-12-01</th>\n",
       "      <td>5.0</td>\n",
       "      <td>0</td>\n",
       "      <td>1</td>\n",
       "      <td>1</td>\n",
       "      <td>0</td>\n",
       "      <td>0</td>\n",
       "      <td></td>\n",
       "      <td></td>\n",
       "      <td></td>\n",
       "      <td></td>\n",
       "      <td></td>\n",
       "      <td></td>\n",
       "    </tr>\n",
       "    <tr>\n",
       "      <th>2018-01-01</th>\n",
       "      <td>4.0</td>\n",
       "      <td>0</td>\n",
       "      <td>0</td>\n",
       "      <td>0</td>\n",
       "      <td>0</td>\n",
       "      <td></td>\n",
       "      <td></td>\n",
       "      <td></td>\n",
       "      <td></td>\n",
       "      <td></td>\n",
       "      <td></td>\n",
       "      <td></td>\n",
       "    </tr>\n",
       "    <tr>\n",
       "      <th>2018-02-01</th>\n",
       "      <td>4.0</td>\n",
       "      <td>0</td>\n",
       "      <td>0</td>\n",
       "      <td>0</td>\n",
       "      <td></td>\n",
       "      <td></td>\n",
       "      <td></td>\n",
       "      <td></td>\n",
       "      <td></td>\n",
       "      <td></td>\n",
       "      <td></td>\n",
       "      <td></td>\n",
       "    </tr>\n",
       "    <tr>\n",
       "      <th>2018-03-01</th>\n",
       "      <td>5.0</td>\n",
       "      <td>0</td>\n",
       "      <td>0</td>\n",
       "      <td></td>\n",
       "      <td></td>\n",
       "      <td></td>\n",
       "      <td></td>\n",
       "      <td></td>\n",
       "      <td></td>\n",
       "      <td></td>\n",
       "      <td></td>\n",
       "      <td></td>\n",
       "    </tr>\n",
       "    <tr>\n",
       "      <th>2018-04-01</th>\n",
       "      <td>5.0</td>\n",
       "      <td>1</td>\n",
       "      <td></td>\n",
       "      <td></td>\n",
       "      <td></td>\n",
       "      <td></td>\n",
       "      <td></td>\n",
       "      <td></td>\n",
       "      <td></td>\n",
       "      <td></td>\n",
       "      <td></td>\n",
       "      <td></td>\n",
       "    </tr>\n",
       "    <tr>\n",
       "      <th>2018-05-01</th>\n",
       "      <td>5.0</td>\n",
       "      <td></td>\n",
       "      <td></td>\n",
       "      <td></td>\n",
       "      <td></td>\n",
       "      <td></td>\n",
       "      <td></td>\n",
       "      <td></td>\n",
       "      <td></td>\n",
       "      <td></td>\n",
       "      <td></td>\n",
       "      <td></td>\n",
       "    </tr>\n",
       "    <tr>\n",
       "      <th>2018-06-01</th>\n",
       "      <td>3.0</td>\n",
       "      <td></td>\n",
       "      <td></td>\n",
       "      <td></td>\n",
       "      <td></td>\n",
       "      <td></td>\n",
       "      <td></td>\n",
       "      <td></td>\n",
       "      <td></td>\n",
       "      <td></td>\n",
       "      <td></td>\n",
       "      <td></td>\n",
       "    </tr>\n",
       "  </tbody>\n",
       "</table>\n",
       "</div>"
      ],
      "text/plain": [
       "age                 0  1  2  3  4  5  6  7  8  9  10 11\n",
       "first_order_month                                      \n",
       "2017-06-01         5.0  0  0  1  1  1  1  1  1  1  1  0\n",
       "2017-07-01         6.0  0  1  0  0  0  0  0  0  0  0   \n",
       "2017-08-01         5.0  0  0  0  0  0  0  0  0  0      \n",
       "2017-09-01         6.0  1  1  4  0  1  1  0  0         \n",
       "2017-10-01         5.0  1  0  0  0  0  0  0            \n",
       "2017-11-01         5.0  0  0  0  0  0  0               \n",
       "2017-12-01         5.0  0  1  1  0  0                  \n",
       "2018-01-01         4.0  0  0  0  0                     \n",
       "2018-02-01         4.0  0  0  0                        \n",
       "2018-03-01         5.0  0  0                           \n",
       "2018-04-01         5.0  1                              \n",
       "2018-05-01         5.0                                 \n",
       "2018-06-01         3.0                                 "
      ]
     },
     "execution_count": 62,
     "metadata": {
      "tags": []
     },
     "output_type": "execute_result"
    }
   ],
   "source": [
    "# Наконец, найдём LTV. Разделим валовую прибыль когорт за каждый месяц на общее число пользователей в каждой когорте. \n",
    "\n",
    "report['ltv'] = report['revenue'] / report['n_buyers']\n",
    "output = report.pivot_table(\n",
    "        index='first_order_month', \n",
    "        columns='age', \n",
    "        values='ltv', \n",
    "        aggfunc='mean').round()\n",
    "output.fillna('')"
   ]
  },
  {
   "cell_type": "markdown",
   "metadata": {
    "colab_type": "text",
    "id": "1ZaiGGAHdsBr"
   },
   "source": [
    "Посчитаем итоговый LTV первой когорты. Сложим их LTV по месяцам:"
   ]
  },
  {
   "cell_type": "code",
   "execution_count": 0,
   "metadata": {
    "colab": {},
    "colab_type": "code",
    "id": "cFRE3NCmdsBr",
    "outputId": "78697b60-41f4-4d44-e1cf-450b73b8339c"
   },
   "outputs": [
    {
     "data": {
      "text/plain": [
       "13.0"
      ]
     },
     "execution_count": 63,
     "metadata": {
      "tags": []
     },
     "output_type": "execute_result"
    }
   ],
   "source": [
    "ltv_201706 = output.loc['2017-06-01'].sum()\n",
    "ltv_201706"
   ]
  },
  {
   "cell_type": "markdown",
   "metadata": {
    "colab_type": "text",
    "id": "EwlzSeVOdsBs"
   },
   "source": [
    "В среднем каждый покупатель из первой когорты принес по 13,0 выручки за 12 месяцев «жизни»."
   ]
  },
  {
   "cell_type": "markdown",
   "metadata": {
    "colab_type": "text",
    "id": "OR9V240SdsBt"
   },
   "source": [
    "<font style=\"color:#C03865; font-size:200%\">•</font> **Маркетинг**"
   ]
  },
  {
   "cell_type": "markdown",
   "metadata": {
    "colab_type": "text",
    "id": "OkBo_O3ydsBt"
   },
   "source": [
    "<font style=\"color:#C03865; font-size:200%\">•</font> Сколько денег потратили? Всего / на каждый источник / по времени"
   ]
  },
  {
   "cell_type": "code",
   "execution_count": 0,
   "metadata": {
    "colab": {},
    "colab_type": "code",
    "id": "oy8PI49ndsBu",
    "outputId": "b4074d61-a3af-4640-994f-f299b79ab1d5"
   },
   "outputs": [
    {
     "name": "stdout",
     "output_type": "stream",
     "text": [
      "Всего на рекламу потрачено: 329131.62.\n"
     ]
    }
   ],
   "source": [
    "print('Всего на рекламу потрачено: {}.'.format(costs['costs'].sum()))"
   ]
  },
  {
   "cell_type": "code",
   "execution_count": 0,
   "metadata": {
    "colab": {},
    "colab_type": "code",
    "id": "cTrKb_prdsBv",
    "outputId": "9d5092ff-c7f6-4e26-d76c-e84e33d94485",
    "scrolled": false
   },
   "outputs": [
    {
     "data": {
      "text/plain": [
       "Text(0.5, 1.0, 'Затраты на маркетинг по источникам')"
      ]
     },
     "execution_count": 65,
     "metadata": {
      "tags": []
     },
     "output_type": "execute_result"
    },
    {
     "data": {
      "image/png": "[encoded data removed]",
      "text/plain": [
       "<Figure size 720x360 with 1 Axes>"
      ]
     },
     "metadata": {
      "tags": []
     },
     "output_type": "display_data"
    }
   ],
   "source": [
    "costs_by_source = costs.groupby('source_id').agg({'costs':'sum'})\n",
    "costs_by_source.plot(kind='bar', figsize=(10, 5))\n",
    "plt.title('Затраты на маркетинг по источникам')"
   ]
  },
  {
   "cell_type": "markdown",
   "metadata": {
    "colab_type": "text",
    "id": "3F_-xnLVdsBw"
   },
   "source": [
    "Больше всего денег вкладывается в 3 источник."
   ]
  },
  {
   "cell_type": "code",
   "execution_count": 0,
   "metadata": {
    "colab": {},
    "colab_type": "code",
    "id": "IPZffJYGdsBx",
    "outputId": "19e0badd-fb58-4ef7-da35-8cc22341dc9a",
    "scrolled": false
   },
   "outputs": [
    {
     "data": {
      "text/plain": [
       "Text(0.5, 1.0, 'Затраты на маркетинг по месяцам')"
      ]
     },
     "execution_count": 66,
     "metadata": {
      "tags": []
     },
     "output_type": "execute_result"
    },
    {
     "data": {
      "image/png": "[encoded data removed]",
      "text/plain": [
       "<Figure size 720x360 with 1 Axes>"
      ]
     },
     "metadata": {
      "tags": []
     },
     "output_type": "display_data"
    }
   ],
   "source": [
    "# Создадим отдельные столбцы с годом и месяцем.\n",
    "\n",
    "costs['week'] = costs['dt'].dt.week\n",
    "costs['month'] = costs['dt'].dt.month\n",
    "costs['year'] = costs['dt'].dt.year\n",
    "\n",
    "# Сгруппируем затраты по месяцам\n",
    "\n",
    "costs_by_months = costs.groupby(['year', 'month']).agg({'costs':'sum'})\n",
    "\n",
    "#costs_by_months['index'] = (costs_by_months['costs'] / 38315.35*100).round().astype('int')\n",
    "\n",
    "costs_by_months.plot(kind='bar', figsize=(10, 5))\n",
    "plt.title('Затраты на маркетинг по месяцам')"
   ]
  },
  {
   "cell_type": "markdown",
   "metadata": {
    "colab_type": "text",
    "id": "-qFIkgr4dsBy"
   },
   "source": [
    "Больше всего денег на маркетинг вложено в декабре.  \n",
    "На графике видно, что летом на рекламу тратят меньше, осенью-зимой расходы растут, весной снижаются."
   ]
  },
  {
   "cell_type": "code",
   "execution_count": 0,
   "metadata": {
    "colab": {},
    "colab_type": "code",
    "id": "X80wx5z-dsB1",
    "outputId": "244a3be8-0c32-47b8-d2fe-7de1605379bc"
   },
   "outputs": [
    {
     "data": {
      "text/plain": [
       "Text(0.5, 1.0, 'Затраты на маркетинг по месяцам и источникам')"
      ]
     },
     "execution_count": 94,
     "metadata": {
      "tags": []
     },
     "output_type": "execute_result"
    },
    {
     "data": {
      "image/png": "[encoded data removed]",
      "text/plain": [
       "<Figure size 720x360 with 1 Axes>"
      ]
     },
     "metadata": {
      "tags": []
     },
     "output_type": "display_data"
    }
   ],
   "source": [
    "# Сгруппируем затраты по месяцам и источникам\n",
    "costs_by_months_and_source = costs.pivot_table(index='month', columns='source_id', values='costs',aggfunc='sum')\n",
    "costs_by_months_and_source.plot(kind='bar', stacked=True, figsize=(10, 5), width=0.7, colormap='PiYG')\n",
    "plt.title('Затраты на маркетинг по месяцам и источникам')"
   ]
  },
  {
   "cell_type": "markdown",
   "metadata": {
    "colab_type": "text",
    "id": "iwVyiXkndsB2"
   },
   "source": [
    "Затраты по источникам также отличаются в зависимости от месяца размещения рекламы. \n",
    "В основном они растут или уменьшаются пропорционально общему закупаемому объему рекламы.\n",
    "Третий источник на протяжении 12 месяцев занимает самую большую долю затрат.  \n",
    "В декабре увеличиваются затраты на 4 источник.  \n",
    "По источинкам 1, 9 и 10 затраты в течение года меняются не значительно."
   ]
  },
  {
   "cell_type": "markdown",
   "metadata": {
    "colab_type": "text",
    "id": "7VPhdNhXdsB2"
   },
   "source": [
    "<font style=\"color:#C03865; font-size:200%\">•</font> Сколько стоило привлечение одного покупателя из каждого источника?"
   ]
  },
  {
   "cell_type": "markdown",
   "metadata": {
    "colab_type": "text",
    "id": "x7izgrDKdsB3"
   },
   "source": [
    "**CAC *(от англ. customer acquisition cost)*** — стоимость привлечения клиента. Сумма денег, во сколько обходится новый клиент компании."
   ]
  },
  {
   "cell_type": "markdown",
   "metadata": {
    "colab_type": "text",
    "id": "wKaEreMwdsB3"
   },
   "source": [
    "Посмотрим, сколько пользователей привлек каждый источник."
   ]
  },
  {
   "cell_type": "code",
   "execution_count": 0,
   "metadata": {
    "colab": {},
    "colab_type": "code",
    "id": "wlLVXZ4gdsB3",
    "outputId": "7779a597-a99e-4547-8695-b97f75dbc19c",
    "scrolled": true
   },
   "outputs": [
    {
     "data": {
      "text/html": [
       "<div>\n",
       "<style scoped>\n",
       "    .dataframe tbody tr th:only-of-type {\n",
       "        vertical-align: middle;\n",
       "    }\n",
       "\n",
       "    .dataframe tbody tr th {\n",
       "        vertical-align: top;\n",
       "    }\n",
       "\n",
       "    .dataframe thead th {\n",
       "        text-align: right;\n",
       "    }\n",
       "</style>\n",
       "<table border=\"1\" class=\"dataframe\">\n",
       "  <thead>\n",
       "    <tr style=\"text-align: right;\">\n",
       "      <th></th>\n",
       "      <th>uid</th>\n",
       "    </tr>\n",
       "    <tr>\n",
       "      <th>source_id</th>\n",
       "      <th></th>\n",
       "    </tr>\n",
       "  </thead>\n",
       "  <tbody>\n",
       "    <tr>\n",
       "      <th>1</th>\n",
       "      <td>18999</td>\n",
       "    </tr>\n",
       "    <tr>\n",
       "      <th>2</th>\n",
       "      <td>26245</td>\n",
       "    </tr>\n",
       "    <tr>\n",
       "      <th>3</th>\n",
       "      <td>74756</td>\n",
       "    </tr>\n",
       "    <tr>\n",
       "      <th>4</th>\n",
       "      <td>83525</td>\n",
       "    </tr>\n",
       "    <tr>\n",
       "      <th>5</th>\n",
       "      <td>56974</td>\n",
       "    </tr>\n",
       "    <tr>\n",
       "      <th>6</th>\n",
       "      <td>6</td>\n",
       "    </tr>\n",
       "    <tr>\n",
       "      <th>7</th>\n",
       "      <td>34</td>\n",
       "    </tr>\n",
       "    <tr>\n",
       "      <th>9</th>\n",
       "      <td>9264</td>\n",
       "    </tr>\n",
       "    <tr>\n",
       "      <th>10</th>\n",
       "      <td>8067</td>\n",
       "    </tr>\n",
       "  </tbody>\n",
       "</table>\n",
       "</div>"
      ],
      "text/plain": [
       "             uid\n",
       "source_id       \n",
       "1          18999\n",
       "2          26245\n",
       "3          74756\n",
       "4          83525\n",
       "5          56974\n",
       "6              6\n",
       "7             34\n",
       "9           9264\n",
       "10          8067"
      ]
     },
     "execution_count": 95,
     "metadata": {
      "tags": []
     },
     "output_type": "execute_result"
    }
   ],
   "source": [
    "visits_by_source = visits.groupby('source_id').agg({'uid':'nunique'})\n",
    "visits_by_source"
   ]
  },
  {
   "cell_type": "markdown",
   "metadata": {
    "colab_type": "text",
    "id": "JmXv0LHpdsB4"
   },
   "source": [
    "Рассчитаем, стоимость привлечения одного клиента по каждому источнику. "
   ]
  },
  {
   "cell_type": "code",
   "execution_count": 0,
   "metadata": {
    "colab": {},
    "colab_type": "code",
    "id": "03FdBXqUdsB4",
    "outputId": "61413ac2-0222-460d-f610-c33eeaeffad7",
    "scrolled": true
   },
   "outputs": [
    {
     "data": {
      "text/html": [
       "<div>\n",
       "<style scoped>\n",
       "    .dataframe tbody tr th:only-of-type {\n",
       "        vertical-align: middle;\n",
       "    }\n",
       "\n",
       "    .dataframe tbody tr th {\n",
       "        vertical-align: top;\n",
       "    }\n",
       "\n",
       "    .dataframe thead th {\n",
       "        text-align: right;\n",
       "    }\n",
       "</style>\n",
       "<table border=\"1\" class=\"dataframe\">\n",
       "  <thead>\n",
       "    <tr style=\"text-align: right;\">\n",
       "      <th></th>\n",
       "      <th>n_buyers</th>\n",
       "      <th>costs</th>\n",
       "      <th>cac</th>\n",
       "    </tr>\n",
       "    <tr>\n",
       "      <th>source_id</th>\n",
       "      <th></th>\n",
       "      <th></th>\n",
       "      <th></th>\n",
       "    </tr>\n",
       "  </thead>\n",
       "  <tbody>\n",
       "    <tr>\n",
       "      <th>1</th>\n",
       "      <td>18999</td>\n",
       "      <td>20833.27</td>\n",
       "      <td>1.096546</td>\n",
       "    </tr>\n",
       "    <tr>\n",
       "      <th>2</th>\n",
       "      <td>26245</td>\n",
       "      <td>42806.04</td>\n",
       "      <td>1.631017</td>\n",
       "    </tr>\n",
       "    <tr>\n",
       "      <th>3</th>\n",
       "      <td>74756</td>\n",
       "      <td>141321.63</td>\n",
       "      <td>1.890439</td>\n",
       "    </tr>\n",
       "    <tr>\n",
       "      <th>4</th>\n",
       "      <td>83525</td>\n",
       "      <td>61073.60</td>\n",
       "      <td>0.731201</td>\n",
       "    </tr>\n",
       "    <tr>\n",
       "      <th>5</th>\n",
       "      <td>56974</td>\n",
       "      <td>51757.10</td>\n",
       "      <td>0.908434</td>\n",
       "    </tr>\n",
       "    <tr>\n",
       "      <th>6</th>\n",
       "      <td>6</td>\n",
       "      <td>0.00</td>\n",
       "      <td>0.000000</td>\n",
       "    </tr>\n",
       "    <tr>\n",
       "      <th>7</th>\n",
       "      <td>34</td>\n",
       "      <td>0.00</td>\n",
       "      <td>0.000000</td>\n",
       "    </tr>\n",
       "    <tr>\n",
       "      <th>9</th>\n",
       "      <td>9264</td>\n",
       "      <td>5517.49</td>\n",
       "      <td>0.595584</td>\n",
       "    </tr>\n",
       "    <tr>\n",
       "      <th>10</th>\n",
       "      <td>8067</td>\n",
       "      <td>5822.49</td>\n",
       "      <td>0.721766</td>\n",
       "    </tr>\n",
       "  </tbody>\n",
       "</table>\n",
       "</div>"
      ],
      "text/plain": [
       "           n_buyers      costs       cac\n",
       "source_id                               \n",
       "1             18999   20833.27  1.096546\n",
       "2             26245   42806.04  1.631017\n",
       "3             74756  141321.63  1.890439\n",
       "4             83525   61073.60  0.731201\n",
       "5             56974   51757.10  0.908434\n",
       "6                 6       0.00  0.000000\n",
       "7                34       0.00  0.000000\n",
       "9              9264    5517.49  0.595584\n",
       "10             8067    5822.49  0.721766"
      ]
     },
     "execution_count": 99,
     "metadata": {
      "tags": []
     },
     "output_type": "execute_result"
    }
   ],
   "source": [
    "cac_by_source = visits_by_source.join(costs_by_source)\n",
    "cac_by_source.columns = ['n_buyers','costs']\n",
    "cac_by_source = cac_by_source.fillna(0)\n",
    "cac_by_source['cac'] = cac_by_source['costs'] / cac_by_source['n_buyers']\n",
    "cac_by_source"
   ]
  },
  {
   "cell_type": "code",
   "execution_count": 0,
   "metadata": {
    "colab": {},
    "colab_type": "code",
    "id": "D-ObfWGYdsB8",
    "outputId": "9939f1f3-0c40-4d94-b917-b48ed78d7d2f"
   },
   "outputs": [
    {
     "data": {
      "text/plain": [
       "Text(0.5, 1.0, 'Количество пользователей и САС по источникам')"
      ]
     },
     "execution_count": 100,
     "metadata": {
      "tags": []
     },
     "output_type": "execute_result"
    },
    {
     "data": {
      "image/png": "[encoded data removed]",
      "text/plain": [
       "<Figure size 1152x360 with 2 Axes>"
      ]
     },
     "metadata": {
      "tags": []
     },
     "output_type": "display_data"
    }
   ],
   "source": [
    "cac_by_source[['n_buyers','cac']].plot(kind='bar',secondary_y='cac', figsize=(16, 5))\n",
    "plt.title('Количество пользователей и САС по источникам')"
   ]
  },
  {
   "cell_type": "markdown",
   "metadata": {
    "colab_type": "text",
    "id": "8Y-dezPEdsB9"
   },
   "source": [
    "* 4 источник приводит на ресурс больше пользователей, чем остальные, при низкой стоимости привлечения.  \n",
    "* По третьему источнику, как мы выясинили выше, самые высокие затраты, по нему самая высокая стоимость привлечения контакта, но и пользователей он привлекает много.  \n",
    "* На 6 и 7 источник ничего не тратили, с них пришло очень мало пользователей."
   ]
  },
  {
   "cell_type": "markdown",
   "metadata": {
    "colab_type": "text",
    "id": "uBCzmLfydsB9"
   },
   "source": [
    "<font style=\"color:#C03865; font-size:200%\">•</font> На сколько окупились расходы? (RO<font style=\"color:red\">M</font>I)"
   ]
  },
  {
   "cell_type": "markdown",
   "metadata": {
    "colab_type": "text",
    "id": "jYEzlZxtdsB-"
   },
   "source": [
    "*Чтобы не путать окупаемость бизнеса с окупаемостью маркетинга, вместо ROI рассчитывают ROMI*"
   ]
  },
  {
   "cell_type": "markdown",
   "metadata": {
    "colab_type": "text",
    "id": "qd8mkFTfdsB-"
   },
   "source": [
    "Посчитаем CAC первой когорты. Поделим расходы за июнь 2017 на количество людей в когорте:"
   ]
  },
  {
   "cell_type": "code",
   "execution_count": 0,
   "metadata": {
    "colab": {},
    "colab_type": "code",
    "id": "7b3suISmdsB-",
    "outputId": "4a243772-dcde-4edf-8f6c-758aa9faf28a",
    "scrolled": true
   },
   "outputs": [
    {
     "name": "stdout",
     "output_type": "stream",
     "text": [
      "CAC = 0.3634503213049926\n",
      "LTV = 13.0\n"
     ]
    }
   ],
   "source": [
    "# отфильруем нужную когорту\n",
    "cohort_201706 = report[report['first_order_month'] == '2017-06-01']\n",
    "\n",
    "# посчитаем расходы за этот месяц\n",
    "costs_201706 = costs[costs['dt'] == '2017-06-01']['costs'].sum()\n",
    " \n",
    "n_buyers_201706 = cohort_201706['n_buyers'][0]\n",
    "cac_201706 = costs_201706 / n_buyers_201706\n",
    "ltv_201706   = output.loc['2017-06-01'].sum()\n",
    " \n",
    "print('CAC =', cac_201706)\n",
    "print('LTV =', ltv_201706)"
   ]
  },
  {
   "cell_type": "markdown",
   "metadata": {
    "colab_type": "text",
    "id": "Jv5gHlcwdsCA"
   },
   "source": [
    "Привлечение одного покупателя в среднем обошлось в 0.36. Валовая прибыль с каждого из них: 13. То есть вложения в привлечение покупателей окупились."
   ]
  },
  {
   "cell_type": "markdown",
   "metadata": {
    "colab_type": "text",
    "id": "qDcgnSFYdsCB"
   },
   "source": [
    "Посчитаем остальные когорты и посмотрим, сколько месяцев нужно каждой когорте, чтобы окупить маркетинговые затраты. Посчитаем CAC каждой когорты. Сначала найдём суммарные расходы за каждый месяц, а затем поделим их на количество покупателей в каждой когорте:\n"
   ]
  },
  {
   "cell_type": "code",
   "execution_count": 0,
   "metadata": {
    "colab": {},
    "colab_type": "code",
    "id": "_ziicfefdsCB",
    "outputId": "917725c5-5ead-4944-ac46-e03a61de65e7",
    "scrolled": false
   },
   "outputs": [
    {
     "data": {
      "text/html": [
       "<div>\n",
       "<style scoped>\n",
       "    .dataframe tbody tr th:only-of-type {\n",
       "        vertical-align: middle;\n",
       "    }\n",
       "\n",
       "    .dataframe tbody tr th {\n",
       "        vertical-align: top;\n",
       "    }\n",
       "\n",
       "    .dataframe thead th {\n",
       "        text-align: right;\n",
       "    }\n",
       "</style>\n",
       "<table border=\"1\" class=\"dataframe\">\n",
       "  <thead>\n",
       "    <tr style=\"text-align: right;\">\n",
       "      <th>age</th>\n",
       "      <th>0</th>\n",
       "      <th>1</th>\n",
       "      <th>2</th>\n",
       "      <th>3</th>\n",
       "      <th>4</th>\n",
       "      <th>5</th>\n",
       "      <th>6</th>\n",
       "      <th>7</th>\n",
       "      <th>8</th>\n",
       "      <th>9</th>\n",
       "      <th>10</th>\n",
       "      <th>11</th>\n",
       "    </tr>\n",
       "    <tr>\n",
       "      <th>first_order_month</th>\n",
       "      <th></th>\n",
       "      <th></th>\n",
       "      <th></th>\n",
       "      <th></th>\n",
       "      <th></th>\n",
       "      <th></th>\n",
       "      <th></th>\n",
       "      <th></th>\n",
       "      <th></th>\n",
       "      <th></th>\n",
       "      <th></th>\n",
       "      <th></th>\n",
       "    </tr>\n",
       "  </thead>\n",
       "  <tbody>\n",
       "    <tr>\n",
       "      <th>2017-06-01</th>\n",
       "      <td>0.53</td>\n",
       "      <td>0.59</td>\n",
       "      <td>0.63</td>\n",
       "      <td>0.74</td>\n",
       "      <td>0.86</td>\n",
       "      <td>0.94</td>\n",
       "      <td>1.05</td>\n",
       "      <td>1.11</td>\n",
       "      <td>1.17</td>\n",
       "      <td>1.24</td>\n",
       "      <td>1.31</td>\n",
       "      <td>1.33</td>\n",
       "    </tr>\n",
       "    <tr>\n",
       "      <th>2017-07-01</th>\n",
       "      <td>0.63</td>\n",
       "      <td>0.67</td>\n",
       "      <td>0.73</td>\n",
       "      <td>0.77</td>\n",
       "      <td>0.79</td>\n",
       "      <td>0.81</td>\n",
       "      <td>0.82</td>\n",
       "      <td>0.84</td>\n",
       "      <td>0.85</td>\n",
       "      <td>0.87</td>\n",
       "      <td>0.88</td>\n",
       "      <td></td>\n",
       "    </tr>\n",
       "    <tr>\n",
       "      <th>2017-08-01</th>\n",
       "      <td>0.49</td>\n",
       "      <td>0.53</td>\n",
       "      <td>0.57</td>\n",
       "      <td>0.61</td>\n",
       "      <td>0.66</td>\n",
       "      <td>0.68</td>\n",
       "      <td>0.7</td>\n",
       "      <td>0.74</td>\n",
       "      <td>0.77</td>\n",
       "      <td>0.78</td>\n",
       "      <td></td>\n",
       "      <td></td>\n",
       "    </tr>\n",
       "    <tr>\n",
       "      <th>2017-09-01</th>\n",
       "      <td>0.60</td>\n",
       "      <td>0.72</td>\n",
       "      <td>0.77</td>\n",
       "      <td>1.19</td>\n",
       "      <td>1.23</td>\n",
       "      <td>1.3</td>\n",
       "      <td>1.38</td>\n",
       "      <td>1.4</td>\n",
       "      <td>1.42</td>\n",
       "      <td></td>\n",
       "      <td></td>\n",
       "      <td></td>\n",
       "    </tr>\n",
       "    <tr>\n",
       "      <th>2017-10-01</th>\n",
       "      <td>0.60</td>\n",
       "      <td>0.66</td>\n",
       "      <td>0.68</td>\n",
       "      <td>0.7</td>\n",
       "      <td>0.72</td>\n",
       "      <td>0.74</td>\n",
       "      <td>0.75</td>\n",
       "      <td>0.76</td>\n",
       "      <td></td>\n",
       "      <td></td>\n",
       "      <td></td>\n",
       "      <td></td>\n",
       "    </tr>\n",
       "    <tr>\n",
       "      <th>2017-11-01</th>\n",
       "      <td>0.55</td>\n",
       "      <td>0.6</td>\n",
       "      <td>0.62</td>\n",
       "      <td>0.65</td>\n",
       "      <td>0.67</td>\n",
       "      <td>0.68</td>\n",
       "      <td>0.69</td>\n",
       "      <td></td>\n",
       "      <td></td>\n",
       "      <td></td>\n",
       "      <td></td>\n",
       "      <td></td>\n",
       "    </tr>\n",
       "    <tr>\n",
       "      <th>2017-12-01</th>\n",
       "      <td>0.54</td>\n",
       "      <td>0.57</td>\n",
       "      <td>0.68</td>\n",
       "      <td>0.8</td>\n",
       "      <td>0.84</td>\n",
       "      <td>0.87</td>\n",
       "      <td></td>\n",
       "      <td></td>\n",
       "      <td></td>\n",
       "      <td></td>\n",
       "      <td></td>\n",
       "      <td></td>\n",
       "    </tr>\n",
       "    <tr>\n",
       "      <th>2018-01-01</th>\n",
       "      <td>0.42</td>\n",
       "      <td>0.45</td>\n",
       "      <td>0.48</td>\n",
       "      <td>0.49</td>\n",
       "      <td>0.5</td>\n",
       "      <td></td>\n",
       "      <td></td>\n",
       "      <td></td>\n",
       "      <td></td>\n",
       "      <td></td>\n",
       "      <td></td>\n",
       "      <td></td>\n",
       "    </tr>\n",
       "    <tr>\n",
       "      <th>2018-02-01</th>\n",
       "      <td>0.46</td>\n",
       "      <td>0.49</td>\n",
       "      <td>0.5</td>\n",
       "      <td>0.51</td>\n",
       "      <td></td>\n",
       "      <td></td>\n",
       "      <td></td>\n",
       "      <td></td>\n",
       "      <td></td>\n",
       "      <td></td>\n",
       "      <td></td>\n",
       "      <td></td>\n",
       "    </tr>\n",
       "    <tr>\n",
       "      <th>2018-03-01</th>\n",
       "      <td>0.56</td>\n",
       "      <td>0.6</td>\n",
       "      <td>0.63</td>\n",
       "      <td></td>\n",
       "      <td></td>\n",
       "      <td></td>\n",
       "      <td></td>\n",
       "      <td></td>\n",
       "      <td></td>\n",
       "      <td></td>\n",
       "      <td></td>\n",
       "      <td></td>\n",
       "    </tr>\n",
       "    <tr>\n",
       "      <th>2018-04-01</th>\n",
       "      <td>0.48</td>\n",
       "      <td>0.53</td>\n",
       "      <td></td>\n",
       "      <td></td>\n",
       "      <td></td>\n",
       "      <td></td>\n",
       "      <td></td>\n",
       "      <td></td>\n",
       "      <td></td>\n",
       "      <td></td>\n",
       "      <td></td>\n",
       "      <td></td>\n",
       "    </tr>\n",
       "    <tr>\n",
       "      <th>2018-05-01</th>\n",
       "      <td>0.63</td>\n",
       "      <td></td>\n",
       "      <td></td>\n",
       "      <td></td>\n",
       "      <td></td>\n",
       "      <td></td>\n",
       "      <td></td>\n",
       "      <td></td>\n",
       "      <td></td>\n",
       "      <td></td>\n",
       "      <td></td>\n",
       "      <td></td>\n",
       "    </tr>\n",
       "  </tbody>\n",
       "</table>\n",
       "</div>"
      ],
      "text/plain": [
       "age                  0     1     2     3     4     5     6     7     8     9   \\\n",
       "first_order_month                                                               \n",
       "2017-06-01         0.53  0.59  0.63  0.74  0.86  0.94  1.05  1.11  1.17  1.24   \n",
       "2017-07-01         0.63  0.67  0.73  0.77  0.79  0.81  0.82  0.84  0.85  0.87   \n",
       "2017-08-01         0.49  0.53  0.57  0.61  0.66  0.68   0.7  0.74  0.77  0.78   \n",
       "2017-09-01         0.60  0.72  0.77  1.19  1.23   1.3  1.38   1.4  1.42         \n",
       "2017-10-01         0.60  0.66  0.68   0.7  0.72  0.74  0.75  0.76               \n",
       "2017-11-01         0.55   0.6  0.62  0.65  0.67  0.68  0.69                     \n",
       "2017-12-01         0.54  0.57  0.68   0.8  0.84  0.87                           \n",
       "2018-01-01         0.42  0.45  0.48  0.49   0.5                                 \n",
       "2018-02-01         0.46  0.49   0.5  0.51                                       \n",
       "2018-03-01         0.56   0.6  0.63                                             \n",
       "2018-04-01         0.48  0.53                                                   \n",
       "2018-05-01         0.63                                                         \n",
       "\n",
       "age                  10    11  \n",
       "first_order_month              \n",
       "2017-06-01         1.31  1.33  \n",
       "2017-07-01         0.88        \n",
       "2017-08-01                     \n",
       "2017-09-01                     \n",
       "2017-10-01                     \n",
       "2017-11-01                     \n",
       "2017-12-01                     \n",
       "2018-01-01                     \n",
       "2018-02-01                     \n",
       "2018-03-01                     \n",
       "2018-04-01                     \n",
       "2018-05-01                     "
      ]
     },
     "execution_count": 73,
     "metadata": {
      "tags": []
     },
     "output_type": "execute_result"
    }
   ],
   "source": [
    "# считаем расходы за месяц\n",
    "costs['month_cost'] = costs['dt'].astype('datetime64[M]')\n",
    "monthly_costs = costs.groupby('month_cost').sum()\n",
    "\n",
    "# Добавим данные о расходах в отчёт и посчитаем CAC:\n",
    "report_new = pd.merge(report, monthly_costs, left_on='first_order_month', right_on='month_cost')\n",
    "report_new['cac'] = report_new['costs'] / report_new['n_buyers']\n",
    "\n",
    "# Рассчитаем ROMI: поделим LTV на CAC.\n",
    "report_new['romi'] = report_new['ltv'] / report_new['cac']\n",
    "output = report_new.pivot_table(\n",
    "        index='first_order_month', \n",
    "        columns='age', \n",
    "        values='romi', \n",
    "        aggfunc='mean')\n",
    " \n",
    "output.cumsum(axis=1).round(2).fillna('')"
   ]
  },
  {
   "cell_type": "markdown",
   "metadata": {
    "colab_type": "text",
    "id": "CyiC3QdYdsCD"
   },
   "source": [
    "Июньская когорта окупилась на 6 месяц (ROMI = 1.05).  \n",
    "Сентябрьская когорта окупилась на 3 месяц (ROMI = 1.19).  \n",
    "Остальные когорты еще не окупились.  \n",
    "Маркетологам нужно что-то менять."
   ]
  },
  {
   "cell_type": "markdown",
   "metadata": {
    "colab_type": "text",
    "id": "LratkG6FdsCF"
   },
   "source": [
    "Посчитаем среднюю когорту."
   ]
  },
  {
   "cell_type": "code",
   "execution_count": 0,
   "metadata": {
    "colab": {},
    "colab_type": "code",
    "id": "OVFO9lcqdsCG",
    "outputId": "ec48c4ed-f867-4a85-c6a9-22fec318f46b"
   },
   "outputs": [
    {
     "data": {
      "text/plain": [
       "age\n",
       "0     0.540816\n",
       "1     0.581985\n",
       "2     0.631069\n",
       "3     0.719740\n",
       "4     0.782946\n",
       "5     0.859876\n",
       "6     0.896819\n",
       "7     0.969951\n",
       "8     1.053871\n",
       "9     0.964488\n",
       "10    1.094658\n",
       "11    1.333982\n",
       "dtype: float64"
      ]
     },
     "execution_count": 74,
     "metadata": {
      "tags": []
     },
     "output_type": "execute_result"
    }
   ],
   "source": [
    "output.cumsum(axis=1).mean(axis=0)"
   ]
  },
  {
   "cell_type": "markdown",
   "metadata": {
    "colab_type": "text",
    "id": "3HzEKGPndsCI"
   },
   "source": [
    "В среднем когорта окупается к 8 месяцу."
   ]
  },
  {
   "cell_type": "markdown",
   "metadata": {
    "colab_type": "text",
    "id": "Nou0s7PhdsCI"
   },
   "source": [
    "Посчитаем, сколько денег могут тратить маркетологи на привлечение одного пользователя, если хотят, чтобы вложения окупались за 8 месяцев."
   ]
  },
  {
   "cell_type": "code",
   "execution_count": 0,
   "metadata": {
    "colab": {},
    "colab_type": "code",
    "id": "fImTUKjJdsCI",
    "outputId": "2534c578-2657-4b3c-810d-d5355bc158cf"
   },
   "outputs": [
    {
     "name": "stdout",
     "output_type": "stream",
     "text": [
      "Средний LTV за 8 месяцев после первой покупки: 7.945909360906725\n"
     ]
    }
   ],
   "source": [
    "final_result = report_new.pivot_table(\n",
    "    index='first_order_month', \n",
    "    columns='age', \n",
    "    values='ltv', \n",
    "    aggfunc='mean')\n",
    "\n",
    "m8_cum_ltv = final_result.mean(axis=0).cumsum()[7] # посчитайте накопительный LTV за 6 месяцев после первой покупки\n",
    "\n",
    "print('Средний LTV за 8 месяцев после первой покупки:', m8_cum_ltv)"
   ]
  },
  {
   "cell_type": "markdown",
   "metadata": {
    "colab_type": "text",
    "id": "_guThYl0dsCK"
   },
   "source": [
    "Чтобы вложения в маркетинг окупались, привлечение одного покупателя не должно превышать 7,94."
   ]
  }
 ],
 "metadata": {
  "colab": {
   "collapsed_sections": [],
   "name": "yandex-afisha-business-analysis.ipynb",
   "provenance": []
  },
  "kernelspec": {
   "display_name": "Python 3",
   "language": "python",
   "name": "python3"
  },
  "language_info": {
   "codemirror_mode": {
    "name": "ipython",
    "version": 3
   },
   "file_extension": ".py",
   "mimetype": "text/x-python",
   "name": "python",
   "nbconvert_exporter": "python",
   "pygments_lexer": "ipython3",
   "version": "3.7.6"
  }
 },
 "nbformat": 4,
 "nbformat_minor": 1
}
