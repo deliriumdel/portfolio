{
 "cells": [
  {
   "cell_type": "markdown",
   "metadata": {},
   "source": [
    "# Проект:\n",
    "\n",
    "# Исследование объявлений о продаже квартир"
   ]
  },
  {
   "cell_type": "markdown",
   "metadata": {},
   "source": [
    "## Задание 1. Исследование"
   ]
  },
  {
   "cell_type": "markdown",
   "metadata": {},
   "source": [
    "Посмотрим на общую информацию по нашим данным."
   ]
  },
  {
   "cell_type": "code",
   "execution_count": 1,
   "metadata": {},
   "outputs": [
    {
     "name": "stdout",
     "output_type": "stream",
     "text": [
      "<class 'pandas.core.frame.DataFrame'>\n",
      "RangeIndex: 23699 entries, 0 to 23698\n",
      "Data columns (total 22 columns):\n",
      "total_images            23699 non-null int64\n",
      "last_price              23699 non-null float64\n",
      "total_area              23699 non-null float64\n",
      "first_day_exposition    23699 non-null object\n",
      "rooms                   23699 non-null int64\n",
      "ceiling_height          14504 non-null float64\n",
      "floors_total            23613 non-null float64\n",
      "living_area             21796 non-null float64\n",
      "floor                   23699 non-null int64\n",
      "is_apartment            2775 non-null object\n",
      "studio                  23699 non-null bool\n",
      "open_plan               23699 non-null bool\n",
      "kitchen_area            21421 non-null float64\n",
      "balcony                 12180 non-null float64\n",
      "locality_name           23650 non-null object\n",
      "airports_nearest        18157 non-null float64\n",
      "cityCenters_nearest     18180 non-null float64\n",
      "parks_around3000        18181 non-null float64\n",
      "parks_nearest           8079 non-null float64\n",
      "ponds_around3000        18181 non-null float64\n",
      "ponds_nearest           9110 non-null float64\n",
      "days_exposition         20518 non-null float64\n",
      "dtypes: bool(2), float64(14), int64(3), object(3)\n",
      "memory usage: 3.7+ MB\n"
     ]
    }
   ],
   "source": [
    "import pandas as pd\n",
    "data = pd.read_csv('/datasets/real_estate_data.csv', sep=\"\\t\")\n",
    "data.info()"
   ]
  },
  {
   "cell_type": "markdown",
   "metadata": {},
   "source": [
    "Посмотрим в каких столбцах есть пропущенные значения."
   ]
  },
  {
   "cell_type": "markdown",
   "metadata": {},
   "source": [
    "Оценим какой процент пропущенные данные составляют по каждому столбцу."
   ]
  },
  {
   "cell_type": "code",
   "execution_count": 3,
   "metadata": {},
   "outputs": [
    {
     "data": {
      "text/plain": [
       "is_apartment            88.290645\n",
       "parks_nearest           65.909954\n",
       "ponds_nearest           61.559559\n",
       "balcony                 48.605426\n",
       "ceiling_height          38.799105\n",
       "airports_nearest        23.384953\n",
       "cityCenters_nearest     23.287902\n",
       "parks_around3000        23.283683\n",
       "ponds_around3000        23.283683\n",
       "days_exposition         13.422507\n",
       "kitchen_area             9.612220\n",
       "living_area              8.029875\n",
       "floors_total             0.362885\n",
       "locality_name            0.206760\n",
       "first_day_exposition     0.000000\n",
       "last_price               0.000000\n",
       "total_area               0.000000\n",
       "studio                   0.000000\n",
       "rooms                    0.000000\n",
       "floor                    0.000000\n",
       "open_plan                0.000000\n",
       "total_images             0.000000\n",
       "dtype: float64"
      ]
     },
     "execution_count": 3,
     "metadata": {},
     "output_type": "execute_result"
    }
   ],
   "source": [
    "len_data = len(data)\n",
    "(data.isna().sum() / len(data)*100).sort_values(ascending=False)"
   ]
  },
  {
   "cell_type": "markdown",
   "metadata": {},
   "source": [
    "В 88% продаваемых квартир не указано являются ли они апартаментами. Вероятнее всего не являются и при занесении объявления, пользователи просто игнорировали это поле. Заменим в этом столбце NaN на False."
   ]
  },
  {
   "cell_type": "code",
   "execution_count": 8,
   "metadata": {},
   "outputs": [],
   "source": [
    "data['is_apartment'] = data['is_apartment'].fillna(False)"
   ]
  },
  {
   "cell_type": "markdown",
   "metadata": {},
   "source": [
    "Есть пропущенные значения в высоте потолков, этажности здания, жилой площади и площадь кухни, метрах до центра города, парков, аэропортов и ближайших водоемов. Не будем их выдумывать. Оставим данные как есть."
   ]
  },
  {
   "cell_type": "markdown",
   "metadata": {},
   "source": [
    "Если пользователь не указал число балконов, скорее всего, балкона нет совсем. Заменим отсутствующие значения в этом столбце на нули."
   ]
  },
  {
   "cell_type": "code",
   "execution_count": 9,
   "metadata": {},
   "outputs": [],
   "source": [
    "data[['balcony']] = data[['balcony']].fillna(0)"
   ]
  },
  {
   "cell_type": "markdown",
   "metadata": {},
   "source": [
    "<font style=\"color:green; font-size:200%\">✓</font> С пропущенными заначениями разобрались."
   ]
  },
  {
   "cell_type": "markdown",
   "metadata": {},
   "source": [
    "Приведем столбец с датой публикации к формату даты."
   ]
  },
  {
   "cell_type": "code",
   "execution_count": 14,
   "metadata": {},
   "outputs": [],
   "source": [
    "data['first_day_exposition'] = pd.to_datetime(data['first_day_exposition'], format='%Y-%m-%d')"
   ]
  },
  {
   "cell_type": "markdown",
   "metadata": {},
   "source": [
    "Приведем столбцы с количеством балконов к цельночисленным значениям."
   ]
  },
  {
   "cell_type": "code",
   "execution_count": 16,
   "metadata": {},
   "outputs": [],
   "source": [
    "data[['balcony']] = data[['balcony']].astype('int')"
   ]
  },
  {
   "cell_type": "markdown",
   "metadata": {},
   "source": [
    "<font style=\"color:green; font-size:200%\">✓</font> Привели данные к соответствующим типам."
   ]
  },
  {
   "cell_type": "markdown",
   "metadata": {},
   "source": [
    "<font style=\"color:Aquamarine; font-size:200%\">•</font> Посчитаем и добавим в таблицу цену квадратного метра,"
   ]
  },
  {
   "cell_type": "code",
   "execution_count": 17,
   "metadata": {},
   "outputs": [],
   "source": [
    "data['price_per_meter'] = data['last_price'] / data['total_area']"
   ]
  },
  {
   "cell_type": "markdown",
   "metadata": {},
   "source": [
    "<font style=\"color:Aquamarine; font-size:200%\">•</font> отдельные колонки с днем недели, месяцем и годом публикации,"
   ]
  },
  {
   "cell_type": "code",
   "execution_count": 18,
   "metadata": {},
   "outputs": [],
   "source": [
    "data['week_day'] = pd.DatetimeIndex(data['first_day_exposition']).weekday\n",
    "data['month'] = pd.DatetimeIndex(data['first_day_exposition']).month\n",
    "data['year'] = pd.DatetimeIndex(data['first_day_exposition']).year"
   ]
  },
  {
   "cell_type": "markdown",
   "metadata": {},
   "source": [
    "<font style=\"color:Aquamarine; font-size:200%\">•</font> разобъем этажи на три категории: \"первый\", \"последний\", \"другой\","
   ]
  },
  {
   "cell_type": "code",
   "execution_count": 19,
   "metadata": {},
   "outputs": [],
   "source": [
    "def categorize_floor(data):\n",
    "    \n",
    "    floor = data['floor']\n",
    "    floors_total = data['floors_total']\n",
    "    \n",
    "    if floor == 1:\n",
    "        return 'первый'\n",
    "    if floor == floors_total:\n",
    "        return 'последний'\n",
    "    return 'другой'\n",
    "\n",
    "data['floor_category'] = data.apply(categorize_floor, axis=1)"
   ]
  },
  {
   "cell_type": "markdown",
   "metadata": {},
   "source": [
    "<font style=\"color:Aquamarine; font-size:200%\">•</font> добавим соотношение жилой к общей площади, а также отношение площади кухни к общей площади"
   ]
  },
  {
   "cell_type": "code",
   "execution_count": 20,
   "metadata": {},
   "outputs": [],
   "source": [
    "data['ratio_living_to_total'] = data['living_area'] / data['total_area']\n",
    "data['ratio_kitchen_to_total'] = data['kitchen_area'] / data['total_area']"
   ]
  },
  {
   "cell_type": "markdown",
   "metadata": {},
   "source": [
    "С помощью этих коэффициентов мы сможем понять, насколько сбалансирована планировка квартиры.  \n",
    "Отношение жилой площади к общей обычно находится в рекомендованном промежутке от 0,5 до 0,7. В комфортабельных квартирах он ближе к нижней границе, в более экономичных – к верхней.  \n",
    "Отношение площади кухни к общей площади изучим в нашем наборе данных."
   ]
  },
  {
   "cell_type": "markdown",
   "metadata": {},
   "source": [
    "## Задание 2. Переходим к исследовательскому анализу."
   ]
  },
  {
   "cell_type": "markdown",
   "metadata": {},
   "source": [
    "<font style=\"color:orange; font-size:400%\">•</font>Посмотрим на параметры продаваемых квартир."
   ]
  },
  {
   "cell_type": "code",
   "execution_count": 21,
   "metadata": {},
   "outputs": [],
   "source": [
    "pd.options.display.float_format = '{:,.2f}'.format"
   ]
  },
  {
   "cell_type": "code",
   "execution_count": 22,
   "metadata": {
    "scrolled": true
   },
   "outputs": [
    {
     "data": {
      "text/html": [
       "<div>\n",
       "<style scoped>\n",
       "    .dataframe tbody tr th:only-of-type {\n",
       "        vertical-align: middle;\n",
       "    }\n",
       "\n",
       "    .dataframe tbody tr th {\n",
       "        vertical-align: top;\n",
       "    }\n",
       "\n",
       "    .dataframe thead th {\n",
       "        text-align: right;\n",
       "    }\n",
       "</style>\n",
       "<table border=\"1\" class=\"dataframe\">\n",
       "  <thead>\n",
       "    <tr style=\"text-align: right;\">\n",
       "      <th></th>\n",
       "      <th>rooms</th>\n",
       "      <th>cityCenters_nearest</th>\n",
       "      <th>total_area</th>\n",
       "      <th>last_price</th>\n",
       "      <th>price_per_meter</th>\n",
       "      <th>days_exposition</th>\n",
       "      <th>floor</th>\n",
       "    </tr>\n",
       "  </thead>\n",
       "  <tbody>\n",
       "    <tr>\n",
       "      <td>count</td>\n",
       "      <td>23,699.00</td>\n",
       "      <td>18,180.00</td>\n",
       "      <td>23,699.00</td>\n",
       "      <td>23,699.00</td>\n",
       "      <td>23,699.00</td>\n",
       "      <td>20,518.00</td>\n",
       "      <td>23,699.00</td>\n",
       "    </tr>\n",
       "    <tr>\n",
       "      <td>mean</td>\n",
       "      <td>2.07</td>\n",
       "      <td>14,191.28</td>\n",
       "      <td>60.35</td>\n",
       "      <td>6,541,548.77</td>\n",
       "      <td>99,421.66</td>\n",
       "      <td>180.89</td>\n",
       "      <td>5.89</td>\n",
       "    </tr>\n",
       "    <tr>\n",
       "      <td>std</td>\n",
       "      <td>1.08</td>\n",
       "      <td>8,608.39</td>\n",
       "      <td>35.65</td>\n",
       "      <td>10,887,013.27</td>\n",
       "      <td>50,306.80</td>\n",
       "      <td>219.73</td>\n",
       "      <td>4.89</td>\n",
       "    </tr>\n",
       "    <tr>\n",
       "      <td>min</td>\n",
       "      <td>0.00</td>\n",
       "      <td>181.00</td>\n",
       "      <td>12.00</td>\n",
       "      <td>12,190.00</td>\n",
       "      <td>111.83</td>\n",
       "      <td>1.00</td>\n",
       "      <td>1.00</td>\n",
       "    </tr>\n",
       "    <tr>\n",
       "      <td>25%</td>\n",
       "      <td>1.00</td>\n",
       "      <td>9,238.00</td>\n",
       "      <td>40.00</td>\n",
       "      <td>3,400,000.00</td>\n",
       "      <td>76,585.47</td>\n",
       "      <td>45.00</td>\n",
       "      <td>2.00</td>\n",
       "    </tr>\n",
       "    <tr>\n",
       "      <td>50%</td>\n",
       "      <td>2.00</td>\n",
       "      <td>13,098.50</td>\n",
       "      <td>52.00</td>\n",
       "      <td>4,650,000.00</td>\n",
       "      <td>95,000.00</td>\n",
       "      <td>95.00</td>\n",
       "      <td>4.00</td>\n",
       "    </tr>\n",
       "    <tr>\n",
       "      <td>75%</td>\n",
       "      <td>3.00</td>\n",
       "      <td>16,293.00</td>\n",
       "      <td>69.90</td>\n",
       "      <td>6,800,000.00</td>\n",
       "      <td>114,256.33</td>\n",
       "      <td>232.00</td>\n",
       "      <td>8.00</td>\n",
       "    </tr>\n",
       "    <tr>\n",
       "      <td>max</td>\n",
       "      <td>19.00</td>\n",
       "      <td>65,968.00</td>\n",
       "      <td>900.00</td>\n",
       "      <td>763,000,000.00</td>\n",
       "      <td>1,907,500.00</td>\n",
       "      <td>1,580.00</td>\n",
       "      <td>33.00</td>\n",
       "    </tr>\n",
       "  </tbody>\n",
       "</table>\n",
       "</div>"
      ],
      "text/plain": [
       "          rooms  cityCenters_nearest  total_area     last_price  \\\n",
       "count 23,699.00            18,180.00   23,699.00      23,699.00   \n",
       "mean       2.07            14,191.28       60.35   6,541,548.77   \n",
       "std        1.08             8,608.39       35.65  10,887,013.27   \n",
       "min        0.00               181.00       12.00      12,190.00   \n",
       "25%        1.00             9,238.00       40.00   3,400,000.00   \n",
       "50%        2.00            13,098.50       52.00   4,650,000.00   \n",
       "75%        3.00            16,293.00       69.90   6,800,000.00   \n",
       "max       19.00            65,968.00      900.00 763,000,000.00   \n",
       "\n",
       "       price_per_meter  days_exposition     floor  \n",
       "count        23,699.00        20,518.00 23,699.00  \n",
       "mean         99,421.66           180.89      5.89  \n",
       "std          50,306.80           219.73      4.89  \n",
       "min             111.83             1.00      1.00  \n",
       "25%          76,585.47            45.00      2.00  \n",
       "50%          95,000.00            95.00      4.00  \n",
       "75%         114,256.33           232.00      8.00  \n",
       "max       1,907,500.00         1,580.00     33.00  "
      ]
     },
     "execution_count": 22,
     "metadata": {},
     "output_type": "execute_result"
    }
   ],
   "source": [
    "main_params = ['rooms', 'cityCenters_nearest', 'total_area', 'last_price', 'price_per_meter', 'days_exposition', 'floor']\n",
    "data[main_params].describe()"
   ]
  },
  {
   "cell_type": "markdown",
   "metadata": {},
   "source": [
    "<font style=\"color:orange; font-size:200%\">•</font> Средняя стоимость 6,5 млн., медианная 4,6 млн. \n",
    "И тут же видим, что максимальная стоимость 763 млн., а минимальная 12 тыс.\n",
    "\n",
    "Посмотрим на диаграмму размаха."
   ]
  },
  {
   "cell_type": "code",
   "execution_count": 24,
   "metadata": {},
   "outputs": [
    {
     "data": {
      "text/plain": [
       "<matplotlib.axes._subplots.AxesSubplot at 0x7f3b0ee58310>"
      ]
     },
     "execution_count": 24,
     "metadata": {},
     "output_type": "execute_result"
    },
    {
     "data": {
      "image/png": "[encoded data removed]",
      "text/plain": [
       "<Figure size 432x288 with 1 Axes>"
      ]
     },
     "metadata": {
      "needs_background": "light"
     },
     "output_type": "display_data"
    }
   ],
   "source": [
    "import matplotlib.pyplot as plt \n",
    "\n",
    "plt.ylim(0, 13000000)\n",
    "data[['last_price']].boxplot()"
   ]
  },
  {
   "cell_type": "markdown",
   "metadata": {},
   "source": [
    "На диаграмме видно, что в межквартильный размах попадают значения от 0 до 12 млн.  \n",
    "Все значения выше 12 млн. считаем выбросами.  \n",
    "Чтобы подробнее рассмотреть типовые варианты квартир, <font style=\"background-color:yellow\">следует ограничить выборку до 12 млн.</font>"
   ]
  },
  {
   "cell_type": "markdown",
   "metadata": {},
   "source": [
    "Посмотрим, сколько всего в выборке дорогих  квартир. Ограничим их стоимость - от 12 млн."
   ]
  },
  {
   "cell_type": "code",
   "execution_count": 25,
   "metadata": {},
   "outputs": [
    {
     "name": "stdout",
     "output_type": "stream",
     "text": [
      "Дорогих квартир: 1941 шт.\n"
     ]
    }
   ],
   "source": [
    "high_price = data.query('last_price > 12000000')\n",
    "print('Дорогих квартир: {} шт.'.format(len(high_price)))"
   ]
  },
  {
   "cell_type": "markdown",
   "metadata": {},
   "source": [
    "<font style=\"color:orange; font-size:200%\">•</font> Рассмотрим стоимость квадратного метра."
   ]
  },
  {
   "cell_type": "code",
   "execution_count": 26,
   "metadata": {
    "scrolled": true
   },
   "outputs": [
    {
     "data": {
      "text/plain": [
       "<matplotlib.axes._subplots.AxesSubplot at 0x7f3b0eec8fd0>"
      ]
     },
     "execution_count": 26,
     "metadata": {},
     "output_type": "execute_result"
    },
    {
     "data": {
      "image/png": "[encoded data removed]",
      "text/plain": [
       "<Figure size 432x288 with 1 Axes>"
      ]
     },
     "metadata": {
      "needs_background": "light"
     },
     "output_type": "display_data"
    }
   ],
   "source": [
    "plt.ylim(10000, 200000)\n",
    "data[['price_per_meter']].boxplot()"
   ]
  },
  {
   "cell_type": "markdown",
   "metadata": {},
   "source": [
    "<font style=\"background-color:yellow\">В характерный разброс попадают значения от 25 до 175 тыс.</font>"
   ]
  },
  {
   "cell_type": "markdown",
   "metadata": {},
   "source": [
    "<font style=\"color:orange; font-size:200%\">•</font> Проведем анализ площади продаваемых квартир."
   ]
  },
  {
   "cell_type": "code",
   "execution_count": 27,
   "metadata": {
    "scrolled": true
   },
   "outputs": [
    {
     "data": {
      "text/plain": [
       "<matplotlib.axes._subplots.AxesSubplot at 0x7f3b0edb5590>"
      ]
     },
     "execution_count": 27,
     "metadata": {},
     "output_type": "execute_result"
    },
    {
     "data": {
      "image/png": "[encoded data removed]",
      "text/plain": [
       "<Figure size 432x288 with 1 Axes>"
      ]
     },
     "metadata": {
      "needs_background": "light"
     },
     "output_type": "display_data"
    }
   ],
   "source": [
    "plt.ylim(0, 150)\n",
    "data[['total_area']].boxplot()"
   ]
  },
  {
   "cell_type": "markdown",
   "metadata": {},
   "source": [
    "<font style=\"background-color:yellow\">Основная масса продаваемых квартир по площади колеблется между 10 и 115 кв.м.</font>"
   ]
  },
  {
   "cell_type": "markdown",
   "metadata": {},
   "source": [
    "<font style=\"color:orange; font-size:200%\">•</font> Квартиры с каким количеством комнат представлены в данных?"
   ]
  },
  {
   "cell_type": "code",
   "execution_count": 28,
   "metadata": {
    "scrolled": true
   },
   "outputs": [
    {
     "data": {
      "text/plain": [
       "<matplotlib.axes._subplots.AxesSubplot at 0x7f3b0ecbfb10>"
      ]
     },
     "execution_count": 28,
     "metadata": {},
     "output_type": "execute_result"
    },
    {
     "data": {
      "image/png": "[encoded data removed]",
      "text/plain": [
       "<Figure size 432x288 with 1 Axes>"
      ]
     },
     "metadata": {
      "needs_background": "light"
     },
     "output_type": "display_data"
    }
   ],
   "source": [
    "plt.ylim(0, 7)\n",
    "data[['rooms']].boxplot()"
   ]
  },
  {
   "cell_type": "markdown",
   "metadata": {},
   "source": [
    "<font style=\"background-color:yellow\">Для типовой выборки ограничим наши данные квартирами от 1 до 6 комнат</font>"
   ]
  },
  {
   "cell_type": "markdown",
   "metadata": {},
   "source": [
    "Посмотрим на квартиры без комнат."
   ]
  },
  {
   "cell_type": "code",
   "execution_count": 29,
   "metadata": {},
   "outputs": [
    {
     "data": {
      "text/html": [
       "<div>\n",
       "<style scoped>\n",
       "    .dataframe tbody tr th:only-of-type {\n",
       "        vertical-align: middle;\n",
       "    }\n",
       "\n",
       "    .dataframe tbody tr th {\n",
       "        vertical-align: top;\n",
       "    }\n",
       "\n",
       "    .dataframe thead th {\n",
       "        text-align: right;\n",
       "    }\n",
       "</style>\n",
       "<table border=\"1\" class=\"dataframe\">\n",
       "  <thead>\n",
       "    <tr style=\"text-align: right;\">\n",
       "      <th></th>\n",
       "      <th>rooms</th>\n",
       "      <th>cityCenters_nearest</th>\n",
       "      <th>locality_name</th>\n",
       "      <th>total_area</th>\n",
       "      <th>living_area</th>\n",
       "      <th>kitchen_area</th>\n",
       "      <th>last_price</th>\n",
       "      <th>price_per_meter</th>\n",
       "      <th>days_exposition</th>\n",
       "      <th>floor</th>\n",
       "      <th>studio</th>\n",
       "      <th>open_plan</th>\n",
       "      <th>ratio_living_to_total</th>\n",
       "      <th>ratio_kitchen_to_total</th>\n",
       "    </tr>\n",
       "  </thead>\n",
       "  <tbody>\n",
       "    <tr>\n",
       "      <td>349</td>\n",
       "      <td>0</td>\n",
       "      <td>nan</td>\n",
       "      <td>деревня Кудрово</td>\n",
       "      <td>25.00</td>\n",
       "      <td>17.00</td>\n",
       "      <td>nan</td>\n",
       "      <td>2,320,000.00</td>\n",
       "      <td>92,800.00</td>\n",
       "      <td>45.00</td>\n",
       "      <td>1</td>\n",
       "      <td>False</td>\n",
       "      <td>True</td>\n",
       "      <td>0.68</td>\n",
       "      <td>nan</td>\n",
       "    </tr>\n",
       "    <tr>\n",
       "      <td>4115</td>\n",
       "      <td>0</td>\n",
       "      <td>13,330.00</td>\n",
       "      <td>Санкт-Петербург</td>\n",
       "      <td>24.00</td>\n",
       "      <td>18.00</td>\n",
       "      <td>nan</td>\n",
       "      <td>2,600,000.00</td>\n",
       "      <td>108,333.33</td>\n",
       "      <td>42.00</td>\n",
       "      <td>4</td>\n",
       "      <td>False</td>\n",
       "      <td>True</td>\n",
       "      <td>0.75</td>\n",
       "      <td>nan</td>\n",
       "    </tr>\n",
       "    <tr>\n",
       "      <td>9487</td>\n",
       "      <td>0</td>\n",
       "      <td>11,849.00</td>\n",
       "      <td>Санкт-Петербург</td>\n",
       "      <td>23.40</td>\n",
       "      <td>18.90</td>\n",
       "      <td>nan</td>\n",
       "      <td>3,200,000.00</td>\n",
       "      <td>136,752.14</td>\n",
       "      <td>135.00</td>\n",
       "      <td>3</td>\n",
       "      <td>True</td>\n",
       "      <td>False</td>\n",
       "      <td>0.81</td>\n",
       "      <td>nan</td>\n",
       "    </tr>\n",
       "    <tr>\n",
       "      <td>12996</td>\n",
       "      <td>0</td>\n",
       "      <td>15,772.00</td>\n",
       "      <td>Санкт-Петербург</td>\n",
       "      <td>18.00</td>\n",
       "      <td>16.00</td>\n",
       "      <td>nan</td>\n",
       "      <td>1,900,000.00</td>\n",
       "      <td>105,555.56</td>\n",
       "      <td>10.00</td>\n",
       "      <td>3</td>\n",
       "      <td>True</td>\n",
       "      <td>False</td>\n",
       "      <td>0.89</td>\n",
       "      <td>nan</td>\n",
       "    </tr>\n",
       "    <tr>\n",
       "      <td>7625</td>\n",
       "      <td>0</td>\n",
       "      <td>17,492.00</td>\n",
       "      <td>Санкт-Петербург</td>\n",
       "      <td>25.00</td>\n",
       "      <td>18.00</td>\n",
       "      <td>nan</td>\n",
       "      <td>3,450,000.00</td>\n",
       "      <td>138,000.00</td>\n",
       "      <td>nan</td>\n",
       "      <td>14</td>\n",
       "      <td>True</td>\n",
       "      <td>False</td>\n",
       "      <td>0.72</td>\n",
       "      <td>nan</td>\n",
       "    </tr>\n",
       "  </tbody>\n",
       "</table>\n",
       "</div>"
      ],
      "text/plain": [
       "       rooms  cityCenters_nearest    locality_name  total_area  living_area  \\\n",
       "349        0                  nan  деревня Кудрово       25.00        17.00   \n",
       "4115       0            13,330.00  Санкт-Петербург       24.00        18.00   \n",
       "9487       0            11,849.00  Санкт-Петербург       23.40        18.90   \n",
       "12996      0            15,772.00  Санкт-Петербург       18.00        16.00   \n",
       "7625       0            17,492.00  Санкт-Петербург       25.00        18.00   \n",
       "\n",
       "       kitchen_area   last_price  price_per_meter  days_exposition  floor  \\\n",
       "349             nan 2,320,000.00        92,800.00            45.00      1   \n",
       "4115            nan 2,600,000.00       108,333.33            42.00      4   \n",
       "9487            nan 3,200,000.00       136,752.14           135.00      3   \n",
       "12996           nan 1,900,000.00       105,555.56            10.00      3   \n",
       "7625            nan 3,450,000.00       138,000.00              nan     14   \n",
       "\n",
       "       studio  open_plan  ratio_living_to_total  ratio_kitchen_to_total  \n",
       "349     False       True                   0.68                     nan  \n",
       "4115    False       True                   0.75                     nan  \n",
       "9487     True      False                   0.81                     nan  \n",
       "12996    True      False                   0.89                     nan  \n",
       "7625     True      False                   0.72                     nan  "
      ]
     },
     "execution_count": 29,
     "metadata": {},
     "output_type": "execute_result"
    }
   ],
   "source": [
    "view_columns = ['rooms', 'cityCenters_nearest', 'locality_name', 'total_area', 'living_area', 'kitchen_area', 'last_price', \\\n",
    "                'price_per_meter', 'days_exposition', 'floor', 'studio', 'open_plan', 'ratio_living_to_total', \\\n",
    "                'ratio_kitchen_to_total']\n",
    "\n",
    "data[view_columns].query('rooms == 0').sample(5)"
   ]
  },
  {
   "cell_type": "markdown",
   "metadata": {},
   "source": [
    "Комнат нет, но жилая площадь есть, при этом площадь кухни не указана.   \n",
    "Проверим есть ли квартиры с 0 комнат, не студии и не со свободной планировкой."
   ]
  },
  {
   "cell_type": "code",
   "execution_count": 30,
   "metadata": {},
   "outputs": [
    {
     "data": {
      "text/plain": [
       "0"
      ]
     },
     "execution_count": 30,
     "metadata": {},
     "output_type": "execute_result"
    }
   ],
   "source": [
    "len(data[view_columns].query('rooms == 0 & studio != True & open_plan != True'))"
   ]
  },
  {
   "cell_type": "markdown",
   "metadata": {},
   "source": [
    "Таких квартир нет.\n",
    "Кваритры с 0 комнат это студии или квартиры со свободной планировкой."
   ]
  },
  {
   "cell_type": "markdown",
   "metadata": {},
   "source": [
    "<font style=\"color:orange; font-size:200%\">•</font> Как много квартир со свободной планировкой, апартаментов и студий?"
   ]
  },
  {
   "cell_type": "code",
   "execution_count": 31,
   "metadata": {},
   "outputs": [
    {
     "data": {
      "text/plain": [
       "is_apartment     50\n",
       "studio          149\n",
       "open_plan        67\n",
       "dtype: int64"
      ]
     },
     "execution_count": 31,
     "metadata": {},
     "output_type": "execute_result"
    }
   ],
   "source": [
    "data[['is_apartment', 'studio', 'open_plan']].sum()"
   ]
  },
  {
   "cell_type": "markdown",
   "metadata": {},
   "source": [
    "Апартаментов: 50,  \n",
    "Студий: 149,  \n",
    "Квартир со свободной планировкой: 67."
   ]
  },
  {
   "cell_type": "markdown",
   "metadata": {},
   "source": [
    "<font style=\"color:orange; font-size:200%\">•</font> Как долго обычно висит объявление о продаже?"
   ]
  },
  {
   "cell_type": "code",
   "execution_count": 32,
   "metadata": {
    "scrolled": true
   },
   "outputs": [
    {
     "data": {
      "text/plain": [
       "<matplotlib.axes._subplots.AxesSubplot at 0x7f3b0f5b7f90>"
      ]
     },
     "execution_count": 32,
     "metadata": {},
     "output_type": "execute_result"
    },
    {
     "data": {
      "image/png": "[encoded data removed]",
      "text/plain": [
       "<Figure size 432x288 with 1 Axes>"
      ]
     },
     "metadata": {
      "needs_background": "light"
     },
     "output_type": "display_data"
    }
   ],
   "source": [
    "plt.ylim(0, 550)\n",
    "data[['days_exposition']].boxplot()"
   ]
  },
  {
   "cell_type": "markdown",
   "metadata": {},
   "source": [
    "<font style=\"background-color:yellow\">Основная масса квартир продается до 510 дней.</font>"
   ]
  },
  {
   "cell_type": "markdown",
   "metadata": {},
   "source": [
    "<font style=\"color:orange; font-size:200%\">•</font> На каких этажах продают квартиры?"
   ]
  },
  {
   "cell_type": "code",
   "execution_count": 33,
   "metadata": {
    "scrolled": false
   },
   "outputs": [
    {
     "data": {
      "text/plain": [
       "<matplotlib.axes._subplots.AxesSubplot at 0x7f3b0eebc590>"
      ]
     },
     "execution_count": 33,
     "metadata": {},
     "output_type": "execute_result"
    },
    {
     "data": {
      "image/png": "[encoded data removed]",
      "text/plain": [
       "<Figure size 432x288 with 1 Axes>"
      ]
     },
     "metadata": {
      "needs_background": "light"
     },
     "output_type": "display_data"
    }
   ],
   "source": [
    "plt.ylim(1, 20)\n",
    "data[['floor']].boxplot()"
   ]
  },
  {
   "cell_type": "markdown",
   "metadata": {},
   "source": [
    "В основном продаются квартиры с 1 по 18 этаж."
   ]
  },
  {
   "cell_type": "markdown",
   "metadata": {},
   "source": [
    "<font style=\"color:orange; font-size:200%\">•</font> Посмотрим на распределение соотношения жилой площади к общей"
   ]
  },
  {
   "cell_type": "code",
   "execution_count": 34,
   "metadata": {},
   "outputs": [
    {
     "data": {
      "text/plain": [
       "<matplotlib.axes._subplots.AxesSubplot at 0x7f3b0f8096d0>"
      ]
     },
     "execution_count": 34,
     "metadata": {},
     "output_type": "execute_result"
    },
    {
     "data": {
      "image/png": "[encoded data removed]",
      "text/plain": [
       "<Figure size 432x288 with 1 Axes>"
      ]
     },
     "metadata": {
      "needs_background": "light"
     },
     "output_type": "display_data"
    }
   ],
   "source": [
    "#plt.ylim(0.27, 0.9)\n",
    "data[['ratio_living_to_total']].boxplot()"
   ]
  },
  {
   "cell_type": "markdown",
   "metadata": {},
   "source": [
    "В основном встречаются соотношения от 0,3 до 0,8.  \n",
    "В наших данных есть квартиры с жилой площадью - меньше 0,1% и 100% от общей."
   ]
  },
  {
   "cell_type": "markdown",
   "metadata": {},
   "source": [
    "Посмотрим на квартиры с минимальной жилой площадью."
   ]
  },
  {
   "cell_type": "code",
   "execution_count": 35,
   "metadata": {
    "scrolled": true
   },
   "outputs": [
    {
     "data": {
      "text/html": [
       "<div>\n",
       "<style scoped>\n",
       "    .dataframe tbody tr th:only-of-type {\n",
       "        vertical-align: middle;\n",
       "    }\n",
       "\n",
       "    .dataframe tbody tr th {\n",
       "        vertical-align: top;\n",
       "    }\n",
       "\n",
       "    .dataframe thead th {\n",
       "        text-align: right;\n",
       "    }\n",
       "</style>\n",
       "<table border=\"1\" class=\"dataframe\">\n",
       "  <thead>\n",
       "    <tr style=\"text-align: right;\">\n",
       "      <th></th>\n",
       "      <th>rooms</th>\n",
       "      <th>cityCenters_nearest</th>\n",
       "      <th>locality_name</th>\n",
       "      <th>total_area</th>\n",
       "      <th>living_area</th>\n",
       "      <th>kitchen_area</th>\n",
       "      <th>last_price</th>\n",
       "      <th>price_per_meter</th>\n",
       "      <th>days_exposition</th>\n",
       "      <th>floor</th>\n",
       "      <th>studio</th>\n",
       "      <th>open_plan</th>\n",
       "      <th>ratio_living_to_total</th>\n",
       "      <th>ratio_kitchen_to_total</th>\n",
       "    </tr>\n",
       "  </thead>\n",
       "  <tbody>\n",
       "    <tr>\n",
       "      <td>3242</td>\n",
       "      <td>1</td>\n",
       "      <td>13,073.00</td>\n",
       "      <td>Санкт-Петербург</td>\n",
       "      <td>41.00</td>\n",
       "      <td>3.00</td>\n",
       "      <td>11.00</td>\n",
       "      <td>4,440,000.00</td>\n",
       "      <td>108,292.68</td>\n",
       "      <td>216.00</td>\n",
       "      <td>17</td>\n",
       "      <td>False</td>\n",
       "      <td>False</td>\n",
       "      <td>0.07</td>\n",
       "      <td>0.27</td>\n",
       "    </tr>\n",
       "    <tr>\n",
       "      <td>13915</td>\n",
       "      <td>2</td>\n",
       "      <td>6,521.00</td>\n",
       "      <td>Санкт-Петербург</td>\n",
       "      <td>52.00</td>\n",
       "      <td>2.00</td>\n",
       "      <td>9.00</td>\n",
       "      <td>6,350,000.00</td>\n",
       "      <td>122,115.38</td>\n",
       "      <td>91.00</td>\n",
       "      <td>2</td>\n",
       "      <td>False</td>\n",
       "      <td>False</td>\n",
       "      <td>0.04</td>\n",
       "      <td>0.17</td>\n",
       "    </tr>\n",
       "    <tr>\n",
       "      <td>21758</td>\n",
       "      <td>0</td>\n",
       "      <td>nan</td>\n",
       "      <td>посёлок Мурино</td>\n",
       "      <td>23.00</td>\n",
       "      <td>2.00</td>\n",
       "      <td>nan</td>\n",
       "      <td>2,330,000.00</td>\n",
       "      <td>101,304.35</td>\n",
       "      <td>66.00</td>\n",
       "      <td>22</td>\n",
       "      <td>True</td>\n",
       "      <td>False</td>\n",
       "      <td>0.09</td>\n",
       "      <td>nan</td>\n",
       "    </tr>\n",
       "    <tr>\n",
       "      <td>21943</td>\n",
       "      <td>4</td>\n",
       "      <td>11,270.00</td>\n",
       "      <td>Санкт-Петербург</td>\n",
       "      <td>77.60</td>\n",
       "      <td>5.40</td>\n",
       "      <td>9.80</td>\n",
       "      <td>6,100,000.00</td>\n",
       "      <td>78,608.25</td>\n",
       "      <td>33.00</td>\n",
       "      <td>1</td>\n",
       "      <td>False</td>\n",
       "      <td>False</td>\n",
       "      <td>0.07</td>\n",
       "      <td>0.13</td>\n",
       "    </tr>\n",
       "    <tr>\n",
       "      <td>23574</td>\n",
       "      <td>3</td>\n",
       "      <td>5,975.00</td>\n",
       "      <td>Санкт-Петербург</td>\n",
       "      <td>139.00</td>\n",
       "      <td>3.00</td>\n",
       "      <td>16.00</td>\n",
       "      <td>64,990,000.00</td>\n",
       "      <td>467,553.96</td>\n",
       "      <td>280.00</td>\n",
       "      <td>8</td>\n",
       "      <td>False</td>\n",
       "      <td>False</td>\n",
       "      <td>0.02</td>\n",
       "      <td>0.12</td>\n",
       "    </tr>\n",
       "  </tbody>\n",
       "</table>\n",
       "</div>"
      ],
      "text/plain": [
       "       rooms  cityCenters_nearest    locality_name  total_area  living_area  \\\n",
       "3242       1            13,073.00  Санкт-Петербург       41.00         3.00   \n",
       "13915      2             6,521.00  Санкт-Петербург       52.00         2.00   \n",
       "21758      0                  nan   посёлок Мурино       23.00         2.00   \n",
       "21943      4            11,270.00  Санкт-Петербург       77.60         5.40   \n",
       "23574      3             5,975.00  Санкт-Петербург      139.00         3.00   \n",
       "\n",
       "       kitchen_area    last_price  price_per_meter  days_exposition  floor  \\\n",
       "3242          11.00  4,440,000.00       108,292.68           216.00     17   \n",
       "13915          9.00  6,350,000.00       122,115.38            91.00      2   \n",
       "21758           nan  2,330,000.00       101,304.35            66.00     22   \n",
       "21943          9.80  6,100,000.00        78,608.25            33.00      1   \n",
       "23574         16.00 64,990,000.00       467,553.96           280.00      8   \n",
       "\n",
       "       studio  open_plan  ratio_living_to_total  ratio_kitchen_to_total  \n",
       "3242    False      False                   0.07                    0.27  \n",
       "13915   False      False                   0.04                    0.17  \n",
       "21758    True      False                   0.09                     nan  \n",
       "21943   False      False                   0.07                    0.13  \n",
       "23574   False      False                   0.02                    0.12  "
      ]
     },
     "execution_count": 35,
     "metadata": {},
     "output_type": "execute_result"
    }
   ],
   "source": [
    "data[view_columns].query('ratio_living_to_total < 0.1')"
   ]
  },
  {
   "cell_type": "markdown",
   "metadata": {},
   "source": [
    "Например, в строке с индексом 3242 находится 1-комнатная квартира общей площадью 41 метр, с 3 метрами жилой площади и 11 метрами площади кухни. Оставшиеся 27 метров могут занимать: коридоры, ванные, санузлы, встроенные шкафы, кладовые, внутриквартирная лестница, балконы, лоджии и террасы. Есть, где развернуться.  "
   ]
  },
  {
   "cell_type": "markdown",
   "metadata": {},
   "source": [
    "Посмотрим на квартиры со 100% жилой площадью."
   ]
  },
  {
   "cell_type": "code",
   "execution_count": 36,
   "metadata": {},
   "outputs": [
    {
     "data": {
      "text/html": [
       "<div>\n",
       "<style scoped>\n",
       "    .dataframe tbody tr th:only-of-type {\n",
       "        vertical-align: middle;\n",
       "    }\n",
       "\n",
       "    .dataframe tbody tr th {\n",
       "        vertical-align: top;\n",
       "    }\n",
       "\n",
       "    .dataframe thead th {\n",
       "        text-align: right;\n",
       "    }\n",
       "</style>\n",
       "<table border=\"1\" class=\"dataframe\">\n",
       "  <thead>\n",
       "    <tr style=\"text-align: right;\">\n",
       "      <th></th>\n",
       "      <th>rooms</th>\n",
       "      <th>cityCenters_nearest</th>\n",
       "      <th>locality_name</th>\n",
       "      <th>total_area</th>\n",
       "      <th>living_area</th>\n",
       "      <th>kitchen_area</th>\n",
       "      <th>last_price</th>\n",
       "      <th>price_per_meter</th>\n",
       "      <th>days_exposition</th>\n",
       "      <th>floor</th>\n",
       "      <th>studio</th>\n",
       "      <th>open_plan</th>\n",
       "      <th>ratio_living_to_total</th>\n",
       "      <th>ratio_kitchen_to_total</th>\n",
       "    </tr>\n",
       "  </thead>\n",
       "  <tbody>\n",
       "    <tr>\n",
       "      <td>9861</td>\n",
       "      <td>0</td>\n",
       "      <td>nan</td>\n",
       "      <td>посёлок Мурино</td>\n",
       "      <td>25.00</td>\n",
       "      <td>25.00</td>\n",
       "      <td>nan</td>\n",
       "      <td>2,350,000.00</td>\n",
       "      <td>94,000.00</td>\n",
       "      <td>13.00</td>\n",
       "      <td>17</td>\n",
       "      <td>False</td>\n",
       "      <td>True</td>\n",
       "      <td>1.00</td>\n",
       "      <td>nan</td>\n",
       "    </tr>\n",
       "    <tr>\n",
       "      <td>12691</td>\n",
       "      <td>0</td>\n",
       "      <td>16,840.00</td>\n",
       "      <td>Санкт-Петербург</td>\n",
       "      <td>24.20</td>\n",
       "      <td>24.20</td>\n",
       "      <td>nan</td>\n",
       "      <td>3,700,000.00</td>\n",
       "      <td>152,892.56</td>\n",
       "      <td>74.00</td>\n",
       "      <td>13</td>\n",
       "      <td>False</td>\n",
       "      <td>True</td>\n",
       "      <td>1.00</td>\n",
       "      <td>nan</td>\n",
       "    </tr>\n",
       "  </tbody>\n",
       "</table>\n",
       "</div>"
      ],
      "text/plain": [
       "       rooms  cityCenters_nearest    locality_name  total_area  living_area  \\\n",
       "9861       0                  nan   посёлок Мурино       25.00        25.00   \n",
       "12691      0            16,840.00  Санкт-Петербург       24.20        24.20   \n",
       "\n",
       "       kitchen_area   last_price  price_per_meter  days_exposition  floor  \\\n",
       "9861            nan 2,350,000.00        94,000.00            13.00     17   \n",
       "12691           nan 3,700,000.00       152,892.56            74.00     13   \n",
       "\n",
       "       studio  open_plan  ratio_living_to_total  ratio_kitchen_to_total  \n",
       "9861    False       True                   1.00                     nan  \n",
       "12691   False       True                   1.00                     nan  "
      ]
     },
     "execution_count": 36,
     "metadata": {},
     "output_type": "execute_result"
    }
   ],
   "source": [
    "data[view_columns].query('ratio_living_to_total == 1')"
   ]
  },
  {
   "cell_type": "markdown",
   "metadata": {},
   "source": [
    "Свободная планировка, нет ванных, туалетов и, похоже, даже кухонь."
   ]
  },
  {
   "cell_type": "markdown",
   "metadata": {},
   "source": [
    "<font style=\"color:orange; font-size:200%\">•</font> Посмотрим на распределение соотношения площади кухни к общей площади"
   ]
  },
  {
   "cell_type": "code",
   "execution_count": 37,
   "metadata": {},
   "outputs": [
    {
     "data": {
      "text/plain": [
       "array([[<matplotlib.axes._subplots.AxesSubplot object at 0x7f3b0eec3310>]],\n",
       "      dtype=object)"
      ]
     },
     "execution_count": 37,
     "metadata": {},
     "output_type": "execute_result"
    },
    {
     "data": {
      "image/png": "[encoded data removed]",
      "text/plain": [
       "<Figure size 432x288 with 1 Axes>"
      ]
     },
     "metadata": {
      "needs_background": "light"
     },
     "output_type": "display_data"
    }
   ],
   "source": [
    "data.hist('ratio_kitchen_to_total', bins=100)"
   ]
  },
  {
   "cell_type": "markdown",
   "metadata": {},
   "source": [
    "Кое-где кухня занимает 80% площади квартиры."
   ]
  },
  {
   "cell_type": "code",
   "execution_count": 38,
   "metadata": {
    "scrolled": true
   },
   "outputs": [
    {
     "data": {
      "text/html": [
       "<div>\n",
       "<style scoped>\n",
       "    .dataframe tbody tr th:only-of-type {\n",
       "        vertical-align: middle;\n",
       "    }\n",
       "\n",
       "    .dataframe tbody tr th {\n",
       "        vertical-align: top;\n",
       "    }\n",
       "\n",
       "    .dataframe thead th {\n",
       "        text-align: right;\n",
       "    }\n",
       "</style>\n",
       "<table border=\"1\" class=\"dataframe\">\n",
       "  <thead>\n",
       "    <tr style=\"text-align: right;\">\n",
       "      <th></th>\n",
       "      <th>rooms</th>\n",
       "      <th>cityCenters_nearest</th>\n",
       "      <th>locality_name</th>\n",
       "      <th>total_area</th>\n",
       "      <th>living_area</th>\n",
       "      <th>kitchen_area</th>\n",
       "      <th>last_price</th>\n",
       "      <th>price_per_meter</th>\n",
       "      <th>days_exposition</th>\n",
       "      <th>floor</th>\n",
       "      <th>studio</th>\n",
       "      <th>open_plan</th>\n",
       "      <th>ratio_living_to_total</th>\n",
       "      <th>ratio_kitchen_to_total</th>\n",
       "    </tr>\n",
       "  </thead>\n",
       "  <tbody>\n",
       "    <tr>\n",
       "      <td>511</td>\n",
       "      <td>1</td>\n",
       "      <td>nan</td>\n",
       "      <td>посёлок Мурино</td>\n",
       "      <td>69.00</td>\n",
       "      <td>13.00</td>\n",
       "      <td>50.00</td>\n",
       "      <td>5,950,000.00</td>\n",
       "      <td>86,231.88</td>\n",
       "      <td>56.00</td>\n",
       "      <td>12</td>\n",
       "      <td>False</td>\n",
       "      <td>False</td>\n",
       "      <td>0.19</td>\n",
       "      <td>0.72</td>\n",
       "    </tr>\n",
       "    <tr>\n",
       "      <td>1407</td>\n",
       "      <td>1</td>\n",
       "      <td>16,414.00</td>\n",
       "      <td>Санкт-Петербург</td>\n",
       "      <td>24.60</td>\n",
       "      <td>18.00</td>\n",
       "      <td>18.20</td>\n",
       "      <td>3,250,000.00</td>\n",
       "      <td>132,113.82</td>\n",
       "      <td>96.00</td>\n",
       "      <td>16</td>\n",
       "      <td>False</td>\n",
       "      <td>False</td>\n",
       "      <td>0.73</td>\n",
       "      <td>0.74</td>\n",
       "    </tr>\n",
       "    <tr>\n",
       "      <td>7755</td>\n",
       "      <td>1</td>\n",
       "      <td>nan</td>\n",
       "      <td>поселок Мурино</td>\n",
       "      <td>20.67</td>\n",
       "      <td>14.95</td>\n",
       "      <td>14.95</td>\n",
       "      <td>1,811,250.00</td>\n",
       "      <td>87,627.00</td>\n",
       "      <td>98.00</td>\n",
       "      <td>13</td>\n",
       "      <td>False</td>\n",
       "      <td>False</td>\n",
       "      <td>0.72</td>\n",
       "      <td>0.72</td>\n",
       "    </tr>\n",
       "    <tr>\n",
       "      <td>11579</td>\n",
       "      <td>1</td>\n",
       "      <td>12,702.00</td>\n",
       "      <td>Санкт-Петербург</td>\n",
       "      <td>33.00</td>\n",
       "      <td>26.00</td>\n",
       "      <td>26.00</td>\n",
       "      <td>4,300,000.00</td>\n",
       "      <td>130,303.03</td>\n",
       "      <td>180.00</td>\n",
       "      <td>14</td>\n",
       "      <td>False</td>\n",
       "      <td>False</td>\n",
       "      <td>0.79</td>\n",
       "      <td>0.79</td>\n",
       "    </tr>\n",
       "    <tr>\n",
       "      <td>12481</td>\n",
       "      <td>3</td>\n",
       "      <td>nan</td>\n",
       "      <td>Коммунар</td>\n",
       "      <td>60.40</td>\n",
       "      <td>nan</td>\n",
       "      <td>43.20</td>\n",
       "      <td>3,000,000.00</td>\n",
       "      <td>49,668.87</td>\n",
       "      <td>234.00</td>\n",
       "      <td>2</td>\n",
       "      <td>False</td>\n",
       "      <td>False</td>\n",
       "      <td>nan</td>\n",
       "      <td>0.72</td>\n",
       "    </tr>\n",
       "  </tbody>\n",
       "</table>\n",
       "</div>"
      ],
      "text/plain": [
       "       rooms  cityCenters_nearest    locality_name  total_area  living_area  \\\n",
       "511        1                  nan   посёлок Мурино       69.00        13.00   \n",
       "1407       1            16,414.00  Санкт-Петербург       24.60        18.00   \n",
       "7755       1                  nan   поселок Мурино       20.67        14.95   \n",
       "11579      1            12,702.00  Санкт-Петербург       33.00        26.00   \n",
       "12481      3                  nan         Коммунар       60.40          nan   \n",
       "\n",
       "       kitchen_area   last_price  price_per_meter  days_exposition  floor  \\\n",
       "511           50.00 5,950,000.00        86,231.88            56.00     12   \n",
       "1407          18.20 3,250,000.00       132,113.82            96.00     16   \n",
       "7755          14.95 1,811,250.00        87,627.00            98.00     13   \n",
       "11579         26.00 4,300,000.00       130,303.03           180.00     14   \n",
       "12481         43.20 3,000,000.00        49,668.87           234.00      2   \n",
       "\n",
       "       studio  open_plan  ratio_living_to_total  ratio_kitchen_to_total  \n",
       "511     False      False                   0.19                    0.72  \n",
       "1407    False      False                   0.73                    0.74  \n",
       "7755    False      False                   0.72                    0.72  \n",
       "11579   False      False                   0.79                    0.79  \n",
       "12481   False      False                    nan                    0.72  "
      ]
     },
     "execution_count": 38,
     "metadata": {},
     "output_type": "execute_result"
    }
   ],
   "source": [
    "data[view_columns].query('ratio_kitchen_to_total > 0.7')"
   ]
  },
  {
   "cell_type": "markdown",
   "metadata": {},
   "source": [
    "В строке с индексом 12481, например, видим 3-х комнатную квартиру общей площадью 60,4 кв.м., 43,2 из которых занимает кухня. На оставшихся 17,2 должны поместиться еще 3 комнаты. Я бы тоже жилую площадь с такими параметрами не стала сразу указывать."
   ]
  },
  {
   "cell_type": "markdown",
   "metadata": {},
   "source": [
    "<font style=\"color:orange; font-size:200%\">•</font> Посмотрим на расстояние до центра."
   ]
  },
  {
   "cell_type": "code",
   "execution_count": 39,
   "metadata": {
    "scrolled": false
   },
   "outputs": [
    {
     "data": {
      "text/plain": [
       "<matplotlib.axes._subplots.AxesSubplot at 0x7f3b0eefc4d0>"
      ]
     },
     "execution_count": 39,
     "metadata": {},
     "output_type": "execute_result"
    },
    {
     "data": {
      "image/png": "[encoded data removed]",
      "text/plain": [
       "<Figure size 432x288 with 1 Axes>"
      ]
     },
     "metadata": {
      "needs_background": "light"
     },
     "output_type": "display_data"
    }
   ],
   "source": [
    "plt.ylim(0, 30000)\n",
    "data[['cityCenters_nearest']].boxplot()"
   ]
  },
  {
   "cell_type": "code",
   "execution_count": 40,
   "metadata": {},
   "outputs": [
    {
     "data": {
      "text/plain": [
       "array([[<matplotlib.axes._subplots.AxesSubplot object at 0x7f3b0efa6790>]],\n",
       "      dtype=object)"
      ]
     },
     "execution_count": 40,
     "metadata": {},
     "output_type": "execute_result"
    },
    {
     "data": {
      "image/png": "[encoded data removed]",
      "text/plain": [
       "<Figure size 432x288 with 1 Axes>"
      ]
     },
     "metadata": {
      "needs_background": "light"
     },
     "output_type": "display_data"
    }
   ],
   "source": [
    "data.hist('cityCenters_nearest', bins=100)"
   ]
  },
  {
   "cell_type": "markdown",
   "metadata": {},
   "source": [
    "Большинство квартир расположены в пределах 27 км от центра.\n",
    "\n",
    "Есть небольшой всплеск в районе 50 км."
   ]
  },
  {
   "cell_type": "code",
   "execution_count": 41,
   "metadata": {},
   "outputs": [
    {
     "data": {
      "text/plain": [
       "Ломоносов             123\n",
       "Кронштадт              95\n",
       "Петергоф               24\n",
       "Зеленогорск            24\n",
       "посёлок Молодёжное      5\n",
       "посёлок Репино          1\n",
       "Name: locality_name, dtype: int64"
      ]
     },
     "execution_count": 41,
     "metadata": {},
     "output_type": "execute_result"
    }
   ],
   "source": [
    "more_than_50km_data = data.query('cityCenters_nearest > 45000')\n",
    "more_than_50km_data['locality_name'].value_counts()"
   ]
  },
  {
   "cell_type": "markdown",
   "metadata": {},
   "source": [
    "Там находятся крупные города области. Оставим этот хвост в данных."
   ]
  },
  {
   "cell_type": "markdown",
   "metadata": {},
   "source": [
    "Разобъем расстояние до центра на группы."
   ]
  },
  {
   "cell_type": "code",
   "execution_count": 42,
   "metadata": {
    "scrolled": true
   },
   "outputs": [],
   "source": [
    "def Centers_nearest_group(meters):\n",
    "        if meters <= 6000:\n",
    "                return '0-6 км'\n",
    "        if meters <= 10000:\n",
    "                return '06-10 км'\n",
    "        if meters <= 20000:\n",
    "                return '10-20 км'\n",
    "        if meters <= 30000:\n",
    "                return '20-30 км'\n",
    "        if meters <= 40000:\n",
    "                return '30-40 км'\n",
    "        if meters <= 50000:\n",
    "                return '40-50 км'\n",
    "        if meters > 50000:\n",
    "                return 'более 50 км'\n",
    "            \n",
    "data['Centers_nearest_group'] = data['cityCenters_nearest'].apply(Centers_nearest_group)"
   ]
  },
  {
   "cell_type": "markdown",
   "metadata": {},
   "source": [
    "<font style=\"color:green; font-size:400%\">•</font> Мы изучаем типовые варианты, поэтому ограничим нашу выборку квартирами стоимостью до 12 млн. руб., площадью от 10 до 115 кв.м., количеством комнат до 6, стоимостью за метр 25-175 тыс., уберем студии, апартаменты и квартиры со свободной планировкой."
   ]
  },
  {
   "cell_type": "code",
   "execution_count": 43,
   "metadata": {
    "scrolled": false
   },
   "outputs": [
    {
     "name": "stdout",
     "output_type": "stream",
     "text": [
      "В типовой выборке осталось: 20835 квартир.\n"
     ]
    }
   ],
   "source": [
    "standard_data = data.query('last_price < 12000000 & total_area > 10 & total_area < 115 & rooms <= 6 & \\\n",
    "price_per_meter >= 25000 & price_per_meter <= 175000 & studio != True & open_plan != True & is_apartment != True')\n",
    "print('В типовой выборке осталось: {} квартир.'.format(len(standard_data)))"
   ]
  },
  {
   "cell_type": "markdown",
   "metadata": {},
   "source": [
    "Посмотрим на стоимость метра."
   ]
  },
  {
   "cell_type": "code",
   "execution_count": 44,
   "metadata": {},
   "outputs": [
    {
     "data": {
      "text/plain": [
       "array([[<matplotlib.axes._subplots.AxesSubplot object at 0x7f3b0ea4f690>]],\n",
       "      dtype=object)"
      ]
     },
     "execution_count": 44,
     "metadata": {},
     "output_type": "execute_result"
    },
    {
     "data": {
      "image/png": "[encoded data removed]",
      "text/plain": [
       "<Figure size 432x288 with 1 Axes>"
      ]
     },
     "metadata": {
      "needs_background": "light"
     },
     "output_type": "display_data"
    }
   ],
   "source": [
    "standard_data.hist('price_per_meter', bins=100)"
   ]
  },
  {
   "cell_type": "markdown",
   "metadata": {},
   "source": [
    "Теперь гистограмма стоимости метра похожа на график нормального распределения."
   ]
  },
  {
   "cell_type": "markdown",
   "metadata": {},
   "source": [
    "<font style=\"color:blue; font-size:400%\">•</font>Посмотрим, какие факторы больше всего влияют на стоимость квартиры."
   ]
  },
  {
   "cell_type": "code",
   "execution_count": 45,
   "metadata": {},
   "outputs": [
    {
     "data": {
      "text/html": [
       "<div>\n",
       "<style scoped>\n",
       "    .dataframe tbody tr th:only-of-type {\n",
       "        vertical-align: middle;\n",
       "    }\n",
       "\n",
       "    .dataframe tbody tr th {\n",
       "        vertical-align: top;\n",
       "    }\n",
       "\n",
       "    .dataframe thead th {\n",
       "        text-align: right;\n",
       "    }\n",
       "</style>\n",
       "<table border=\"1\" class=\"dataframe\">\n",
       "  <thead>\n",
       "    <tr style=\"text-align: right;\">\n",
       "      <th></th>\n",
       "      <th>price_per_meter</th>\n",
       "      <th>last_price</th>\n",
       "    </tr>\n",
       "  </thead>\n",
       "  <tbody>\n",
       "    <tr>\n",
       "      <td>last_price</td>\n",
       "      <td>0.61</td>\n",
       "      <td>1.00</td>\n",
       "    </tr>\n",
       "    <tr>\n",
       "      <td>rooms</td>\n",
       "      <td>-0.22</td>\n",
       "      <td>0.46</td>\n",
       "    </tr>\n",
       "    <tr>\n",
       "      <td>kitchen_area</td>\n",
       "      <td>0.23</td>\n",
       "      <td>0.48</td>\n",
       "    </tr>\n",
       "    <tr>\n",
       "      <td>cityCenters_nearest</td>\n",
       "      <td>-0.40</td>\n",
       "      <td>-0.34</td>\n",
       "    </tr>\n",
       "    <tr>\n",
       "      <td>price_per_meter</td>\n",
       "      <td>1.00</td>\n",
       "      <td>0.61</td>\n",
       "    </tr>\n",
       "  </tbody>\n",
       "</table>\n",
       "</div>"
      ],
      "text/plain": [
       "                     price_per_meter  last_price\n",
       "last_price                      0.61        1.00\n",
       "rooms                          -0.22        0.46\n",
       "kitchen_area                    0.23        0.48\n",
       "cityCenters_nearest            -0.40       -0.34\n",
       "price_per_meter                 1.00        0.61"
      ]
     },
     "execution_count": 45,
     "metadata": {},
     "output_type": "execute_result"
    }
   ],
   "source": [
    "corr_threshold = 0.2\n",
    "(\n",
    "    standard_data.corr()[['price_per_meter', 'last_price']]\n",
    "                 .query('abs(price_per_meter) > @corr_threshold and abs(last_price) > @corr_threshold') \n",
    ")"
   ]
  },
  {
   "cell_type": "markdown",
   "metadata": {},
   "source": [
    "Корреляция есть только между стоимостью квартиры и ценой за кв.м."
   ]
  },
  {
   "cell_type": "markdown",
   "metadata": {},
   "source": [
    "<font style=\"color:blue; font-size:200%\">•</font> Зависит ли цена квадратного метра от числа комнат?"
   ]
  },
  {
   "cell_type": "markdown",
   "metadata": {},
   "source": [
    "Корреляция до 0,2 очень слабая.  \n",
    "Посмотрим на зависимость стоимости метра от количества комнат."
   ]
  },
  {
   "cell_type": "code",
   "execution_count": 47,
   "metadata": {},
   "outputs": [
    {
     "name": "stderr",
     "output_type": "stream",
     "text": [
      "/opt/conda/lib/python3.7/site-packages/numpy/core/_asarray.py:83: VisibleDeprecationWarning: Creating an ndarray from ragged nested sequences (which is a list-or-tuple of lists-or-tuples-or ndarrays with different lengths or shapes) is deprecated. If you meant to do this, you must specify 'dtype=object' when creating the ndarray\n",
      "  return array(a, dtype, copy=False, order=order)\n"
     ]
    },
    {
     "data": {
      "image/png": "[encoded data removed]",
      "text/plain": [
       "<Figure size 432x288 with 1 Axes>"
      ]
     },
     "metadata": {
      "needs_background": "light"
     },
     "output_type": "display_data"
    }
   ],
   "source": [
    "plot = standard_data.boxplot('price_per_meter', by = 'rooms')"
   ]
  },
  {
   "cell_type": "markdown",
   "metadata": {},
   "source": [
    "На графике видно, что в 1-к квартирах стоимость метра самая высокая.  \n",
    "И дальше до 6 комнат стоимость за метр падает.  \n",
    "Нижняя граница до 5 комнат не поднимается выше 40 тыс.за метр, и только в 6-комн. квартирах не опускается ниже 70 тыс.за метр."
   ]
  },
  {
   "cell_type": "markdown",
   "metadata": {},
   "source": [
    "<font style=\"color:blue; font-size:200%\">•</font> Зависит ли цена квадратного метра от этажа?"
   ]
  },
  {
   "cell_type": "code",
   "execution_count": 49,
   "metadata": {},
   "outputs": [
    {
     "name": "stderr",
     "output_type": "stream",
     "text": [
      "/opt/conda/lib/python3.7/site-packages/numpy/core/_asarray.py:83: VisibleDeprecationWarning: Creating an ndarray from ragged nested sequences (which is a list-or-tuple of lists-or-tuples-or ndarrays with different lengths or shapes) is deprecated. If you meant to do this, you must specify 'dtype=object' when creating the ndarray\n",
      "  return array(a, dtype, copy=False, order=order)\n"
     ]
    },
    {
     "data": {
      "image/png": "[encoded data removed]",
      "text/plain": [
       "<Figure size 432x288 with 1 Axes>"
      ]
     },
     "metadata": {
      "needs_background": "light"
     },
     "output_type": "display_data"
    }
   ],
   "source": [
    "plot = standard_data.boxplot('price_per_meter', by = 'floor_category')"
   ]
  },
  {
   "cell_type": "markdown",
   "metadata": {},
   "source": [
    "Первый и последний этажи стоят дешевле, чем другие.  \n",
    "Кватиры на первом этаже дешевле квартир на последнем.  \n",
    "Верхняя граница стоимости за метр квартир на первом этаже не поднимается выше 150 тыс.за метр, в то время, как на последнем и других этажах находится примерно на одном уровне ~160 тыс."
   ]
  },
  {
   "cell_type": "markdown",
   "metadata": {},
   "source": [
    "<font style=\"color:blue; font-size:200%\">•</font> Зависит ли цена квадратного метра от удаленности от центра?"
   ]
  },
  {
   "cell_type": "code",
   "execution_count": 52,
   "metadata": {},
   "outputs": [
    {
     "data": {
      "image/png": "[encoded data removed]",
      "text/plain": [
       "<Figure size 432x288 with 1 Axes>"
      ]
     },
     "metadata": {
      "needs_background": "light"
     },
     "output_type": "display_data"
    }
   ],
   "source": [
    "plot = (\n",
    "    standard_data.pivot_table(index = 'cityCenters_nearest', \n",
    "                              values = 'price_per_meter', \n",
    "                              aggfunc = 'median')\n",
    "                 .reset_index() #извлекаем    cityCenters_nearest из индекса\n",
    "                 .plot(x = 'cityCenters_nearest', \n",
    "                       y = 'price_per_meter', \n",
    "                       kind = 'scatter', \n",
    "                       alpha = 0.1, \n",
    "                       grid = True)\n",
    ")"
   ]
  },
  {
   "cell_type": "markdown",
   "metadata": {},
   "source": [
    "При удалении от центра стоимость квадратного метра постепенно уменьшается.  \n",
    "Верхний порог цен со 180 тыс. в пределах 6 км от центра, опускается ниже 100 тыс. в 50 км.\n",
    "При этом нижний порог цен изменяется не так значительно, как верхний. Стоимость в 6 км от центра начинается от 75 тыс., а в 50 км от 60 тыс.  \n"
   ]
  },
  {
   "cell_type": "markdown",
   "metadata": {},
   "source": [
    "<font style=\"color:blue; font-size:200%\">•</font> Зависит ли цена квадратного метра от даты размещения: дня недели, месяца, года?"
   ]
  },
  {
   "cell_type": "code",
   "execution_count": 54,
   "metadata": {},
   "outputs": [
    {
     "name": "stderr",
     "output_type": "stream",
     "text": [
      "/opt/conda/lib/python3.7/site-packages/numpy/core/_asarray.py:83: VisibleDeprecationWarning: Creating an ndarray from ragged nested sequences (which is a list-or-tuple of lists-or-tuples-or ndarrays with different lengths or shapes) is deprecated. If you meant to do this, you must specify 'dtype=object' when creating the ndarray\n",
      "  return array(a, dtype, copy=False, order=order)\n"
     ]
    },
    {
     "data": {
      "image/png": "[encoded data removed]",
      "text/plain": [
       "<Figure size 432x288 with 1 Axes>"
      ]
     },
     "metadata": {
      "needs_background": "light"
     },
     "output_type": "display_data"
    }
   ],
   "source": [
    "plot = standard_data.boxplot('price_per_meter', by = 'week_day')"
   ]
  },
  {
   "cell_type": "markdown",
   "metadata": {},
   "source": [
    "В зависимости от дня недели стоимость метра колеблется незначительно."
   ]
  },
  {
   "cell_type": "code",
   "execution_count": 56,
   "metadata": {},
   "outputs": [
    {
     "name": "stderr",
     "output_type": "stream",
     "text": [
      "/opt/conda/lib/python3.7/site-packages/numpy/core/_asarray.py:83: VisibleDeprecationWarning: Creating an ndarray from ragged nested sequences (which is a list-or-tuple of lists-or-tuples-or ndarrays with different lengths or shapes) is deprecated. If you meant to do this, you must specify 'dtype=object' when creating the ndarray\n",
      "  return array(a, dtype, copy=False, order=order)\n"
     ]
    },
    {
     "data": {
      "image/png": "[encoded data removed]",
      "text/plain": [
       "<Figure size 432x288 with 1 Axes>"
      ]
     },
     "metadata": {
      "needs_background": "light"
     },
     "output_type": "display_data"
    }
   ],
   "source": [
    "plot = standard_data.boxplot('price_per_meter', by = 'month')"
   ]
  },
  {
   "cell_type": "markdown",
   "metadata": {},
   "source": [
    "Месяц размещения также не сильно влияет на стоимость.  \n",
    "В мае-июне цена за метр опускается чуть ниже, в апреле поднимается чуть выше.  \n",
    "Но в общем и целом без сильных скачков."
   ]
  },
  {
   "cell_type": "code",
   "execution_count": 58,
   "metadata": {},
   "outputs": [
    {
     "name": "stderr",
     "output_type": "stream",
     "text": [
      "/opt/conda/lib/python3.7/site-packages/numpy/core/_asarray.py:83: VisibleDeprecationWarning: Creating an ndarray from ragged nested sequences (which is a list-or-tuple of lists-or-tuples-or ndarrays with different lengths or shapes) is deprecated. If you meant to do this, you must specify 'dtype=object' when creating the ndarray\n",
      "  return array(a, dtype, copy=False, order=order)\n"
     ]
    },
    {
     "data": {
      "image/png": "[encoded data removed]",
      "text/plain": [
       "<Figure size 432x288 with 1 Axes>"
      ]
     },
     "metadata": {
      "needs_background": "light"
     },
     "output_type": "display_data"
    }
   ],
   "source": [
    "plot = standard_data.boxplot('price_per_meter', by = 'year')"
   ]
  },
  {
   "cell_type": "markdown",
   "metadata": {},
   "source": [
    "А вот по годам стоимость за метр менялась заметно.  \n",
    "С 2014 по 2016 год стоимость падала, а с 2017 по 2019 росла.  \n",
    "В 2019 году стоимость метра перегнала стоимость 2014 года."
   ]
  },
  {
   "cell_type": "markdown",
   "metadata": {},
   "source": [
    "<font style=\"color:DeepPink; font-size:400%\">•</font> Что можно сказать о цене квадратного метра в пригородах?\n",
    "\n",
    "Выберем 10 населенных пунктов с наибольшим числом объявлений."
   ]
  },
  {
   "cell_type": "code",
   "execution_count": 59,
   "metadata": {},
   "outputs": [
    {
     "data": {
      "text/html": [
       "<div>\n",
       "<style scoped>\n",
       "    .dataframe tbody tr th:only-of-type {\n",
       "        vertical-align: middle;\n",
       "    }\n",
       "\n",
       "    .dataframe tbody tr th {\n",
       "        vertical-align: top;\n",
       "    }\n",
       "\n",
       "    .dataframe thead th {\n",
       "        text-align: right;\n",
       "    }\n",
       "</style>\n",
       "<table border=\"1\" class=\"dataframe\">\n",
       "  <thead>\n",
       "    <tr style=\"text-align: right;\">\n",
       "      <th></th>\n",
       "      <th>count</th>\n",
       "      <th>median</th>\n",
       "    </tr>\n",
       "    <tr>\n",
       "      <th>locality_name</th>\n",
       "      <th></th>\n",
       "      <th></th>\n",
       "    </tr>\n",
       "  </thead>\n",
       "  <tbody>\n",
       "    <tr>\n",
       "      <td>Санкт-Петербург</td>\n",
       "      <td>13359</td>\n",
       "      <td>101,754.39</td>\n",
       "    </tr>\n",
       "    <tr>\n",
       "      <td>посёлок Мурино</td>\n",
       "      <td>495</td>\n",
       "      <td>84,239.13</td>\n",
       "    </tr>\n",
       "    <tr>\n",
       "      <td>посёлок Шушары</td>\n",
       "      <td>433</td>\n",
       "      <td>76,666.67</td>\n",
       "    </tr>\n",
       "    <tr>\n",
       "      <td>Всеволожск</td>\n",
       "      <td>388</td>\n",
       "      <td>65,789.47</td>\n",
       "    </tr>\n",
       "    <tr>\n",
       "      <td>Пушкин</td>\n",
       "      <td>337</td>\n",
       "      <td>98,471.99</td>\n",
       "    </tr>\n",
       "    <tr>\n",
       "      <td>Колпино</td>\n",
       "      <td>334</td>\n",
       "      <td>74,723.75</td>\n",
       "    </tr>\n",
       "    <tr>\n",
       "      <td>посёлок Парголово</td>\n",
       "      <td>321</td>\n",
       "      <td>91,917.59</td>\n",
       "    </tr>\n",
       "    <tr>\n",
       "      <td>Гатчина</td>\n",
       "      <td>301</td>\n",
       "      <td>67,924.53</td>\n",
       "    </tr>\n",
       "    <tr>\n",
       "      <td>деревня Кудрово</td>\n",
       "      <td>279</td>\n",
       "      <td>91,569.77</td>\n",
       "    </tr>\n",
       "    <tr>\n",
       "      <td>Выборг</td>\n",
       "      <td>224</td>\n",
       "      <td>58,233.01</td>\n",
       "    </tr>\n",
       "  </tbody>\n",
       "</table>\n",
       "</div>"
      ],
      "text/plain": [
       "                   count     median\n",
       "locality_name                      \n",
       "Санкт-Петербург    13359 101,754.39\n",
       "посёлок Мурино       495  84,239.13\n",
       "посёлок Шушары       433  76,666.67\n",
       "Всеволожск           388  65,789.47\n",
       "Пушкин               337  98,471.99\n",
       "Колпино              334  74,723.75\n",
       "посёлок Парголово    321  91,917.59\n",
       "Гатчина              301  67,924.53\n",
       "деревня Кудрово      279  91,569.77\n",
       "Выборг               224  58,233.01"
      ]
     },
     "execution_count": 59,
     "metadata": {},
     "output_type": "execute_result"
    }
   ],
   "source": [
    "locality_data = (standard_data\n",
    "    .pivot_table(index='locality_name', values='price_per_meter', aggfunc=['count', 'median'])\n",
    ")\n",
    "locality_data.columns = ['count', 'median']\n",
    "\n",
    "locality_top10 = locality_data.sort_values('count', ascending=False)[0:10]\n",
    "locality_top10"
   ]
  },
  {
   "cell_type": "code",
   "execution_count": 61,
   "metadata": {},
   "outputs": [],
   "source": [
    "filtered_data = standard_data.query('locality_name in @locality_top10.index')"
   ]
  },
  {
   "cell_type": "code",
   "execution_count": 62,
   "metadata": {},
   "outputs": [
    {
     "name": "stderr",
     "output_type": "stream",
     "text": [
      "/opt/conda/lib/python3.7/site-packages/numpy/core/_asarray.py:83: VisibleDeprecationWarning: Creating an ndarray from ragged nested sequences (which is a list-or-tuple of lists-or-tuples-or ndarrays with different lengths or shapes) is deprecated. If you meant to do this, you must specify 'dtype=object' when creating the ndarray\n",
      "  return array(a, dtype, copy=False, order=order)\n"
     ]
    },
    {
     "data": {
      "image/png": "[encoded data removed]",
      "text/plain": [
       "<Figure size 1080x432 with 1 Axes>"
      ]
     },
     "metadata": {
      "needs_background": "light"
     },
     "output_type": "display_data"
    }
   ],
   "source": [
    "plot = filtered_data.boxplot('price_per_meter', by = 'locality_name', figsize=(15,6), rot=90)"
   ]
  },
  {
   "cell_type": "markdown",
   "metadata": {},
   "source": [
    "Самая высокая стоимость квадратного метра в Санкт-Петербурге, самая низкая - в Выборге.  \n",
    "При этом мы видим, что есть общая стоимость квадратного метра для всех населенных пунктов: от 65 до 85 тыс.за кв.м. за которую можно найти квартру в любом городе из топ 10."
   ]
  },
  {
   "cell_type": "markdown",
   "metadata": {},
   "source": [
    "<font style=\"color:Gold; font-size:400%\">•</font> Выделим сегменты типичных квартир в центре и вне центра.\n",
    "\n",
    "<font style=\"color:Gold; font-size:200%\">•</font> Выше мы уже группировали данные на сегменты по удаленности от центра. Воспользуемся ими.\n",
    "\n",
    "Нам нужно выбирать достаточно крупные сегменты с не менее 1000 объявлений."
   ]
  },
  {
   "cell_type": "code",
   "execution_count": 63,
   "metadata": {},
   "outputs": [
    {
     "data": {
      "text/plain": [
       "1651"
      ]
     },
     "execution_count": 63,
     "metadata": {},
     "output_type": "execute_result"
    }
   ],
   "source": [
    "center_data = standard_data.query('Centers_nearest_group == \"0-6 км\"')\n",
    "len(center_data)"
   ]
  },
  {
   "cell_type": "code",
   "execution_count": 64,
   "metadata": {},
   "outputs": [
    {
     "data": {
      "text/plain": [
       "14086"
      ]
     },
     "execution_count": 64,
     "metadata": {},
     "output_type": "execute_result"
    }
   ],
   "source": [
    "not_center_data = standard_data.query('cityCenters_nearest > 6000')\n",
    "len(not_center_data)"
   ]
  },
  {
   "cell_type": "code",
   "execution_count": 67,
   "metadata": {},
   "outputs": [
    {
     "data": {
      "text/html": [
       "<div>\n",
       "<style scoped>\n",
       "    .dataframe tbody tr th:only-of-type {\n",
       "        vertical-align: middle;\n",
       "    }\n",
       "\n",
       "    .dataframe tbody tr th {\n",
       "        vertical-align: top;\n",
       "    }\n",
       "\n",
       "    .dataframe thead th {\n",
       "        text-align: right;\n",
       "    }\n",
       "</style>\n",
       "<table border=\"1\" class=\"dataframe\">\n",
       "  <thead>\n",
       "    <tr style=\"text-align: right;\">\n",
       "      <th></th>\n",
       "      <th>price_per_meter</th>\n",
       "    </tr>\n",
       "  </thead>\n",
       "  <tbody>\n",
       "    <tr>\n",
       "      <td>rooms</td>\n",
       "      <td>-0.50</td>\n",
       "    </tr>\n",
       "    <tr>\n",
       "      <td>living_area</td>\n",
       "      <td>-0.51</td>\n",
       "    </tr>\n",
       "    <tr>\n",
       "      <td>price_per_meter</td>\n",
       "      <td>1.00</td>\n",
       "    </tr>\n",
       "  </tbody>\n",
       "</table>\n",
       "</div>"
      ],
      "text/plain": [
       "                 price_per_meter\n",
       "rooms                      -0.50\n",
       "living_area                -0.51\n",
       "price_per_meter             1.00"
      ]
     },
     "execution_count": 67,
     "metadata": {},
     "output_type": "execute_result"
    }
   ],
   "source": [
    "corr_threshold = 0.5\n",
    "(center_data\n",
    "    .corr()[['price_per_meter']]              \n",
    "    .query('abs(price_per_meter) > @corr_threshold') \n",
    ")"
   ]
  },
  {
   "cell_type": "code",
   "execution_count": 68,
   "metadata": {},
   "outputs": [
    {
     "data": {
      "text/html": [
       "<div>\n",
       "<style scoped>\n",
       "    .dataframe tbody tr th:only-of-type {\n",
       "        vertical-align: middle;\n",
       "    }\n",
       "\n",
       "    .dataframe tbody tr th {\n",
       "        vertical-align: top;\n",
       "    }\n",
       "\n",
       "    .dataframe thead th {\n",
       "        text-align: right;\n",
       "    }\n",
       "</style>\n",
       "<table border=\"1\" class=\"dataframe\">\n",
       "  <thead>\n",
       "    <tr style=\"text-align: right;\">\n",
       "      <th></th>\n",
       "      <th>price_per_meter</th>\n",
       "    </tr>\n",
       "  </thead>\n",
       "  <tbody>\n",
       "    <tr>\n",
       "      <td>price_per_meter</td>\n",
       "      <td>1.00</td>\n",
       "    </tr>\n",
       "  </tbody>\n",
       "</table>\n",
       "</div>"
      ],
      "text/plain": [
       "                 price_per_meter\n",
       "price_per_meter             1.00"
      ]
     },
     "execution_count": 68,
     "metadata": {},
     "output_type": "execute_result"
    }
   ],
   "source": [
    "corr_threshold = 0.5\n",
    "(not_center_data\n",
    "    .corr()[['price_per_meter']]              \n",
    "    .query('abs(price_per_meter) > @corr_threshold') \n",
    ")"
   ]
  },
  {
   "cell_type": "markdown",
   "metadata": {},
   "source": [
    "<font style=\"color:Gold; font-size:200%\">•</font> В центре сильная корреляция стоимости метра с числом комнат и жилой площадью.<br>Вне центра такого не наблюдается."
   ]
  },
  {
   "cell_type": "markdown",
   "metadata": {},
   "source": [
    "Корреляция Пирсона, это индикатор линейной зависимости. Хорошо бы еще проверить нелинейные зависимости при помощи графиков."
   ]
  },
  {
   "cell_type": "code",
   "execution_count": 69,
   "metadata": {},
   "outputs": [
    {
     "data": {
      "image/png": "[encoded data removed]",
      "text/plain": [
       "<Figure size 432x288 with 1 Axes>"
      ]
     },
     "metadata": {
      "needs_background": "light"
     },
     "output_type": "display_data"
    }
   ],
   "source": [
    "report = standard_data.copy()\n",
    "report['segment'] = 'Область'\n",
    "report.loc[report['cityCenters_nearest'] <= 6000, 'segment'] = 'Центр'\n",
    "\n",
    "plot = (report.pivot_table(index= ['rooms', 'segment'], values = 'price_per_meter', aggfunc = 'median')\n",
    "              .pivot_table(index= ['rooms'], columns = ['segment'])\n",
    "              .droplevel(0, axis = 1)\n",
    "              .plot())"
   ]
  },
  {
   "cell_type": "markdown",
   "metadata": {},
   "source": [
    "На линейном графике можно заметить, что цена метра в центре в трешке сопоставима с ценой метра в однушке вне центра.  \n",
    "С ростом количества комнат, стоимость за метр падает."
   ]
  },
  {
   "cell_type": "markdown",
   "metadata": {},
   "source": [
    "<font style=\"color:MediumVioletRed; font-size:400%\">•</font> Подберем наиболее характерные параметры для апартаментов, студий и квартир свободной планировки."
   ]
  },
  {
   "cell_type": "code",
   "execution_count": 70,
   "metadata": {},
   "outputs": [
    {
     "data": {
      "text/plain": [
       "266"
      ]
     },
     "execution_count": 70,
     "metadata": {},
     "output_type": "execute_result"
    }
   ],
   "source": [
    "not_standard_data = data.query('is_apartment == True | studio == True | open_plan == True')\n",
    "len(not_standard_data)"
   ]
  },
  {
   "cell_type": "code",
   "execution_count": 71,
   "metadata": {
    "scrolled": true
   },
   "outputs": [
    {
     "data": {
      "text/html": [
       "<div>\n",
       "<style scoped>\n",
       "    .dataframe tbody tr th:only-of-type {\n",
       "        vertical-align: middle;\n",
       "    }\n",
       "\n",
       "    .dataframe tbody tr th {\n",
       "        vertical-align: top;\n",
       "    }\n",
       "\n",
       "    .dataframe thead th {\n",
       "        text-align: right;\n",
       "    }\n",
       "</style>\n",
       "<table border=\"1\" class=\"dataframe\">\n",
       "  <thead>\n",
       "    <tr style=\"text-align: right;\">\n",
       "      <th></th>\n",
       "      <th>rooms</th>\n",
       "      <th>cityCenters_nearest</th>\n",
       "      <th>total_area</th>\n",
       "      <th>last_price</th>\n",
       "      <th>price_per_meter</th>\n",
       "      <th>days_exposition</th>\n",
       "      <th>floor</th>\n",
       "    </tr>\n",
       "  </thead>\n",
       "  <tbody>\n",
       "    <tr>\n",
       "      <td>count</td>\n",
       "      <td>266.00</td>\n",
       "      <td>172.00</td>\n",
       "      <td>266.00</td>\n",
       "      <td>266.00</td>\n",
       "      <td>266.00</td>\n",
       "      <td>240.00</td>\n",
       "      <td>266.00</td>\n",
       "    </tr>\n",
       "    <tr>\n",
       "      <td>mean</td>\n",
       "      <td>0.51</td>\n",
       "      <td>13,730.01</td>\n",
       "      <td>40.54</td>\n",
       "      <td>5,343,585.27</td>\n",
       "      <td>116,125.83</td>\n",
       "      <td>133.24</td>\n",
       "      <td>7.73</td>\n",
       "    </tr>\n",
       "    <tr>\n",
       "      <td>std</td>\n",
       "      <td>1.06</td>\n",
       "      <td>7,252.13</td>\n",
       "      <td>44.97</td>\n",
       "      <td>9,414,578.39</td>\n",
       "      <td>59,050.75</td>\n",
       "      <td>216.89</td>\n",
       "      <td>6.05</td>\n",
       "    </tr>\n",
       "    <tr>\n",
       "      <td>min</td>\n",
       "      <td>0.00</td>\n",
       "      <td>318.00</td>\n",
       "      <td>15.50</td>\n",
       "      <td>945,750.00</td>\n",
       "      <td>34,375.00</td>\n",
       "      <td>3.00</td>\n",
       "      <td>1.00</td>\n",
       "    </tr>\n",
       "    <tr>\n",
       "      <td>25%</td>\n",
       "      <td>0.00</td>\n",
       "      <td>9,223.25</td>\n",
       "      <td>25.00</td>\n",
       "      <td>2,370,000.00</td>\n",
       "      <td>90,986.70</td>\n",
       "      <td>28.00</td>\n",
       "      <td>3.00</td>\n",
       "    </tr>\n",
       "    <tr>\n",
       "      <td>50%</td>\n",
       "      <td>0.00</td>\n",
       "      <td>13,496.50</td>\n",
       "      <td>27.45</td>\n",
       "      <td>3,100,000.00</td>\n",
       "      <td>106,238.55</td>\n",
       "      <td>51.00</td>\n",
       "      <td>6.00</td>\n",
       "    </tr>\n",
       "    <tr>\n",
       "      <td>75%</td>\n",
       "      <td>1.00</td>\n",
       "      <td>17,133.00</td>\n",
       "      <td>32.95</td>\n",
       "      <td>3,997,500.00</td>\n",
       "      <td>127,450.73</td>\n",
       "      <td>131.00</td>\n",
       "      <td>11.00</td>\n",
       "    </tr>\n",
       "    <tr>\n",
       "      <td>max</td>\n",
       "      <td>7.00</td>\n",
       "      <td>54,490.00</td>\n",
       "      <td>507.00</td>\n",
       "      <td>84,000,000.00</td>\n",
       "      <td>600,000.00</td>\n",
       "      <td>1,572.00</td>\n",
       "      <td>26.00</td>\n",
       "    </tr>\n",
       "  </tbody>\n",
       "</table>\n",
       "</div>"
      ],
      "text/plain": [
       "       rooms  cityCenters_nearest  total_area    last_price  price_per_meter  \\\n",
       "count 266.00               172.00      266.00        266.00           266.00   \n",
       "mean    0.51            13,730.01       40.54  5,343,585.27       116,125.83   \n",
       "std     1.06             7,252.13       44.97  9,414,578.39        59,050.75   \n",
       "min     0.00               318.00       15.50    945,750.00        34,375.00   \n",
       "25%     0.00             9,223.25       25.00  2,370,000.00        90,986.70   \n",
       "50%     0.00            13,496.50       27.45  3,100,000.00       106,238.55   \n",
       "75%     1.00            17,133.00       32.95  3,997,500.00       127,450.73   \n",
       "max     7.00            54,490.00      507.00 84,000,000.00       600,000.00   \n",
       "\n",
       "       days_exposition  floor  \n",
       "count           240.00 266.00  \n",
       "mean            133.24   7.73  \n",
       "std             216.89   6.05  \n",
       "min               3.00   1.00  \n",
       "25%              28.00   3.00  \n",
       "50%              51.00   6.00  \n",
       "75%             131.00  11.00  \n",
       "max           1,572.00  26.00  "
      ]
     },
     "execution_count": 71,
     "metadata": {},
     "output_type": "execute_result"
    }
   ],
   "source": [
    "not_standard_data[main_params].describe()"
   ]
  },
  {
   "cell_type": "markdown",
   "metadata": {},
   "source": [
    "<font style=\"color:MediumVioletRed; font-size:200%\">•</font> Посмотрим на стоимость квадратного метра."
   ]
  },
  {
   "cell_type": "code",
   "execution_count": 72,
   "metadata": {
    "scrolled": true
   },
   "outputs": [
    {
     "data": {
      "text/plain": [
       "<matplotlib.axes._subplots.AxesSubplot at 0x7f3b08a39510>"
      ]
     },
     "execution_count": 72,
     "metadata": {},
     "output_type": "execute_result"
    },
    {
     "data": {
      "image/png": "[encoded data removed]",
      "text/plain": [
       "<Figure size 432x288 with 1 Axes>"
      ]
     },
     "metadata": {
      "needs_background": "light"
     },
     "output_type": "display_data"
    }
   ],
   "source": [
    "plt.ylim(0, 200000)\n",
    "not_standard_data[['price_per_meter']].boxplot()"
   ]
  },
  {
   "cell_type": "markdown",
   "metadata": {},
   "source": [
    "<font style=\"background-color:yellow\">В характерный разброс попадают значения от 40 до 175 тыс.</font>"
   ]
  },
  {
   "cell_type": "markdown",
   "metadata": {},
   "source": [
    "Пик стоимости, как и у типовых квартир приходится на 100 тыс. за кв.м..  \n",
    "Основная масса продаваемых квартир сосредоточена между 50 и 175 тыс., у типовых квартир верхняя граница 250 тыс."
   ]
  },
  {
   "cell_type": "markdown",
   "metadata": {},
   "source": [
    "<font style=\"color:MediumVioletRed; font-size:200%\">•</font> Проведем анализ площади продаваемых квартир."
   ]
  },
  {
   "cell_type": "code",
   "execution_count": 73,
   "metadata": {
    "scrolled": true
   },
   "outputs": [
    {
     "data": {
      "text/plain": [
       "<matplotlib.axes._subplots.AxesSubplot at 0x7f3b090ef0d0>"
      ]
     },
     "execution_count": 73,
     "metadata": {},
     "output_type": "execute_result"
    },
    {
     "data": {
      "image/png": "[encoded data removed]",
      "text/plain": [
       "<Figure size 432x288 with 1 Axes>"
      ]
     },
     "metadata": {
      "needs_background": "light"
     },
     "output_type": "display_data"
    }
   ],
   "source": [
    "plt.ylim(10, 50)\n",
    "not_standard_data[['total_area']].boxplot()"
   ]
  },
  {
   "cell_type": "markdown",
   "metadata": {},
   "source": [
    "<font style=\"background-color:yellow\">В характерный разброс попадают значения от 15 до 45 кв.м..</font>"
   ]
  },
  {
   "cell_type": "markdown",
   "metadata": {},
   "source": [
    "<font style=\"color:MediumVioletRed; font-size:200%\">•</font> Посмотрим, как долго обычно висит объявление о продаже."
   ]
  },
  {
   "cell_type": "code",
   "execution_count": 74,
   "metadata": {
    "scrolled": true
   },
   "outputs": [
    {
     "data": {
      "text/plain": [
       "<matplotlib.axes._subplots.AxesSubplot at 0x7f3b08fd5350>"
      ]
     },
     "execution_count": 74,
     "metadata": {},
     "output_type": "execute_result"
    },
    {
     "data": {
      "image/png": "[encoded data removed]",
      "text/plain": [
       "<Figure size 432x288 with 1 Axes>"
      ]
     },
     "metadata": {
      "needs_background": "light"
     },
     "output_type": "display_data"
    }
   ],
   "source": [
    "plt.ylim(0, 300)\n",
    "not_standard_data[['days_exposition']].boxplot()"
   ]
  },
  {
   "cell_type": "markdown",
   "metadata": {},
   "source": [
    "Нетиповые квартиры продаются в основном в течение 280 дней."
   ]
  },
  {
   "cell_type": "markdown",
   "metadata": {},
   "source": [
    "<font style=\"color:MediumVioletRed; font-size:200%\">•</font> Посмотрим на распределение соотношения жилой площади к общей"
   ]
  },
  {
   "cell_type": "code",
   "execution_count": 75,
   "metadata": {},
   "outputs": [
    {
     "data": {
      "text/plain": [
       "<matplotlib.axes._subplots.AxesSubplot at 0x7f3b08fe6ad0>"
      ]
     },
     "execution_count": 75,
     "metadata": {},
     "output_type": "execute_result"
    },
    {
     "data": {
      "image/png": "[encoded data removed]",
      "text/plain": [
       "<Figure size 432x288 with 1 Axes>"
      ]
     },
     "metadata": {
      "needs_background": "light"
     },
     "output_type": "display_data"
    }
   ],
   "source": [
    "not_standard_data[['ratio_living_to_total']].boxplot()"
   ]
  },
  {
   "cell_type": "markdown",
   "metadata": {},
   "source": [
    "Соотношения  находится в промежутке от 0,4 до 0,8."
   ]
  },
  {
   "cell_type": "code",
   "execution_count": 76,
   "metadata": {
    "scrolled": false
   },
   "outputs": [
    {
     "name": "stdout",
     "output_type": "stream",
     "text": [
      "В нетиповой выборке осталось: 213 квартир.\n"
     ]
    }
   ],
   "source": [
    "not_standard_data_specific = not_standard_data.query('total_area > 15 & total_area < 45 & price_per_meter >= 40000 & \\\n",
    "price_per_meter <= 175000')\n",
    "print('В нетиповой выборке осталось: {} квартир.'.format(len(not_standard_data_specific)))"
   ]
  },
  {
   "cell_type": "markdown",
   "metadata": {},
   "source": [
    "<font style=\"color:DarkTurquoise; font-size:400%\">•</font> Сравним наиболее характерные параметры в не типовых и типовых квартирах."
   ]
  },
  {
   "cell_type": "code",
   "execution_count": 77,
   "metadata": {},
   "outputs": [
    {
     "data": {
      "text/html": [
       "<div>\n",
       "<style scoped>\n",
       "    .dataframe tbody tr th:only-of-type {\n",
       "        vertical-align: middle;\n",
       "    }\n",
       "\n",
       "    .dataframe tbody tr th {\n",
       "        vertical-align: top;\n",
       "    }\n",
       "\n",
       "    .dataframe thead th {\n",
       "        text-align: right;\n",
       "    }\n",
       "</style>\n",
       "<table border=\"1\" class=\"dataframe\">\n",
       "  <thead>\n",
       "    <tr style=\"text-align: right;\">\n",
       "      <th></th>\n",
       "      <th>rooms</th>\n",
       "      <th>cityCenters_nearest</th>\n",
       "      <th>total_area</th>\n",
       "      <th>last_price</th>\n",
       "      <th>price_per_meter</th>\n",
       "      <th>days_exposition</th>\n",
       "      <th>floor</th>\n",
       "    </tr>\n",
       "  </thead>\n",
       "  <tbody>\n",
       "    <tr>\n",
       "      <td>count</td>\n",
       "      <td>213.00</td>\n",
       "      <td>127.00</td>\n",
       "      <td>213.00</td>\n",
       "      <td>213.00</td>\n",
       "      <td>213.00</td>\n",
       "      <td>200.00</td>\n",
       "      <td>213.00</td>\n",
       "    </tr>\n",
       "    <tr>\n",
       "      <td>mean</td>\n",
       "      <td>0.12</td>\n",
       "      <td>14,076.26</td>\n",
       "      <td>27.12</td>\n",
       "      <td>2,883,706.16</td>\n",
       "      <td>106,760.76</td>\n",
       "      <td>109.36</td>\n",
       "      <td>8.60</td>\n",
       "    </tr>\n",
       "    <tr>\n",
       "      <td>std</td>\n",
       "      <td>0.34</td>\n",
       "      <td>4,955.32</td>\n",
       "      <td>5.00</td>\n",
       "      <td>835,828.26</td>\n",
       "      <td>24,885.48</td>\n",
       "      <td>160.27</td>\n",
       "      <td>6.31</td>\n",
       "    </tr>\n",
       "    <tr>\n",
       "      <td>min</td>\n",
       "      <td>0.00</td>\n",
       "      <td>2,111.00</td>\n",
       "      <td>15.50</td>\n",
       "      <td>945,750.00</td>\n",
       "      <td>48,133.24</td>\n",
       "      <td>3.00</td>\n",
       "      <td>1.00</td>\n",
       "    </tr>\n",
       "    <tr>\n",
       "      <td>25%</td>\n",
       "      <td>0.00</td>\n",
       "      <td>12,100.50</td>\n",
       "      <td>24.05</td>\n",
       "      <td>2,300,000.00</td>\n",
       "      <td>90,909.09</td>\n",
       "      <td>27.00</td>\n",
       "      <td>3.00</td>\n",
       "    </tr>\n",
       "    <tr>\n",
       "      <td>50%</td>\n",
       "      <td>0.00</td>\n",
       "      <td>14,069.00</td>\n",
       "      <td>26.23</td>\n",
       "      <td>2,700,000.00</td>\n",
       "      <td>105,058.37</td>\n",
       "      <td>45.00</td>\n",
       "      <td>7.00</td>\n",
       "    </tr>\n",
       "    <tr>\n",
       "      <td>75%</td>\n",
       "      <td>0.00</td>\n",
       "      <td>16,788.00</td>\n",
       "      <td>29.00</td>\n",
       "      <td>3,400,000.00</td>\n",
       "      <td>125,000.00</td>\n",
       "      <td>116.75</td>\n",
       "      <td>13.00</td>\n",
       "    </tr>\n",
       "    <tr>\n",
       "      <td>max</td>\n",
       "      <td>2.00</td>\n",
       "      <td>29,846.00</td>\n",
       "      <td>44.20</td>\n",
       "      <td>6,000,000.00</td>\n",
       "      <td>174,193.55</td>\n",
       "      <td>931.00</td>\n",
       "      <td>26.00</td>\n",
       "    </tr>\n",
       "  </tbody>\n",
       "</table>\n",
       "</div>"
      ],
      "text/plain": [
       "       rooms  cityCenters_nearest  total_area   last_price  price_per_meter  \\\n",
       "count 213.00               127.00      213.00       213.00           213.00   \n",
       "mean    0.12            14,076.26       27.12 2,883,706.16       106,760.76   \n",
       "std     0.34             4,955.32        5.00   835,828.26        24,885.48   \n",
       "min     0.00             2,111.00       15.50   945,750.00        48,133.24   \n",
       "25%     0.00            12,100.50       24.05 2,300,000.00        90,909.09   \n",
       "50%     0.00            14,069.00       26.23 2,700,000.00       105,058.37   \n",
       "75%     0.00            16,788.00       29.00 3,400,000.00       125,000.00   \n",
       "max     2.00            29,846.00       44.20 6,000,000.00       174,193.55   \n",
       "\n",
       "       days_exposition  floor  \n",
       "count           200.00 213.00  \n",
       "mean            109.36   8.60  \n",
       "std             160.27   6.31  \n",
       "min               3.00   1.00  \n",
       "25%              27.00   3.00  \n",
       "50%              45.00   7.00  \n",
       "75%             116.75  13.00  \n",
       "max             931.00  26.00  "
      ]
     },
     "execution_count": 77,
     "metadata": {},
     "output_type": "execute_result"
    }
   ],
   "source": [
    "not_standard_data_specific[main_params].describe()"
   ]
  },
  {
   "cell_type": "code",
   "execution_count": 78,
   "metadata": {
    "scrolled": false
   },
   "outputs": [
    {
     "data": {
      "text/html": [
       "<div>\n",
       "<style scoped>\n",
       "    .dataframe tbody tr th:only-of-type {\n",
       "        vertical-align: middle;\n",
       "    }\n",
       "\n",
       "    .dataframe tbody tr th {\n",
       "        vertical-align: top;\n",
       "    }\n",
       "\n",
       "    .dataframe thead th {\n",
       "        text-align: right;\n",
       "    }\n",
       "</style>\n",
       "<table border=\"1\" class=\"dataframe\">\n",
       "  <thead>\n",
       "    <tr style=\"text-align: right;\">\n",
       "      <th></th>\n",
       "      <th>rooms</th>\n",
       "      <th>cityCenters_nearest</th>\n",
       "      <th>total_area</th>\n",
       "      <th>last_price</th>\n",
       "      <th>price_per_meter</th>\n",
       "      <th>days_exposition</th>\n",
       "      <th>floor</th>\n",
       "    </tr>\n",
       "  </thead>\n",
       "  <tbody>\n",
       "    <tr>\n",
       "      <td>count</td>\n",
       "      <td>20,622.00</td>\n",
       "      <td>15,610.00</td>\n",
       "      <td>20,622.00</td>\n",
       "      <td>20,622.00</td>\n",
       "      <td>20,622.00</td>\n",
       "      <td>18,121.00</td>\n",
       "      <td>20,622.00</td>\n",
       "    </tr>\n",
       "    <tr>\n",
       "      <td>mean</td>\n",
       "      <td>1.82</td>\n",
       "      <td>1,003.34</td>\n",
       "      <td>25.95</td>\n",
       "      <td>1,979,139.65</td>\n",
       "      <td>-14,545.00</td>\n",
       "      <td>63.61</td>\n",
       "      <td>-2.68</td>\n",
       "    </tr>\n",
       "    <tr>\n",
       "      <td>std</td>\n",
       "      <td>0.54</td>\n",
       "      <td>3,558.50</td>\n",
       "      <td>12.78</td>\n",
       "      <td>1,316,508.60</td>\n",
       "      <td>2,361.74</td>\n",
       "      <td>50.42</td>\n",
       "      <td>-1.40</td>\n",
       "    </tr>\n",
       "    <tr>\n",
       "      <td>min</td>\n",
       "      <td>1.00</td>\n",
       "      <td>-1,903.00</td>\n",
       "      <td>-2.50</td>\n",
       "      <td>-195,750.00</td>\n",
       "      <td>-23,133.24</td>\n",
       "      <td>-2.00</td>\n",
       "      <td>0.00</td>\n",
       "    </tr>\n",
       "    <tr>\n",
       "      <td>25%</td>\n",
       "      <td>1.00</td>\n",
       "      <td>-1,380.50</td>\n",
       "      <td>15.05</td>\n",
       "      <td>1,080,888.50</td>\n",
       "      <td>-15,575.76</td>\n",
       "      <td>17.00</td>\n",
       "      <td>-1.00</td>\n",
       "    </tr>\n",
       "    <tr>\n",
       "      <td>50%</td>\n",
       "      <td>2.00</td>\n",
       "      <td>-378.00</td>\n",
       "      <td>23.47</td>\n",
       "      <td>1,750,000.00</td>\n",
       "      <td>-12,201.22</td>\n",
       "      <td>47.00</td>\n",
       "      <td>-3.00</td>\n",
       "    </tr>\n",
       "    <tr>\n",
       "      <td>75%</td>\n",
       "      <td>3.00</td>\n",
       "      <td>-47.00</td>\n",
       "      <td>34.60</td>\n",
       "      <td>2,590,000.00</td>\n",
       "      <td>-15,909.09</td>\n",
       "      <td>102.25</td>\n",
       "      <td>-5.00</td>\n",
       "    </tr>\n",
       "    <tr>\n",
       "      <td>max</td>\n",
       "      <td>4.00</td>\n",
       "      <td>36,122.00</td>\n",
       "      <td>70.60</td>\n",
       "      <td>5,999,000.00</td>\n",
       "      <td>739.07</td>\n",
       "      <td>649.00</td>\n",
       "      <td>7.00</td>\n",
       "    </tr>\n",
       "  </tbody>\n",
       "</table>\n",
       "</div>"
      ],
      "text/plain": [
       "          rooms  cityCenters_nearest  total_area   last_price  \\\n",
       "count 20,622.00            15,610.00   20,622.00    20,622.00   \n",
       "mean       1.82             1,003.34       25.95 1,979,139.65   \n",
       "std        0.54             3,558.50       12.78 1,316,508.60   \n",
       "min        1.00            -1,903.00       -2.50  -195,750.00   \n",
       "25%        1.00            -1,380.50       15.05 1,080,888.50   \n",
       "50%        2.00              -378.00       23.47 1,750,000.00   \n",
       "75%        3.00               -47.00       34.60 2,590,000.00   \n",
       "max        4.00            36,122.00       70.60 5,999,000.00   \n",
       "\n",
       "       price_per_meter  days_exposition     floor  \n",
       "count        20,622.00        18,121.00 20,622.00  \n",
       "mean        -14,545.00            63.61     -2.68  \n",
       "std           2,361.74            50.42     -1.40  \n",
       "min         -23,133.24            -2.00      0.00  \n",
       "25%         -15,575.76            17.00     -1.00  \n",
       "50%         -12,201.22            47.00     -3.00  \n",
       "75%         -15,909.09           102.25     -5.00  \n",
       "max             739.07           649.00      7.00  "
      ]
     },
     "execution_count": 78,
     "metadata": {},
     "output_type": "execute_result"
    }
   ],
   "source": [
    "standard_data[main_params].describe() - not_standard_data_specific[main_params].describe()"
   ]
  },
  {
   "cell_type": "markdown",
   "metadata": {},
   "source": [
    "<font style=\"color:DarkTurquoise; font-size:200%\">•</font> Сравним цену метра в не типовых и типовых квартирах."
   ]
  },
  {
   "cell_type": "code",
   "execution_count": 79,
   "metadata": {},
   "outputs": [
    {
     "data": {
      "image/png": "[encoded data removed]",
      "text/plain": [
       "<Figure size 720x360 with 2 Axes>"
      ]
     },
     "metadata": {
      "needs_background": "light"
     },
     "output_type": "display_data"
    }
   ],
   "source": [
    "plt.subplots(figsize = (10, 5))\n",
    "plot = (not_standard_data_specific[['price_per_meter']]\n",
    "        .boxplot(ax = plt.subplot(1, 2, 1))\n",
    "        .set_title('НЕ ТИПОВЫЕ')\n",
    "       )\n",
    "plot = (standard_data[['price_per_meter']]\n",
    "        .boxplot(ax = plt.subplot(1, 2, 2))\n",
    "        .set_title('типовые')\n",
    "       )"
   ]
  },
  {
   "cell_type": "markdown",
   "metadata": {},
   "source": [
    "Медианная цена за метр НЕ типовой квартиры 105 тыс, типовой - 93 тыс. Верхние и нижние границы распределения цены в не типовых квартирах также выше, чем в типовых.  "
   ]
  },
  {
   "cell_type": "markdown",
   "metadata": {},
   "source": [
    "<font style=\"color:DarkTurquoise; font-size:200%\">•</font> Сравним площади продаваемых квартир."
   ]
  },
  {
   "cell_type": "code",
   "execution_count": 80,
   "metadata": {},
   "outputs": [
    {
     "data": {
      "image/png": "[encoded data removed]",
      "text/plain": [
       "<Figure size 720x360 with 2 Axes>"
      ]
     },
     "metadata": {
      "needs_background": "light"
     },
     "output_type": "display_data"
    }
   ],
   "source": [
    "plt.subplots(figsize = (10, 5))\n",
    "plot = (not_standard_data_specific[['total_area']]\n",
    "        .boxplot(ax = plt.subplot(1, 2, 1))\n",
    "        .set_title('НЕ ТИПОВЫЕ')\n",
    "       )\n",
    "plot = (standard_data[['total_area']]\n",
    "        .boxplot(ax = plt.subplot(1, 2, 2))\n",
    "        .set_title('типовые')\n",
    "       )"
   ]
  },
  {
   "cell_type": "markdown",
   "metadata": {},
   "source": [
    "Площадь не типовых квартир меньше, чем типовых.  \n",
    "Весь характерный разброс типовых квартир уменьшается в первый квартиль (25%) характерного разброса площади типовых квартир. У 75% типовых квартир площадь больше, чем у не типовых."
   ]
  },
  {
   "cell_type": "markdown",
   "metadata": {},
   "source": [
    "<font style=\"color:DarkTurquoise; font-size:200%\">•</font> Сравним как долго висят объявления о продаже."
   ]
  },
  {
   "cell_type": "code",
   "execution_count": 81,
   "metadata": {
    "scrolled": true
   },
   "outputs": [
    {
     "data": {
      "image/png": "[encoded data removed]",
      "text/plain": [
       "<Figure size 720x360 with 2 Axes>"
      ]
     },
     "metadata": {
      "needs_background": "light"
     },
     "output_type": "display_data"
    }
   ],
   "source": [
    "plt.subplots(figsize = (10, 5))\n",
    "plot = (not_standard_data_specific[['days_exposition']]\n",
    "        .boxplot(ax = plt.subplot(1, 2, 1))\n",
    "        .set_title('НЕ ТИПОВЫЕ')\n",
    "       )\n",
    "plot = (standard_data[['days_exposition']]\n",
    "        .boxplot(ax = plt.subplot(1, 2, 2))\n",
    "        .set_title('типовые')\n",
    "       )"
   ]
  },
  {
   "cell_type": "markdown",
   "metadata": {},
   "source": [
    "Основная масса не типовых квартир продается до 200 дней, в то время, как 25% типовых квартир продаются дольше."
   ]
  },
  {
   "cell_type": "markdown",
   "metadata": {},
   "source": [
    "<font style=\"color:DarkTurquoise; font-size:200%\">•</font> Сравним распределение соотношения жилой площади к общей."
   ]
  },
  {
   "cell_type": "code",
   "execution_count": 82,
   "metadata": {
    "scrolled": true
   },
   "outputs": [
    {
     "data": {
      "image/png": "[encoded data removed]",
      "text/plain": [
       "<Figure size 720x360 with 2 Axes>"
      ]
     },
     "metadata": {
      "needs_background": "light"
     },
     "output_type": "display_data"
    }
   ],
   "source": [
    "plt.subplots(figsize = (10, 5))\n",
    "plot = (not_standard_data_specific[['ratio_living_to_total']]\n",
    "        .boxplot(ax = plt.subplot(1, 2, 1))\n",
    "        .set_title('НЕ ТИПОВЫЕ')\n",
    "       )\n",
    "plot = (standard_data[['ratio_living_to_total']]\n",
    "        .boxplot(ax = plt.subplot(1, 2, 2))\n",
    "        .set_title('типовые')\n",
    "       )"
   ]
  },
  {
   "cell_type": "markdown",
   "metadata": {},
   "source": [
    "В нетиповых квартирах медиана соотношения жилой площади к общей составляет - 0,69, а в типовых - 0,57.  \n",
    "В не типовых квартирах порог - 0,5, в типовых - 0,3. При этом верхний примерно на одном уровне.  \n",
    "Можно сделать вывод, что типовые квартиры комфортнее по соотношению жилой площади к общей площади квартиры."
   ]
  },
  {
   "cell_type": "markdown",
   "metadata": {},
   "source": [
    "<font style=\"color:DarkTurquoise; font-size:200%\">•</font> Посмотрим на стоимость метра в зависимости от удаленности от центра"
   ]
  },
  {
   "cell_type": "code",
   "execution_count": 83,
   "metadata": {},
   "outputs": [
    {
     "data": {
      "image/png": "[encoded data removed]",
      "text/plain": [
       "<Figure size 432x288 with 1 Axes>"
      ]
     },
     "metadata": {
      "needs_background": "light"
     },
     "output_type": "display_data"
    }
   ],
   "source": [
    "plot = (\n",
    "    not_standard_data_specific.pivot_table(index = 'cityCenters_nearest', \n",
    "                              values = 'price_per_meter', \n",
    "                              aggfunc = 'median')\n",
    "                 .reset_index()\n",
    "                 .plot(x = 'cityCenters_nearest', \n",
    "                       y = 'price_per_meter', \n",
    "                       kind = 'scatter', \n",
    "                       alpha = 0.5, \n",
    "                       grid = True)\n",
    "                 .set_title('НЕ ТИПОВЫЕ')\n",
    ")"
   ]
  },
  {
   "cell_type": "markdown",
   "metadata": {},
   "source": [
    "При удалении от центра стоимость квадратного метра постепенно уменьшается.  \n",
    "Большой разброс цен наблюдается на любом расстоянии от центра города."
   ]
  },
  {
   "cell_type": "markdown",
   "metadata": {},
   "source": [
    "## Общий вывод."
   ]
  },
  {
   "cell_type": "code",
   "execution_count": 84,
   "metadata": {},
   "outputs": [
    {
     "data": {
      "text/html": [
       "<div>\n",
       "<style scoped>\n",
       "    .dataframe tbody tr th:only-of-type {\n",
       "        vertical-align: middle;\n",
       "    }\n",
       "\n",
       "    .dataframe tbody tr th {\n",
       "        vertical-align: top;\n",
       "    }\n",
       "\n",
       "    .dataframe thead th {\n",
       "        text-align: right;\n",
       "    }\n",
       "</style>\n",
       "<table border=\"1\" class=\"dataframe\">\n",
       "  <thead>\n",
       "    <tr style=\"text-align: right;\">\n",
       "      <th></th>\n",
       "      <th>rooms</th>\n",
       "      <th>cityCenters_nearest</th>\n",
       "      <th>total_area</th>\n",
       "      <th>living_area</th>\n",
       "      <th>kitchen_area</th>\n",
       "      <th>last_price</th>\n",
       "      <th>price_per_meter</th>\n",
       "      <th>days_exposition</th>\n",
       "      <th>floor</th>\n",
       "      <th>ratio_living_to_total</th>\n",
       "      <th>ratio_kitchen_to_total</th>\n",
       "    </tr>\n",
       "  </thead>\n",
       "  <tbody>\n",
       "    <tr>\n",
       "      <td>count</td>\n",
       "      <td>20,835.00</td>\n",
       "      <td>15,737.00</td>\n",
       "      <td>20,835.00</td>\n",
       "      <td>19,236.00</td>\n",
       "      <td>19,058.00</td>\n",
       "      <td>20,835.00</td>\n",
       "      <td>20,835.00</td>\n",
       "      <td>18,321.00</td>\n",
       "      <td>20,835.00</td>\n",
       "      <td>19,236.00</td>\n",
       "      <td>19,058.00</td>\n",
       "    </tr>\n",
       "    <tr>\n",
       "      <td>mean</td>\n",
       "      <td>1.93</td>\n",
       "      <td>15,079.60</td>\n",
       "      <td>53.07</td>\n",
       "      <td>30.39</td>\n",
       "      <td>9.58</td>\n",
       "      <td>4,862,845.82</td>\n",
       "      <td>92,215.77</td>\n",
       "      <td>172.97</td>\n",
       "      <td>5.92</td>\n",
       "      <td>0.56</td>\n",
       "      <td>0.19</td>\n",
       "    </tr>\n",
       "    <tr>\n",
       "      <td>std</td>\n",
       "      <td>0.88</td>\n",
       "      <td>8,513.83</td>\n",
       "      <td>17.78</td>\n",
       "      <td>12.85</td>\n",
       "      <td>3.77</td>\n",
       "      <td>2,152,336.85</td>\n",
       "      <td>27,247.22</td>\n",
       "      <td>210.69</td>\n",
       "      <td>4.91</td>\n",
       "      <td>0.10</td>\n",
       "      <td>0.07</td>\n",
       "    </tr>\n",
       "    <tr>\n",
       "      <td>min</td>\n",
       "      <td>1.00</td>\n",
       "      <td>208.00</td>\n",
       "      <td>13.00</td>\n",
       "      <td>2.00</td>\n",
       "      <td>1.30</td>\n",
       "      <td>750,000.00</td>\n",
       "      <td>25,000.00</td>\n",
       "      <td>1.00</td>\n",
       "      <td>1.00</td>\n",
       "      <td>0.04</td>\n",
       "      <td>0.04</td>\n",
       "    </tr>\n",
       "    <tr>\n",
       "      <td>25%</td>\n",
       "      <td>1.00</td>\n",
       "      <td>10,720.00</td>\n",
       "      <td>39.10</td>\n",
       "      <td>18.10</td>\n",
       "      <td>7.00</td>\n",
       "      <td>3,380,888.50</td>\n",
       "      <td>75,333.33</td>\n",
       "      <td>44.00</td>\n",
       "      <td>2.00</td>\n",
       "      <td>0.49</td>\n",
       "      <td>0.14</td>\n",
       "    </tr>\n",
       "    <tr>\n",
       "      <td>50%</td>\n",
       "      <td>2.00</td>\n",
       "      <td>13,691.00</td>\n",
       "      <td>49.70</td>\n",
       "      <td>29.20</td>\n",
       "      <td>9.00</td>\n",
       "      <td>4,450,000.00</td>\n",
       "      <td>92,857.14</td>\n",
       "      <td>92.00</td>\n",
       "      <td>4.00</td>\n",
       "      <td>0.57</td>\n",
       "      <td>0.18</td>\n",
       "    </tr>\n",
       "    <tr>\n",
       "      <td>75%</td>\n",
       "      <td>3.00</td>\n",
       "      <td>16,741.00</td>\n",
       "      <td>63.60</td>\n",
       "      <td>39.20</td>\n",
       "      <td>11.00</td>\n",
       "      <td>5,990,000.00</td>\n",
       "      <td>109,090.91</td>\n",
       "      <td>219.00</td>\n",
       "      <td>8.00</td>\n",
       "      <td>0.63</td>\n",
       "      <td>0.23</td>\n",
       "    </tr>\n",
       "    <tr>\n",
       "      <td>max</td>\n",
       "      <td>6.00</td>\n",
       "      <td>65,968.00</td>\n",
       "      <td>114.80</td>\n",
       "      <td>93.60</td>\n",
       "      <td>50.00</td>\n",
       "      <td>11,999,000.00</td>\n",
       "      <td>174,932.61</td>\n",
       "      <td>1,580.00</td>\n",
       "      <td>33.00</td>\n",
       "      <td>0.98</td>\n",
       "      <td>0.79</td>\n",
       "    </tr>\n",
       "  </tbody>\n",
       "</table>\n",
       "</div>"
      ],
      "text/plain": [
       "          rooms  cityCenters_nearest  total_area  living_area  kitchen_area  \\\n",
       "count 20,835.00            15,737.00   20,835.00    19,236.00     19,058.00   \n",
       "mean       1.93            15,079.60       53.07        30.39          9.58   \n",
       "std        0.88             8,513.83       17.78        12.85          3.77   \n",
       "min        1.00               208.00       13.00         2.00          1.30   \n",
       "25%        1.00            10,720.00       39.10        18.10          7.00   \n",
       "50%        2.00            13,691.00       49.70        29.20          9.00   \n",
       "75%        3.00            16,741.00       63.60        39.20         11.00   \n",
       "max        6.00            65,968.00      114.80        93.60         50.00   \n",
       "\n",
       "         last_price  price_per_meter  days_exposition     floor  \\\n",
       "count     20,835.00        20,835.00        18,321.00 20,835.00   \n",
       "mean   4,862,845.82        92,215.77           172.97      5.92   \n",
       "std    2,152,336.85        27,247.22           210.69      4.91   \n",
       "min      750,000.00        25,000.00             1.00      1.00   \n",
       "25%    3,380,888.50        75,333.33            44.00      2.00   \n",
       "50%    4,450,000.00        92,857.14            92.00      4.00   \n",
       "75%    5,990,000.00       109,090.91           219.00      8.00   \n",
       "max   11,999,000.00       174,932.61         1,580.00     33.00   \n",
       "\n",
       "       ratio_living_to_total  ratio_kitchen_to_total  \n",
       "count              19,236.00               19,058.00  \n",
       "mean                    0.56                    0.19  \n",
       "std                     0.10                    0.07  \n",
       "min                     0.04                    0.04  \n",
       "25%                     0.49                    0.14  \n",
       "50%                     0.57                    0.18  \n",
       "75%                     0.63                    0.23  \n",
       "max                     0.98                    0.79  "
      ]
     },
     "execution_count": 84,
     "metadata": {},
     "output_type": "execute_result"
    }
   ],
   "source": [
    "standard_data[view_columns].describe()"
   ]
  },
  {
   "cell_type": "markdown",
   "metadata": {},
   "source": [
    "<font style=\"color:DarkTurquoise; font-size:200%\">•</font> **Портрет типовой квартиры:**  \n",
    "\n",
    "Стоимость - 4,5 млн.  \n",
    "Цена за метр - 93 тыс.  \n",
    "Площадь - 50 кв.м.  \n",
    "Жилая площадь - 29 кв.м. (отношение жилой пл.к общей - 0,57)  \n",
    "Количество комнат - 2  \n",
    "Этаж - 4  \n",
    "Расстояние до центра - 14 км  \n",
    "Объявление о продаже размещается в течение - 92 дней."
   ]
  },
  {
   "cell_type": "markdown",
   "metadata": {},
   "source": [
    "<font style=\"color:DarkTurquoise; font-size:200%\">•</font> В наших данных были космически дорогие квартиры за 763 млн. и 12 тыс., площадью от 12 до 900 кв.м. С 19 комнатами. В 181 м и 66 км от центра.  \n",
    "Эти крайности мы не изучали."
   ]
  },
  {
   "cell_type": "markdown",
   "metadata": {},
   "source": [
    "<font style=\"color:DarkTurquoise; font-size:200%\">•</font> Изучали мы типовые варианты квартир.\n",
    "\n",
    "**Выводы:**\n",
    "\n",
    "- С увеличением числа комнат - стоимость за метр падает.  \n",
    "- Первый и последний этажи стоят дешевле, чем другие.\n",
    "- Чем дальше квартира от центра, тем дешевле стоит метр.  \n",
    "- С 2014 по 2016 год стоимость за метр падала, а с 2017 по 2019 росла и в 2019 году стоимость метра перегнала стоимость 2014 года."
   ]
  },
  {
   "cell_type": "markdown",
   "metadata": {},
   "source": [
    "<font style=\"color:DarkTurquoise; font-size:200%\">•</font> При расмотрении типичных квартир в центре и вне центра мы обнаружили сильную корреляцию стоимости метра с числом комнат и жилой площадью в центре.  \n",
    "Вне центра такого не наблюдается."
   ]
  },
  {
   "cell_type": "markdown",
   "metadata": {},
   "source": [
    "<font style=\"color:DarkTurquoise; font-size:200%\">•</font> Также мы изучили квартиры с не типовой планировкой: студии, апартаменты, квартиры со свободной планировкой и сравнили их с типовыми квартирами.\n",
    "\n",
    "Цена за метр НЕ типовой выше, чем типовой.  \n",
    "При этом площадь не типовых квартир меньше, чем типовых.  \n",
    "И хотя не типовые квартиры продаются быстрее типовых, типовые квартиры комфортнее по соотношению жилой площади к общей площади квартиры."
   ]
  }
 ],
 "metadata": {
  "hide_input": false,
  "kernelspec": {
   "display_name": "Python 3",
   "language": "python",
   "name": "python3"
  },
  "language_info": {
   "codemirror_mode": {
    "name": "ipython",
    "version": 3
   },
   "file_extension": ".py",
   "mimetype": "text/x-python",
   "name": "python",
   "nbconvert_exporter": "python",
   "pygments_lexer": "ipython3",
   "version": "3.7.6"
  },
  "toc": {
   "base_numbering": 1,
   "nav_menu": {
    "height": "235px",
    "width": "815px"
   },
   "number_sections": true,
   "sideBar": true,
   "skip_h1_title": false,
   "title_cell": "Table of Contents",
   "title_sidebar": "Contents",
   "toc_cell": false,
   "toc_position": {},
   "toc_section_display": true,
   "toc_window_display": false
  },
  "varInspector": {
   "cols": {
    "lenName": 16,
    "lenType": 16,
    "lenVar": 40
   },
   "kernels_config": {
    "python": {
     "delete_cmd_postfix": "",
     "delete_cmd_prefix": "del ",
     "library": "var_list.py",
     "varRefreshCmd": "print(var_dic_list())"
    },
    "r": {
     "delete_cmd_postfix": ") ",
     "delete_cmd_prefix": "rm(",
     "library": "var_list.r",
     "varRefreshCmd": "cat(var_dic_list()) "
    }
   },
   "types_to_exclude": [
    "module",
    "function",
    "builtin_function_or_method",
    "instance",
    "_Feature"
   ],
   "window_display": false
  }
 },
 "nbformat": 4,
 "nbformat_minor": 2
}
